{
 "cells": [
  {
   "cell_type": "markdown",
   "id": "7e1064f6",
   "metadata": {},
   "source": [
    "# Набор данных для выявления спам-писем"
   ]
  },
  {
   "cell_type": "markdown",
   "id": "7cfe2a63",
   "metadata": {},
   "source": [
    "# Описание задачи"
   ]
  },
  {
   "cell_type": "markdown",
   "id": "d2d53134",
   "metadata": {},
   "source": [
    "Этот набор данных содержит характеристики электронных писем. Он включает в себя такие признкаки, как частота появления в письме различных слов, отдельных символов, длины текста в заглавной раскладке. В зависимости от значений этих признаков письмо или определяется в категорию \"спам\", или нет."
   ]
  },
  {
   "cell_type": "markdown",
   "id": "8141e804",
   "metadata": {},
   "source": [
    "# Чтение данных"
   ]
  },
  {
   "cell_type": "markdown",
   "id": "ba2dfc82",
   "metadata": {},
   "source": [
    "Подключение необходимых библиотек"
   ]
  },
  {
   "cell_type": "code",
   "execution_count": 1,
   "id": "ccd346b0",
   "metadata": {},
   "outputs": [],
   "source": [
    "import numpy             \n",
    "import pandas # для таблиц\n",
    "import matplotlib.pyplot as pyplot            \n",
    "import seaborn # для визуализации\n",
    "import sklearn      \n"
   ]
  },
  {
   "cell_type": "markdown",
   "id": "e93be7e4",
   "metadata": {},
   "source": [
    "Загрузка данных"
   ]
  },
  {
   "cell_type": "code",
   "execution_count": 2,
   "id": "d218ec94",
   "metadata": {},
   "outputs": [
    {
     "data": {
      "text/plain": [
       "(4601, 58)"
      ]
     },
     "execution_count": 2,
     "metadata": {},
     "output_type": "execute_result"
    }
   ],
   "source": [
    "url = 'https://github.com/molevmichail/machine-learning/blob/main/spambase.csv'\n",
    "data = pandas.read_csv(url)\n",
    "data.shape"
   ]
  },
  {
   "cell_type": "markdown",
   "id": "23c88cd4",
   "metadata": {},
   "source": [
    "В текущем наборе данных содержится информация о 4601-м объектах, разделённая на 57 признаков."
   ]
  },
  {
   "cell_type": "markdown",
   "id": "af09e203",
   "metadata": {},
   "source": [
    "Чтение данных"
   ]
  },
  {
   "cell_type": "code",
   "execution_count": 3,
   "id": "c27203af",
   "metadata": {},
   "outputs": [
    {
     "data": {
      "text/html": [
       "<div>\n",
       "<style scoped>\n",
       "    .dataframe tbody tr th:only-of-type {\n",
       "        vertical-align: middle;\n",
       "    }\n",
       "\n",
       "    .dataframe tbody tr th {\n",
       "        vertical-align: top;\n",
       "    }\n",
       "\n",
       "    .dataframe thead th {\n",
       "        text-align: right;\n",
       "    }\n",
       "</style>\n",
       "<table border=\"1\" class=\"dataframe\">\n",
       "  <thead>\n",
       "    <tr style=\"text-align: right;\">\n",
       "      <th></th>\n",
       "      <th>word_freq_make</th>\n",
       "      <th>word_freq_address</th>\n",
       "      <th>word_freq_all</th>\n",
       "      <th>word_freq_3d</th>\n",
       "      <th>word_freq_our</th>\n",
       "      <th>word_freq_over</th>\n",
       "      <th>word_freq_remove</th>\n",
       "      <th>word_freq_internet</th>\n",
       "      <th>word_freq_order</th>\n",
       "      <th>word_freq_mail</th>\n",
       "      <th>...</th>\n",
       "      <th>char_freq_;</th>\n",
       "      <th>char_freq_(</th>\n",
       "      <th>char_freq_[</th>\n",
       "      <th>char_freq_!</th>\n",
       "      <th>char_freq_$</th>\n",
       "      <th>char_freq_#</th>\n",
       "      <th>capital_run_length_average</th>\n",
       "      <th>capital_run_length_longest</th>\n",
       "      <th>capital_run_length_total</th>\n",
       "      <th>is_spam</th>\n",
       "    </tr>\n",
       "  </thead>\n",
       "  <tbody>\n",
       "    <tr>\n",
       "      <th>0</th>\n",
       "      <td>0.00</td>\n",
       "      <td>0.64</td>\n",
       "      <td>0.64</td>\n",
       "      <td>0.0</td>\n",
       "      <td>0.32</td>\n",
       "      <td>0.00</td>\n",
       "      <td>0.00</td>\n",
       "      <td>0.00</td>\n",
       "      <td>0.00</td>\n",
       "      <td>0.00</td>\n",
       "      <td>...</td>\n",
       "      <td>0.000</td>\n",
       "      <td>0.000</td>\n",
       "      <td>0.0</td>\n",
       "      <td>0.778</td>\n",
       "      <td>0.000</td>\n",
       "      <td>0.000</td>\n",
       "      <td>3.756</td>\n",
       "      <td>61</td>\n",
       "      <td>278</td>\n",
       "      <td>1</td>\n",
       "    </tr>\n",
       "    <tr>\n",
       "      <th>1</th>\n",
       "      <td>0.21</td>\n",
       "      <td>0.28</td>\n",
       "      <td>0.50</td>\n",
       "      <td>0.0</td>\n",
       "      <td>0.14</td>\n",
       "      <td>0.28</td>\n",
       "      <td>0.21</td>\n",
       "      <td>0.07</td>\n",
       "      <td>0.00</td>\n",
       "      <td>0.94</td>\n",
       "      <td>...</td>\n",
       "      <td>0.000</td>\n",
       "      <td>0.132</td>\n",
       "      <td>0.0</td>\n",
       "      <td>0.372</td>\n",
       "      <td>0.180</td>\n",
       "      <td>0.048</td>\n",
       "      <td>5.114</td>\n",
       "      <td>101</td>\n",
       "      <td>1028</td>\n",
       "      <td>1</td>\n",
       "    </tr>\n",
       "    <tr>\n",
       "      <th>2</th>\n",
       "      <td>0.06</td>\n",
       "      <td>0.00</td>\n",
       "      <td>0.71</td>\n",
       "      <td>0.0</td>\n",
       "      <td>1.23</td>\n",
       "      <td>0.19</td>\n",
       "      <td>0.19</td>\n",
       "      <td>0.12</td>\n",
       "      <td>0.64</td>\n",
       "      <td>0.25</td>\n",
       "      <td>...</td>\n",
       "      <td>0.010</td>\n",
       "      <td>0.143</td>\n",
       "      <td>0.0</td>\n",
       "      <td>0.276</td>\n",
       "      <td>0.184</td>\n",
       "      <td>0.010</td>\n",
       "      <td>9.821</td>\n",
       "      <td>485</td>\n",
       "      <td>2259</td>\n",
       "      <td>1</td>\n",
       "    </tr>\n",
       "    <tr>\n",
       "      <th>3</th>\n",
       "      <td>0.00</td>\n",
       "      <td>0.00</td>\n",
       "      <td>0.00</td>\n",
       "      <td>0.0</td>\n",
       "      <td>0.63</td>\n",
       "      <td>0.00</td>\n",
       "      <td>0.31</td>\n",
       "      <td>0.63</td>\n",
       "      <td>0.31</td>\n",
       "      <td>0.63</td>\n",
       "      <td>...</td>\n",
       "      <td>0.000</td>\n",
       "      <td>0.137</td>\n",
       "      <td>0.0</td>\n",
       "      <td>0.137</td>\n",
       "      <td>0.000</td>\n",
       "      <td>0.000</td>\n",
       "      <td>3.537</td>\n",
       "      <td>40</td>\n",
       "      <td>191</td>\n",
       "      <td>1</td>\n",
       "    </tr>\n",
       "    <tr>\n",
       "      <th>4</th>\n",
       "      <td>0.00</td>\n",
       "      <td>0.00</td>\n",
       "      <td>0.00</td>\n",
       "      <td>0.0</td>\n",
       "      <td>0.63</td>\n",
       "      <td>0.00</td>\n",
       "      <td>0.31</td>\n",
       "      <td>0.63</td>\n",
       "      <td>0.31</td>\n",
       "      <td>0.63</td>\n",
       "      <td>...</td>\n",
       "      <td>0.000</td>\n",
       "      <td>0.135</td>\n",
       "      <td>0.0</td>\n",
       "      <td>0.135</td>\n",
       "      <td>0.000</td>\n",
       "      <td>0.000</td>\n",
       "      <td>3.537</td>\n",
       "      <td>40</td>\n",
       "      <td>191</td>\n",
       "      <td>1</td>\n",
       "    </tr>\n",
       "    <tr>\n",
       "      <th>...</th>\n",
       "      <td>...</td>\n",
       "      <td>...</td>\n",
       "      <td>...</td>\n",
       "      <td>...</td>\n",
       "      <td>...</td>\n",
       "      <td>...</td>\n",
       "      <td>...</td>\n",
       "      <td>...</td>\n",
       "      <td>...</td>\n",
       "      <td>...</td>\n",
       "      <td>...</td>\n",
       "      <td>...</td>\n",
       "      <td>...</td>\n",
       "      <td>...</td>\n",
       "      <td>...</td>\n",
       "      <td>...</td>\n",
       "      <td>...</td>\n",
       "      <td>...</td>\n",
       "      <td>...</td>\n",
       "      <td>...</td>\n",
       "      <td>...</td>\n",
       "    </tr>\n",
       "    <tr>\n",
       "      <th>4596</th>\n",
       "      <td>0.31</td>\n",
       "      <td>0.00</td>\n",
       "      <td>0.62</td>\n",
       "      <td>0.0</td>\n",
       "      <td>0.00</td>\n",
       "      <td>0.31</td>\n",
       "      <td>0.00</td>\n",
       "      <td>0.00</td>\n",
       "      <td>0.00</td>\n",
       "      <td>0.00</td>\n",
       "      <td>...</td>\n",
       "      <td>0.000</td>\n",
       "      <td>0.232</td>\n",
       "      <td>0.0</td>\n",
       "      <td>0.000</td>\n",
       "      <td>0.000</td>\n",
       "      <td>0.000</td>\n",
       "      <td>1.142</td>\n",
       "      <td>3</td>\n",
       "      <td>88</td>\n",
       "      <td>0</td>\n",
       "    </tr>\n",
       "    <tr>\n",
       "      <th>4597</th>\n",
       "      <td>0.00</td>\n",
       "      <td>0.00</td>\n",
       "      <td>0.00</td>\n",
       "      <td>0.0</td>\n",
       "      <td>0.00</td>\n",
       "      <td>0.00</td>\n",
       "      <td>0.00</td>\n",
       "      <td>0.00</td>\n",
       "      <td>0.00</td>\n",
       "      <td>0.00</td>\n",
       "      <td>...</td>\n",
       "      <td>0.000</td>\n",
       "      <td>0.000</td>\n",
       "      <td>0.0</td>\n",
       "      <td>0.353</td>\n",
       "      <td>0.000</td>\n",
       "      <td>0.000</td>\n",
       "      <td>1.555</td>\n",
       "      <td>4</td>\n",
       "      <td>14</td>\n",
       "      <td>0</td>\n",
       "    </tr>\n",
       "    <tr>\n",
       "      <th>4598</th>\n",
       "      <td>0.30</td>\n",
       "      <td>0.00</td>\n",
       "      <td>0.30</td>\n",
       "      <td>0.0</td>\n",
       "      <td>0.00</td>\n",
       "      <td>0.00</td>\n",
       "      <td>0.00</td>\n",
       "      <td>0.00</td>\n",
       "      <td>0.00</td>\n",
       "      <td>0.00</td>\n",
       "      <td>...</td>\n",
       "      <td>0.102</td>\n",
       "      <td>0.718</td>\n",
       "      <td>0.0</td>\n",
       "      <td>0.000</td>\n",
       "      <td>0.000</td>\n",
       "      <td>0.000</td>\n",
       "      <td>1.404</td>\n",
       "      <td>6</td>\n",
       "      <td>118</td>\n",
       "      <td>0</td>\n",
       "    </tr>\n",
       "    <tr>\n",
       "      <th>4599</th>\n",
       "      <td>0.96</td>\n",
       "      <td>0.00</td>\n",
       "      <td>0.00</td>\n",
       "      <td>0.0</td>\n",
       "      <td>0.32</td>\n",
       "      <td>0.00</td>\n",
       "      <td>0.00</td>\n",
       "      <td>0.00</td>\n",
       "      <td>0.00</td>\n",
       "      <td>0.00</td>\n",
       "      <td>...</td>\n",
       "      <td>0.000</td>\n",
       "      <td>0.057</td>\n",
       "      <td>0.0</td>\n",
       "      <td>0.000</td>\n",
       "      <td>0.000</td>\n",
       "      <td>0.000</td>\n",
       "      <td>1.147</td>\n",
       "      <td>5</td>\n",
       "      <td>78</td>\n",
       "      <td>0</td>\n",
       "    </tr>\n",
       "    <tr>\n",
       "      <th>4600</th>\n",
       "      <td>0.00</td>\n",
       "      <td>0.00</td>\n",
       "      <td>0.65</td>\n",
       "      <td>0.0</td>\n",
       "      <td>0.00</td>\n",
       "      <td>0.00</td>\n",
       "      <td>0.00</td>\n",
       "      <td>0.00</td>\n",
       "      <td>0.00</td>\n",
       "      <td>0.00</td>\n",
       "      <td>...</td>\n",
       "      <td>0.000</td>\n",
       "      <td>0.000</td>\n",
       "      <td>0.0</td>\n",
       "      <td>0.125</td>\n",
       "      <td>0.000</td>\n",
       "      <td>0.000</td>\n",
       "      <td>1.250</td>\n",
       "      <td>5</td>\n",
       "      <td>40</td>\n",
       "      <td>0</td>\n",
       "    </tr>\n",
       "  </tbody>\n",
       "</table>\n",
       "<p>4601 rows × 58 columns</p>\n",
       "</div>"
      ],
      "text/plain": [
       "      word_freq_make    word_freq_address    word_freq_all    word_freq_3d   \\\n",
       "0                0.00                 0.64             0.64             0.0   \n",
       "1                0.21                 0.28             0.50             0.0   \n",
       "2                0.06                 0.00             0.71             0.0   \n",
       "3                0.00                 0.00             0.00             0.0   \n",
       "4                0.00                 0.00             0.00             0.0   \n",
       "...               ...                  ...              ...             ...   \n",
       "4596             0.31                 0.00             0.62             0.0   \n",
       "4597             0.00                 0.00             0.00             0.0   \n",
       "4598             0.30                 0.00             0.30             0.0   \n",
       "4599             0.96                 0.00             0.00             0.0   \n",
       "4600             0.00                 0.00             0.65             0.0   \n",
       "\n",
       "       word_freq_our    word_freq_over    word_freq_remove   \\\n",
       "0                0.32              0.00                0.00   \n",
       "1                0.14              0.28                0.21   \n",
       "2                1.23              0.19                0.19   \n",
       "3                0.63              0.00                0.31   \n",
       "4                0.63              0.00                0.31   \n",
       "...               ...               ...                 ...   \n",
       "4596             0.00              0.31                0.00   \n",
       "4597             0.00              0.00                0.00   \n",
       "4598             0.00              0.00                0.00   \n",
       "4599             0.32              0.00                0.00   \n",
       "4600             0.00              0.00                0.00   \n",
       "\n",
       "       word_freq_internet    word_freq_order    word_freq_mail   ...  \\\n",
       "0                     0.00               0.00              0.00  ...   \n",
       "1                     0.07               0.00              0.94  ...   \n",
       "2                     0.12               0.64              0.25  ...   \n",
       "3                     0.63               0.31              0.63  ...   \n",
       "4                     0.63               0.31              0.63  ...   \n",
       "...                    ...                ...               ...  ...   \n",
       "4596                  0.00               0.00              0.00  ...   \n",
       "4597                  0.00               0.00              0.00  ...   \n",
       "4598                  0.00               0.00              0.00  ...   \n",
       "4599                  0.00               0.00              0.00  ...   \n",
       "4600                  0.00               0.00              0.00  ...   \n",
       "\n",
       "       char_freq_;    char_freq_(    char_freq_[    char_freq_!   \\\n",
       "0             0.000          0.000            0.0          0.778   \n",
       "1             0.000          0.132            0.0          0.372   \n",
       "2             0.010          0.143            0.0          0.276   \n",
       "3             0.000          0.137            0.0          0.137   \n",
       "4             0.000          0.135            0.0          0.135   \n",
       "...             ...            ...            ...            ...   \n",
       "4596          0.000          0.232            0.0          0.000   \n",
       "4597          0.000          0.000            0.0          0.353   \n",
       "4598          0.102          0.718            0.0          0.000   \n",
       "4599          0.000          0.057            0.0          0.000   \n",
       "4600          0.000          0.000            0.0          0.125   \n",
       "\n",
       "       char_freq_$    char_freq_#    capital_run_length_average   \\\n",
       "0             0.000          0.000                         3.756   \n",
       "1             0.180          0.048                         5.114   \n",
       "2             0.184          0.010                         9.821   \n",
       "3             0.000          0.000                         3.537   \n",
       "4             0.000          0.000                         3.537   \n",
       "...             ...            ...                           ...   \n",
       "4596          0.000          0.000                         1.142   \n",
       "4597          0.000          0.000                         1.555   \n",
       "4598          0.000          0.000                         1.404   \n",
       "4599          0.000          0.000                         1.147   \n",
       "4600          0.000          0.000                         1.250   \n",
       "\n",
       "       capital_run_length_longest    capital_run_length_total    is_spam  \n",
       "0                               61                         278         1  \n",
       "1                              101                        1028         1  \n",
       "2                              485                        2259         1  \n",
       "3                               40                         191         1  \n",
       "4                               40                         191         1  \n",
       "...                            ...                         ...       ...  \n",
       "4596                             3                          88         0  \n",
       "4597                             4                          14         0  \n",
       "4598                             6                         118         0  \n",
       "4599                             5                          78         0  \n",
       "4600                             5                          40         0  \n",
       "\n",
       "[4601 rows x 58 columns]"
      ]
     },
     "execution_count": 3,
     "metadata": {},
     "output_type": "execute_result"
    }
   ],
   "source": [
    "data"
   ]
  },
  {
   "cell_type": "code",
   "execution_count": 4,
   "id": "a1eaddbc",
   "metadata": {
    "scrolled": true
   },
   "outputs": [
    {
     "data": {
      "text/plain": [
       "Index(['word_freq_make ', ' word_freq_address ', ' word_freq_all ',\n",
       "       ' word_freq_3d ', ' word_freq_our ', ' word_freq_over ',\n",
       "       ' word_freq_remove ', ' word_freq_internet ', ' word_freq_order ',\n",
       "       ' word_freq_mail ', ' word_freq_receive ', ' word_freq_will ',\n",
       "       ' word_freq_people ', ' word_freq_report ', ' word_freq_addresses ',\n",
       "       ' word_freq_free ', ' word_freq_business ', ' word_freq_email ',\n",
       "       ' word_freq_you ', ' word_freq_credit ', ' word_freq_your ',\n",
       "       ' word_freq_font ', ' word_freq_000 ', ' word_freq_money ',\n",
       "       ' word_freq_hp ', ' word_freq_hpl ', ' word_freq_george ',\n",
       "       ' word_freq_650 ', ' word_freq_lab ', ' word_freq_labs ',\n",
       "       ' word_freq_telnet ', ' word_freq_857 ', ' word_freq_data ',\n",
       "       ' word_freq_415 ', ' word_freq_85 ', ' word_freq_technology ',\n",
       "       ' word_freq_1999 ', ' word_freq_parts ', ' word_freq_pm ',\n",
       "       ' word_freq_direct ', ' word_freq_cs ', ' word_freq_meeting ',\n",
       "       ' word_freq_original ', ' word_freq_project ', ' word_freq_re ',\n",
       "       ' word_freq_edu ', ' word_freq_table ', ' word_freq_conference ',\n",
       "       ' char_freq_; ', ' char_freq_( ', ' char_freq_[ ', ' char_freq_! ',\n",
       "       ' char_freq_$ ', ' char_freq_# ', ' capital_run_length_average ',\n",
       "       ' capital_run_length_longest ', ' capital_run_length_total ',\n",
       "       ' is_spam'],\n",
       "      dtype='object')"
      ]
     },
     "execution_count": 4,
     "metadata": {},
     "output_type": "execute_result"
    }
   ],
   "source": [
    "data.columns"
   ]
  },
  {
   "cell_type": "markdown",
   "id": "f459304e",
   "metadata": {},
   "source": [
    "# Визуализация данных и вычисление основных характеристик"
   ]
  },
  {
   "cell_type": "markdown",
   "id": "041b39f5",
   "metadata": {},
   "source": [
    "Получение информации о количественных признаках"
   ]
  },
  {
   "cell_type": "code",
   "execution_count": 5,
   "id": "627c726a",
   "metadata": {
    "scrolled": true
   },
   "outputs": [
    {
     "data": {
      "text/html": [
       "<div>\n",
       "<style scoped>\n",
       "    .dataframe tbody tr th:only-of-type {\n",
       "        vertical-align: middle;\n",
       "    }\n",
       "\n",
       "    .dataframe tbody tr th {\n",
       "        vertical-align: top;\n",
       "    }\n",
       "\n",
       "    .dataframe thead th {\n",
       "        text-align: right;\n",
       "    }\n",
       "</style>\n",
       "<table border=\"1\" class=\"dataframe\">\n",
       "  <thead>\n",
       "    <tr style=\"text-align: right;\">\n",
       "      <th></th>\n",
       "      <th>word_freq_make</th>\n",
       "      <th>word_freq_address</th>\n",
       "      <th>word_freq_all</th>\n",
       "      <th>word_freq_3d</th>\n",
       "      <th>word_freq_our</th>\n",
       "      <th>word_freq_over</th>\n",
       "      <th>word_freq_remove</th>\n",
       "      <th>word_freq_internet</th>\n",
       "      <th>word_freq_order</th>\n",
       "      <th>word_freq_mail</th>\n",
       "      <th>...</th>\n",
       "      <th>char_freq_;</th>\n",
       "      <th>char_freq_(</th>\n",
       "      <th>char_freq_[</th>\n",
       "      <th>char_freq_!</th>\n",
       "      <th>char_freq_$</th>\n",
       "      <th>char_freq_#</th>\n",
       "      <th>capital_run_length_average</th>\n",
       "      <th>capital_run_length_longest</th>\n",
       "      <th>capital_run_length_total</th>\n",
       "      <th>is_spam</th>\n",
       "    </tr>\n",
       "  </thead>\n",
       "  <tbody>\n",
       "    <tr>\n",
       "      <th>count</th>\n",
       "      <td>4601.000000</td>\n",
       "      <td>4601.000000</td>\n",
       "      <td>4601.000000</td>\n",
       "      <td>4601.000000</td>\n",
       "      <td>4601.000000</td>\n",
       "      <td>4601.000000</td>\n",
       "      <td>4601.000000</td>\n",
       "      <td>4601.000000</td>\n",
       "      <td>4601.000000</td>\n",
       "      <td>4601.000000</td>\n",
       "      <td>...</td>\n",
       "      <td>4601.000000</td>\n",
       "      <td>4601.000000</td>\n",
       "      <td>4601.000000</td>\n",
       "      <td>4601.000000</td>\n",
       "      <td>4601.000000</td>\n",
       "      <td>4601.000000</td>\n",
       "      <td>4601.000000</td>\n",
       "      <td>4601.000000</td>\n",
       "      <td>4601.000000</td>\n",
       "      <td>4601.000000</td>\n",
       "    </tr>\n",
       "    <tr>\n",
       "      <th>mean</th>\n",
       "      <td>0.104553</td>\n",
       "      <td>0.213015</td>\n",
       "      <td>0.280656</td>\n",
       "      <td>0.065425</td>\n",
       "      <td>0.312223</td>\n",
       "      <td>0.095901</td>\n",
       "      <td>0.114208</td>\n",
       "      <td>0.105295</td>\n",
       "      <td>0.090067</td>\n",
       "      <td>0.239413</td>\n",
       "      <td>...</td>\n",
       "      <td>0.038575</td>\n",
       "      <td>0.139030</td>\n",
       "      <td>0.016976</td>\n",
       "      <td>0.269071</td>\n",
       "      <td>0.075811</td>\n",
       "      <td>0.044238</td>\n",
       "      <td>5.191515</td>\n",
       "      <td>52.172789</td>\n",
       "      <td>283.289285</td>\n",
       "      <td>0.394045</td>\n",
       "    </tr>\n",
       "    <tr>\n",
       "      <th>std</th>\n",
       "      <td>0.305358</td>\n",
       "      <td>1.290575</td>\n",
       "      <td>0.504143</td>\n",
       "      <td>1.395151</td>\n",
       "      <td>0.672513</td>\n",
       "      <td>0.273824</td>\n",
       "      <td>0.391441</td>\n",
       "      <td>0.401071</td>\n",
       "      <td>0.278616</td>\n",
       "      <td>0.644755</td>\n",
       "      <td>...</td>\n",
       "      <td>0.243471</td>\n",
       "      <td>0.270355</td>\n",
       "      <td>0.109394</td>\n",
       "      <td>0.815672</td>\n",
       "      <td>0.245882</td>\n",
       "      <td>0.429342</td>\n",
       "      <td>31.729449</td>\n",
       "      <td>194.891310</td>\n",
       "      <td>606.347851</td>\n",
       "      <td>0.488698</td>\n",
       "    </tr>\n",
       "    <tr>\n",
       "      <th>min</th>\n",
       "      <td>0.000000</td>\n",
       "      <td>0.000000</td>\n",
       "      <td>0.000000</td>\n",
       "      <td>0.000000</td>\n",
       "      <td>0.000000</td>\n",
       "      <td>0.000000</td>\n",
       "      <td>0.000000</td>\n",
       "      <td>0.000000</td>\n",
       "      <td>0.000000</td>\n",
       "      <td>0.000000</td>\n",
       "      <td>...</td>\n",
       "      <td>0.000000</td>\n",
       "      <td>0.000000</td>\n",
       "      <td>0.000000</td>\n",
       "      <td>0.000000</td>\n",
       "      <td>0.000000</td>\n",
       "      <td>0.000000</td>\n",
       "      <td>1.000000</td>\n",
       "      <td>1.000000</td>\n",
       "      <td>1.000000</td>\n",
       "      <td>0.000000</td>\n",
       "    </tr>\n",
       "    <tr>\n",
       "      <th>25%</th>\n",
       "      <td>0.000000</td>\n",
       "      <td>0.000000</td>\n",
       "      <td>0.000000</td>\n",
       "      <td>0.000000</td>\n",
       "      <td>0.000000</td>\n",
       "      <td>0.000000</td>\n",
       "      <td>0.000000</td>\n",
       "      <td>0.000000</td>\n",
       "      <td>0.000000</td>\n",
       "      <td>0.000000</td>\n",
       "      <td>...</td>\n",
       "      <td>0.000000</td>\n",
       "      <td>0.000000</td>\n",
       "      <td>0.000000</td>\n",
       "      <td>0.000000</td>\n",
       "      <td>0.000000</td>\n",
       "      <td>0.000000</td>\n",
       "      <td>1.588000</td>\n",
       "      <td>6.000000</td>\n",
       "      <td>35.000000</td>\n",
       "      <td>0.000000</td>\n",
       "    </tr>\n",
       "    <tr>\n",
       "      <th>50%</th>\n",
       "      <td>0.000000</td>\n",
       "      <td>0.000000</td>\n",
       "      <td>0.000000</td>\n",
       "      <td>0.000000</td>\n",
       "      <td>0.000000</td>\n",
       "      <td>0.000000</td>\n",
       "      <td>0.000000</td>\n",
       "      <td>0.000000</td>\n",
       "      <td>0.000000</td>\n",
       "      <td>0.000000</td>\n",
       "      <td>...</td>\n",
       "      <td>0.000000</td>\n",
       "      <td>0.065000</td>\n",
       "      <td>0.000000</td>\n",
       "      <td>0.000000</td>\n",
       "      <td>0.000000</td>\n",
       "      <td>0.000000</td>\n",
       "      <td>2.276000</td>\n",
       "      <td>15.000000</td>\n",
       "      <td>95.000000</td>\n",
       "      <td>0.000000</td>\n",
       "    </tr>\n",
       "    <tr>\n",
       "      <th>75%</th>\n",
       "      <td>0.000000</td>\n",
       "      <td>0.000000</td>\n",
       "      <td>0.420000</td>\n",
       "      <td>0.000000</td>\n",
       "      <td>0.380000</td>\n",
       "      <td>0.000000</td>\n",
       "      <td>0.000000</td>\n",
       "      <td>0.000000</td>\n",
       "      <td>0.000000</td>\n",
       "      <td>0.160000</td>\n",
       "      <td>...</td>\n",
       "      <td>0.000000</td>\n",
       "      <td>0.188000</td>\n",
       "      <td>0.000000</td>\n",
       "      <td>0.315000</td>\n",
       "      <td>0.052000</td>\n",
       "      <td>0.000000</td>\n",
       "      <td>3.706000</td>\n",
       "      <td>43.000000</td>\n",
       "      <td>266.000000</td>\n",
       "      <td>1.000000</td>\n",
       "    </tr>\n",
       "    <tr>\n",
       "      <th>max</th>\n",
       "      <td>4.540000</td>\n",
       "      <td>14.280000</td>\n",
       "      <td>5.100000</td>\n",
       "      <td>42.810000</td>\n",
       "      <td>10.000000</td>\n",
       "      <td>5.880000</td>\n",
       "      <td>7.270000</td>\n",
       "      <td>11.110000</td>\n",
       "      <td>5.260000</td>\n",
       "      <td>18.180000</td>\n",
       "      <td>...</td>\n",
       "      <td>4.385000</td>\n",
       "      <td>9.752000</td>\n",
       "      <td>4.081000</td>\n",
       "      <td>32.478000</td>\n",
       "      <td>6.003000</td>\n",
       "      <td>19.829000</td>\n",
       "      <td>1102.500000</td>\n",
       "      <td>9989.000000</td>\n",
       "      <td>15841.000000</td>\n",
       "      <td>1.000000</td>\n",
       "    </tr>\n",
       "  </tbody>\n",
       "</table>\n",
       "<p>8 rows × 58 columns</p>\n",
       "</div>"
      ],
      "text/plain": [
       "       word_freq_make    word_freq_address    word_freq_all    word_freq_3d   \\\n",
       "count      4601.000000          4601.000000      4601.000000     4601.000000   \n",
       "mean          0.104553             0.213015         0.280656        0.065425   \n",
       "std           0.305358             1.290575         0.504143        1.395151   \n",
       "min           0.000000             0.000000         0.000000        0.000000   \n",
       "25%           0.000000             0.000000         0.000000        0.000000   \n",
       "50%           0.000000             0.000000         0.000000        0.000000   \n",
       "75%           0.000000             0.000000         0.420000        0.000000   \n",
       "max           4.540000            14.280000         5.100000       42.810000   \n",
       "\n",
       "        word_freq_our    word_freq_over    word_freq_remove   \\\n",
       "count      4601.000000       4601.000000         4601.000000   \n",
       "mean          0.312223          0.095901            0.114208   \n",
       "std           0.672513          0.273824            0.391441   \n",
       "min           0.000000          0.000000            0.000000   \n",
       "25%           0.000000          0.000000            0.000000   \n",
       "50%           0.000000          0.000000            0.000000   \n",
       "75%           0.380000          0.000000            0.000000   \n",
       "max          10.000000          5.880000            7.270000   \n",
       "\n",
       "        word_freq_internet    word_freq_order    word_freq_mail   ...  \\\n",
       "count           4601.000000        4601.000000       4601.000000  ...   \n",
       "mean               0.105295           0.090067          0.239413  ...   \n",
       "std                0.401071           0.278616          0.644755  ...   \n",
       "min                0.000000           0.000000          0.000000  ...   \n",
       "25%                0.000000           0.000000          0.000000  ...   \n",
       "50%                0.000000           0.000000          0.000000  ...   \n",
       "75%                0.000000           0.000000          0.160000  ...   \n",
       "max               11.110000           5.260000         18.180000  ...   \n",
       "\n",
       "        char_freq_;    char_freq_(    char_freq_[    char_freq_!   \\\n",
       "count    4601.000000    4601.000000    4601.000000    4601.000000   \n",
       "mean        0.038575       0.139030       0.016976       0.269071   \n",
       "std         0.243471       0.270355       0.109394       0.815672   \n",
       "min         0.000000       0.000000       0.000000       0.000000   \n",
       "25%         0.000000       0.000000       0.000000       0.000000   \n",
       "50%         0.000000       0.065000       0.000000       0.000000   \n",
       "75%         0.000000       0.188000       0.000000       0.315000   \n",
       "max         4.385000       9.752000       4.081000      32.478000   \n",
       "\n",
       "        char_freq_$    char_freq_#    capital_run_length_average   \\\n",
       "count    4601.000000    4601.000000                   4601.000000   \n",
       "mean        0.075811       0.044238                      5.191515   \n",
       "std         0.245882       0.429342                     31.729449   \n",
       "min         0.000000       0.000000                      1.000000   \n",
       "25%         0.000000       0.000000                      1.588000   \n",
       "50%         0.000000       0.000000                      2.276000   \n",
       "75%         0.052000       0.000000                      3.706000   \n",
       "max         6.003000      19.829000                   1102.500000   \n",
       "\n",
       "        capital_run_length_longest    capital_run_length_total       is_spam  \n",
       "count                   4601.000000                 4601.000000  4601.000000  \n",
       "mean                      52.172789                  283.289285     0.394045  \n",
       "std                      194.891310                  606.347851     0.488698  \n",
       "min                        1.000000                    1.000000     0.000000  \n",
       "25%                        6.000000                   35.000000     0.000000  \n",
       "50%                       15.000000                   95.000000     0.000000  \n",
       "75%                       43.000000                  266.000000     1.000000  \n",
       "max                     9989.000000                15841.000000     1.000000  \n",
       "\n",
       "[8 rows x 58 columns]"
      ]
     },
     "execution_count": 5,
     "metadata": {},
     "output_type": "execute_result"
    }
   ],
   "source": [
    "data.describe()"
   ]
  },
  {
   "cell_type": "markdown",
   "id": "2c94d37d",
   "metadata": {},
   "source": [
    "* count — количество значений для каждого признака\n",
    "* mean — среднее значение\n",
    "* std — стандартное отклонение, значение которого показывает, на сколько в среднем отклоняются варианты от среднего значения\n",
    "* min — минимальное значение\n",
    "* 25% — значения, которые объект не превышает с вероятностью 25%\n",
    "* 50% — медиана, то есть значения, которые объект не превышает с вероятностью 25%\n",
    "* 75% — значения, которые объект не превышает с вероятностью 75%\n",
    "* max — максимальное значение"
   ]
  },
  {
   "cell_type": "markdown",
   "id": "621e7c41",
   "metadata": {},
   "source": [
    "Построение диаграммы рассеивания для признаков."
   ]
  },
  {
   "cell_type": "code",
   "execution_count": null,
   "id": "f7d3c4e0",
   "metadata": {
    "scrolled": true
   },
   "outputs": [],
   "source": [
    "seaborn.pairplot(data.iloc[numpy.random.choice(numpy.arange(data.shape[0]), size=1000, replace=False)], hue=' is_spam', diag_kind='hist')\n",
    "pyplot.legend()"
   ]
  },
  {
   "cell_type": "code",
   "execution_count": null,
   "id": "fae012b8",
   "metadata": {
    "scrolled": true
   },
   "outputs": [],
   "source": [
    "data.corr().where(numpy.triu(data.corr() > 0.3, k = 1)).stack().sort_values(ascending = False)"
   ]
  },
  {
   "cell_type": "code",
   "execution_count": null,
   "id": "c767c1c1",
   "metadata": {},
   "outputs": [],
   "source": [
    "seaborn.heatmap(data.corr(), square=True, vmin=-1, vmax=1, cmap='cool')\n",
    "pass"
   ]
  },
  {
   "cell_type": "markdown",
   "id": "21304850",
   "metadata": {},
   "source": [
    "По матрице корреляции видно, что сильнейшую связь образуют признаки 'word_freq_857' и 'word_freq_415', так как они имеют наибольший коэффициент корелляции 0,996."
   ]
  },
  {
   "cell_type": "markdown",
   "id": "535097ba",
   "metadata": {},
   "source": [
    "# Обработка категориальных признаков"
   ]
  },
  {
   "cell_type": "markdown",
   "id": "936bd568",
   "metadata": {},
   "source": [
    "Все признаки датасета являются количественными, класс объекта является категориальным признаком, принимающим бинарные значения."
   ]
  },
  {
   "cell_type": "code",
   "execution_count": 6,
   "id": "ac743b35",
   "metadata": {},
   "outputs": [
    {
     "data": {
      "text/plain": [
       "0    2788\n",
       "1    1813\n",
       "Name:  is_spam, dtype: int64"
      ]
     },
     "execution_count": 6,
     "metadata": {},
     "output_type": "execute_result"
    }
   ],
   "source": [
    "data[' is_spam'].value_counts()"
   ]
  },
  {
   "cell_type": "markdown",
   "id": "83c2a200",
   "metadata": {},
   "source": [
    "Для всех объектов категориальный признак определён, следовательно пропущеных значений нет."
   ]
  },
  {
   "cell_type": "markdown",
   "id": "7e3ac808",
   "metadata": {},
   "source": [
    "# Нормализация количественных признаков\n",
    "Перед использованием алгоритмов машинного обучения лучше нормализовать данные."
   ]
  },
  {
   "cell_type": "code",
   "execution_count": 7,
   "id": "0aa8558a",
   "metadata": {},
   "outputs": [
    {
     "data": {
      "text/html": [
       "<div>\n",
       "<style scoped>\n",
       "    .dataframe tbody tr th:only-of-type {\n",
       "        vertical-align: middle;\n",
       "    }\n",
       "\n",
       "    .dataframe tbody tr th {\n",
       "        vertical-align: top;\n",
       "    }\n",
       "\n",
       "    .dataframe thead th {\n",
       "        text-align: right;\n",
       "    }\n",
       "</style>\n",
       "<table border=\"1\" class=\"dataframe\">\n",
       "  <thead>\n",
       "    <tr style=\"text-align: right;\">\n",
       "      <th></th>\n",
       "      <th>word_freq_make</th>\n",
       "      <th>word_freq_address</th>\n",
       "      <th>word_freq_all</th>\n",
       "      <th>word_freq_3d</th>\n",
       "      <th>word_freq_our</th>\n",
       "      <th>word_freq_over</th>\n",
       "      <th>word_freq_remove</th>\n",
       "      <th>word_freq_internet</th>\n",
       "      <th>word_freq_order</th>\n",
       "      <th>word_freq_mail</th>\n",
       "      <th>...</th>\n",
       "      <th>word_freq_conference</th>\n",
       "      <th>char_freq_;</th>\n",
       "      <th>char_freq_(</th>\n",
       "      <th>char_freq_[</th>\n",
       "      <th>char_freq_!</th>\n",
       "      <th>char_freq_$</th>\n",
       "      <th>char_freq_#</th>\n",
       "      <th>capital_run_length_average</th>\n",
       "      <th>capital_run_length_longest</th>\n",
       "      <th>capital_run_length_total</th>\n",
       "    </tr>\n",
       "  </thead>\n",
       "  <tbody>\n",
       "    <tr>\n",
       "      <th>count</th>\n",
       "      <td>4.601000e+03</td>\n",
       "      <td>4.601000e+03</td>\n",
       "      <td>4.601000e+03</td>\n",
       "      <td>4.601000e+03</td>\n",
       "      <td>4.601000e+03</td>\n",
       "      <td>4.601000e+03</td>\n",
       "      <td>4.601000e+03</td>\n",
       "      <td>4.601000e+03</td>\n",
       "      <td>4.601000e+03</td>\n",
       "      <td>4.601000e+03</td>\n",
       "      <td>...</td>\n",
       "      <td>4.601000e+03</td>\n",
       "      <td>4.601000e+03</td>\n",
       "      <td>4.601000e+03</td>\n",
       "      <td>4.601000e+03</td>\n",
       "      <td>4.601000e+03</td>\n",
       "      <td>4.601000e+03</td>\n",
       "      <td>4.601000e+03</td>\n",
       "      <td>4.601000e+03</td>\n",
       "      <td>4.601000e+03</td>\n",
       "      <td>4.601000e+03</td>\n",
       "    </tr>\n",
       "    <tr>\n",
       "      <th>mean</th>\n",
       "      <td>-1.783753e-15</td>\n",
       "      <td>1.614275e-15</td>\n",
       "      <td>-4.023346e-15</td>\n",
       "      <td>2.784820e-15</td>\n",
       "      <td>8.230647e-15</td>\n",
       "      <td>-5.586828e-16</td>\n",
       "      <td>3.989081e-15</td>\n",
       "      <td>1.908758e-15</td>\n",
       "      <td>-6.747265e-15</td>\n",
       "      <td>-4.863650e-16</td>\n",
       "      <td>...</td>\n",
       "      <td>-1.853953e-15</td>\n",
       "      <td>4.622036e-15</td>\n",
       "      <td>1.831494e-15</td>\n",
       "      <td>1.006657e-15</td>\n",
       "      <td>1.949236e-15</td>\n",
       "      <td>-4.799851e-15</td>\n",
       "      <td>9.303939e-17</td>\n",
       "      <td>-8.306886e-16</td>\n",
       "      <td>-7.698085e-16</td>\n",
       "      <td>-3.658838e-16</td>\n",
       "    </tr>\n",
       "    <tr>\n",
       "      <th>std</th>\n",
       "      <td>1.000000e+00</td>\n",
       "      <td>1.000000e+00</td>\n",
       "      <td>1.000000e+00</td>\n",
       "      <td>1.000000e+00</td>\n",
       "      <td>1.000000e+00</td>\n",
       "      <td>1.000000e+00</td>\n",
       "      <td>1.000000e+00</td>\n",
       "      <td>1.000000e+00</td>\n",
       "      <td>1.000000e+00</td>\n",
       "      <td>1.000000e+00</td>\n",
       "      <td>...</td>\n",
       "      <td>1.000000e+00</td>\n",
       "      <td>1.000000e+00</td>\n",
       "      <td>1.000000e+00</td>\n",
       "      <td>1.000000e+00</td>\n",
       "      <td>1.000000e+00</td>\n",
       "      <td>1.000000e+00</td>\n",
       "      <td>1.000000e+00</td>\n",
       "      <td>1.000000e+00</td>\n",
       "      <td>1.000000e+00</td>\n",
       "      <td>1.000000e+00</td>\n",
       "    </tr>\n",
       "    <tr>\n",
       "      <th>min</th>\n",
       "      <td>-3.423965e-01</td>\n",
       "      <td>-1.650540e-01</td>\n",
       "      <td>-5.567001e-01</td>\n",
       "      <td>-4.689449e-02</td>\n",
       "      <td>-4.642639e-01</td>\n",
       "      <td>-3.502281e-01</td>\n",
       "      <td>-2.917622e-01</td>\n",
       "      <td>-2.625330e-01</td>\n",
       "      <td>-3.232672e-01</td>\n",
       "      <td>-3.713240e-01</td>\n",
       "      <td>...</td>\n",
       "      <td>-1.115341e-01</td>\n",
       "      <td>-1.584361e-01</td>\n",
       "      <td>-5.142507e-01</td>\n",
       "      <td>-1.551808e-01</td>\n",
       "      <td>-3.298764e-01</td>\n",
       "      <td>-3.083214e-01</td>\n",
       "      <td>-1.030372e-01</td>\n",
       "      <td>-1.321017e-01</td>\n",
       "      <td>-2.625709e-01</td>\n",
       "      <td>-4.655567e-01</td>\n",
       "    </tr>\n",
       "    <tr>\n",
       "      <th>25%</th>\n",
       "      <td>-3.423965e-01</td>\n",
       "      <td>-1.650540e-01</td>\n",
       "      <td>-5.567001e-01</td>\n",
       "      <td>-4.689449e-02</td>\n",
       "      <td>-4.642639e-01</td>\n",
       "      <td>-3.502281e-01</td>\n",
       "      <td>-2.917622e-01</td>\n",
       "      <td>-2.625330e-01</td>\n",
       "      <td>-3.232672e-01</td>\n",
       "      <td>-3.713240e-01</td>\n",
       "      <td>...</td>\n",
       "      <td>-1.115341e-01</td>\n",
       "      <td>-1.584361e-01</td>\n",
       "      <td>-5.142507e-01</td>\n",
       "      <td>-1.551808e-01</td>\n",
       "      <td>-3.298764e-01</td>\n",
       "      <td>-3.083214e-01</td>\n",
       "      <td>-1.030372e-01</td>\n",
       "      <td>-1.135701e-01</td>\n",
       "      <td>-2.369156e-01</td>\n",
       "      <td>-4.094832e-01</td>\n",
       "    </tr>\n",
       "    <tr>\n",
       "      <th>50%</th>\n",
       "      <td>-3.423965e-01</td>\n",
       "      <td>-1.650540e-01</td>\n",
       "      <td>-5.567001e-01</td>\n",
       "      <td>-4.689449e-02</td>\n",
       "      <td>-4.642639e-01</td>\n",
       "      <td>-3.502281e-01</td>\n",
       "      <td>-2.917622e-01</td>\n",
       "      <td>-2.625330e-01</td>\n",
       "      <td>-3.232672e-01</td>\n",
       "      <td>-3.713240e-01</td>\n",
       "      <td>...</td>\n",
       "      <td>-1.115341e-01</td>\n",
       "      <td>-1.584361e-01</td>\n",
       "      <td>-2.738264e-01</td>\n",
       "      <td>-1.551808e-01</td>\n",
       "      <td>-3.298764e-01</td>\n",
       "      <td>-3.083214e-01</td>\n",
       "      <td>-1.030372e-01</td>\n",
       "      <td>-9.188672e-02</td>\n",
       "      <td>-1.907360e-01</td>\n",
       "      <td>-3.105301e-01</td>\n",
       "    </tr>\n",
       "    <tr>\n",
       "      <th>75%</th>\n",
       "      <td>-3.423965e-01</td>\n",
       "      <td>-1.650540e-01</td>\n",
       "      <td>2.763971e-01</td>\n",
       "      <td>-4.689449e-02</td>\n",
       "      <td>1.007811e-01</td>\n",
       "      <td>-3.502281e-01</td>\n",
       "      <td>-2.917622e-01</td>\n",
       "      <td>-2.625330e-01</td>\n",
       "      <td>-3.232672e-01</td>\n",
       "      <td>-1.231679e-01</td>\n",
       "      <td>...</td>\n",
       "      <td>-1.115341e-01</td>\n",
       "      <td>-1.584361e-01</td>\n",
       "      <td>1.811304e-01</td>\n",
       "      <td>-1.551808e-01</td>\n",
       "      <td>5.630838e-02</td>\n",
       "      <td>-9.683788e-02</td>\n",
       "      <td>-1.030372e-01</td>\n",
       "      <td>-4.681818e-02</td>\n",
       "      <td>-4.706618e-02</td>\n",
       "      <td>-2.851381e-02</td>\n",
       "    </tr>\n",
       "    <tr>\n",
       "      <th>max</th>\n",
       "      <td>1.452542e+01</td>\n",
       "      <td>1.089978e+01</td>\n",
       "      <td>9.559480e+00</td>\n",
       "      <td>3.063795e+01</td>\n",
       "      <td>1.440534e+01</td>\n",
       "      <td>2.112341e+01</td>\n",
       "      <td>1.828062e+01</td>\n",
       "      <td>2.743827e+01</td>\n",
       "      <td>1.855577e+01</td>\n",
       "      <td>2.782542e+01</td>\n",
       "      <td>...</td>\n",
       "      <td>3.488597e+01</td>\n",
       "      <td>1.785190e+01</td>\n",
       "      <td>3.555679e+01</td>\n",
       "      <td>3.715028e+01</td>\n",
       "      <td>3.948762e+01</td>\n",
       "      <td>2.410583e+01</td>\n",
       "      <td>4.608158e+01</td>\n",
       "      <td>3.458328e+01</td>\n",
       "      <td>5.098651e+01</td>\n",
       "      <td>2.565806e+01</td>\n",
       "    </tr>\n",
       "  </tbody>\n",
       "</table>\n",
       "<p>8 rows × 57 columns</p>\n",
       "</div>"
      ],
      "text/plain": [
       "       word_freq_make    word_freq_address    word_freq_all    word_freq_3d   \\\n",
       "count     4.601000e+03         4.601000e+03     4.601000e+03    4.601000e+03   \n",
       "mean     -1.783753e-15         1.614275e-15    -4.023346e-15    2.784820e-15   \n",
       "std       1.000000e+00         1.000000e+00     1.000000e+00    1.000000e+00   \n",
       "min      -3.423965e-01        -1.650540e-01    -5.567001e-01   -4.689449e-02   \n",
       "25%      -3.423965e-01        -1.650540e-01    -5.567001e-01   -4.689449e-02   \n",
       "50%      -3.423965e-01        -1.650540e-01    -5.567001e-01   -4.689449e-02   \n",
       "75%      -3.423965e-01        -1.650540e-01     2.763971e-01   -4.689449e-02   \n",
       "max       1.452542e+01         1.089978e+01     9.559480e+00    3.063795e+01   \n",
       "\n",
       "        word_freq_our    word_freq_over    word_freq_remove   \\\n",
       "count     4.601000e+03      4.601000e+03        4.601000e+03   \n",
       "mean      8.230647e-15     -5.586828e-16        3.989081e-15   \n",
       "std       1.000000e+00      1.000000e+00        1.000000e+00   \n",
       "min      -4.642639e-01     -3.502281e-01       -2.917622e-01   \n",
       "25%      -4.642639e-01     -3.502281e-01       -2.917622e-01   \n",
       "50%      -4.642639e-01     -3.502281e-01       -2.917622e-01   \n",
       "75%       1.007811e-01     -3.502281e-01       -2.917622e-01   \n",
       "max       1.440534e+01      2.112341e+01        1.828062e+01   \n",
       "\n",
       "        word_freq_internet    word_freq_order    word_freq_mail   ...  \\\n",
       "count          4.601000e+03       4.601000e+03      4.601000e+03  ...   \n",
       "mean           1.908758e-15      -6.747265e-15     -4.863650e-16  ...   \n",
       "std            1.000000e+00       1.000000e+00      1.000000e+00  ...   \n",
       "min           -2.625330e-01      -3.232672e-01     -3.713240e-01  ...   \n",
       "25%           -2.625330e-01      -3.232672e-01     -3.713240e-01  ...   \n",
       "50%           -2.625330e-01      -3.232672e-01     -3.713240e-01  ...   \n",
       "75%           -2.625330e-01      -3.232672e-01     -1.231679e-01  ...   \n",
       "max            2.743827e+01       1.855577e+01      2.782542e+01  ...   \n",
       "\n",
       "        word_freq_conference    char_freq_;    char_freq_(    char_freq_[   \\\n",
       "count            4.601000e+03   4.601000e+03   4.601000e+03   4.601000e+03   \n",
       "mean            -1.853953e-15   4.622036e-15   1.831494e-15   1.006657e-15   \n",
       "std              1.000000e+00   1.000000e+00   1.000000e+00   1.000000e+00   \n",
       "min             -1.115341e-01  -1.584361e-01  -5.142507e-01  -1.551808e-01   \n",
       "25%             -1.115341e-01  -1.584361e-01  -5.142507e-01  -1.551808e-01   \n",
       "50%             -1.115341e-01  -1.584361e-01  -2.738264e-01  -1.551808e-01   \n",
       "75%             -1.115341e-01  -1.584361e-01   1.811304e-01  -1.551808e-01   \n",
       "max              3.488597e+01   1.785190e+01   3.555679e+01   3.715028e+01   \n",
       "\n",
       "        char_freq_!    char_freq_$    char_freq_#   \\\n",
       "count   4.601000e+03   4.601000e+03   4.601000e+03   \n",
       "mean    1.949236e-15  -4.799851e-15   9.303939e-17   \n",
       "std     1.000000e+00   1.000000e+00   1.000000e+00   \n",
       "min    -3.298764e-01  -3.083214e-01  -1.030372e-01   \n",
       "25%    -3.298764e-01  -3.083214e-01  -1.030372e-01   \n",
       "50%    -3.298764e-01  -3.083214e-01  -1.030372e-01   \n",
       "75%     5.630838e-02  -9.683788e-02  -1.030372e-01   \n",
       "max     3.948762e+01   2.410583e+01   4.608158e+01   \n",
       "\n",
       "        capital_run_length_average    capital_run_length_longest   \\\n",
       "count                  4.601000e+03                  4.601000e+03   \n",
       "mean                  -8.306886e-16                 -7.698085e-16   \n",
       "std                    1.000000e+00                  1.000000e+00   \n",
       "min                   -1.321017e-01                 -2.625709e-01   \n",
       "25%                   -1.135701e-01                 -2.369156e-01   \n",
       "50%                   -9.188672e-02                 -1.907360e-01   \n",
       "75%                   -4.681818e-02                 -4.706618e-02   \n",
       "max                    3.458328e+01                  5.098651e+01   \n",
       "\n",
       "        capital_run_length_total   \n",
       "count                4.601000e+03  \n",
       "mean                -3.658838e-16  \n",
       "std                  1.000000e+00  \n",
       "min                 -4.655567e-01  \n",
       "25%                 -4.094832e-01  \n",
       "50%                 -3.105301e-01  \n",
       "75%                 -2.851381e-02  \n",
       "max                  2.565806e+01  \n",
       "\n",
       "[8 rows x 57 columns]"
      ]
     },
     "execution_count": 7,
     "metadata": {},
     "output_type": "execute_result"
    }
   ],
   "source": [
    "normalization = [i for i in data.columns if i != ' is_spam']\n",
    "data_normal = (data[normalization] - data[normalization].mean(axis = 0))/data[normalization].std(axis = 0)\n",
    "data_normal.describe()"
   ]
  },
  {
   "cell_type": "markdown",
   "id": "fef227a8",
   "metadata": {},
   "source": [
    "Проведена стандартизация - линейное преобразование, приводящее все значения к нулевому среднему и единичному стандартному отклонению.\n",
    "# Разбиение классов на обучающую и тестовую выборку"
   ]
  },
  {
   "cell_type": "code",
   "execution_count": 8,
   "id": "9ff6ed3d",
   "metadata": {},
   "outputs": [
    {
     "name": "stdout",
     "output_type": "stream",
     "text": [
      "Size train:  3450\n",
      "Size test:  1151\n"
     ]
    }
   ],
   "source": [
    "dataX = data.drop(' is_spam', axis=1)\n",
    "dataY = data[' is_spam']\n",
    "from sklearn.model_selection import train_test_split\n",
    "X_train, X_test, y_train, y_test = train_test_split(dataX, dataY, test_size = 0.25, random_state = 42)\n",
    "N_train, _ = X_train.shape \n",
    "N_test,  _ = X_test.shape \n",
    "print('Size train: ',N_train)\n",
    "print('Size test: ', N_test)"
   ]
  },
  {
   "cell_type": "markdown",
   "id": "bee99e04",
   "metadata": {},
   "source": [
    "# Обучение модели\n",
    "Метод K-ближайших соседей, с количесвтом соседей - 5."
   ]
  },
  {
   "cell_type": "code",
   "execution_count": null,
   "id": "c4ee5b97",
   "metadata": {},
   "outputs": [],
   "source": [
    "from sklearn.neighbors import KNeighborsClassifier\n",
    "knn_4 = KNeighborsClassifier(n_neighbors = 10)\n",
    "knn_4.fit(X_train, y_train)\n",
    "knn_training_predict = knn_4.score(X_train, y_train)\n",
    "knn_test_predict = knn_4.score(X_test, y_test)\n",
    "err_train = numpy.mean(y_train != knn_4.predict(X_train))\n",
    "err_test  = numpy.mean(y_test  != knn_4.predict(X_test))\n",
    "print(\"Accuracy - Train : {:.2f}, Test: {:.2f}. \".format(knn_training_predict, knn_test_predict))\n",
    "print(\"Error - Train : {:.2f}, Test: {:.2f}. \".format(err_train, err_test))"
   ]
  },
  {
   "cell_type": "markdown",
   "id": "ee9fbeb4",
   "metadata": {},
   "source": [
    "Метод K-ближайших соседей, с количесвтом соседей - 10."
   ]
  },
  {
   "cell_type": "code",
   "execution_count": null,
   "id": "5c81ed61",
   "metadata": {},
   "outputs": [],
   "source": [
    "knn_10 = KNeighborsClassifier(n_neighbors = 10)\n",
    "knn_10.fit(X_train, y_train)\n",
    "knn_training_predict = knn_10.score(X_train, y_train)\n",
    "knn_test_predict = knn_10.score(X_test, y_test)\n",
    "err_train = numpy.mean(y_train != knn_10.predict(X_train))\n",
    "err_test  = numpy.mean(y_test  != knn_10.predict(X_test))\n",
    "print(\"Accuracy - Train : {:.2f}, Test: {:.2f}. \".format(knn_training_predict, knn_test_predict))\n",
    "print(\"Error - Train : {:.2f}, Test: {:.2f}. \".format(err_train, err_test))"
   ]
  },
  {
   "cell_type": "markdown",
   "id": "93cb3972",
   "metadata": {},
   "source": [
    "При изменении количесвта соседей точность модели в выборках не изменилась."
   ]
  },
  {
   "cell_type": "markdown",
   "id": "e41cafcc",
   "metadata": {},
   "source": [
    "# Выводы\n",
    "В данном практическом задании была решена задача классификации писем на спам и не спам по набору признаков с помощью обучения модели, натренированной методом К-ближайших соседей."
   ]
  },
  {
   "cell_type": "markdown",
   "id": "e1db7e98",
   "metadata": {},
   "source": [
    "Перед тем как тренировать модель были проведены следующие действия:\n",
    "* вычисление и анализ основных характеристик\n",
    "* проверка на наличие пропущенных значений\n",
    "* нормализация данных методом стандартизации\n",
    "* разбиение данных на тестовую и тренировочную выборку\n",
    "* выбор алгоритма классификации и проверка качества полученной модели"
   ]
  },
  {
   "cell_type": "markdown",
   "id": "94e0ebc0",
   "metadata": {},
   "source": [
    "# Полносвязная нейронная сеть"
   ]
  },
  {
   "cell_type": "code",
   "execution_count": 9,
   "id": "56c90ac2",
   "metadata": {},
   "outputs": [],
   "source": [
    "from sklearn.neural_network import MLPClassifier\n",
    "from sklearn import preprocessing\n",
    "\n",
    "scaler = preprocessing.StandardScaler().fit(X_train)\n",
    "X_scaled = scaler.transform(X_train)\n",
    "\n",
    "mlp = MLPClassifier(hidden_layer_sizes = (100,),\n",
    "                          solver = 'lbfgs',\n",
    "                          activation = 'logistic',\n",
    "                          random_state = 42)"
   ]
  },
  {
   "cell_type": "code",
   "execution_count": 10,
   "id": "2d91ed61",
   "metadata": {},
   "outputs": [
    {
     "name": "stdout",
     "output_type": "stream",
     "text": [
      "Wall time: 1.62 s\n"
     ]
    },
    {
     "data": {
      "text/plain": [
       "MLPClassifier(activation='logistic', random_state=42, solver='lbfgs')"
      ]
     },
     "execution_count": 10,
     "metadata": {},
     "output_type": "execute_result"
    }
   ],
   "source": [
    "%%time\n",
    "mlp.fit(X_scaled, y_train)"
   ]
  },
  {
   "cell_type": "code",
   "execution_count": 11,
   "id": "d0e8178e",
   "metadata": {},
   "outputs": [
    {
     "data": {
      "text/plain": [
       "array([0, 1, 1, ..., 1, 1, 1], dtype=int64)"
      ]
     },
     "execution_count": 11,
     "metadata": {},
     "output_type": "execute_result"
    }
   ],
   "source": [
    "mlp.predict(X_test)"
   ]
  },
  {
   "cell_type": "code",
   "execution_count": 12,
   "id": "47ccf997",
   "metadata": {},
   "outputs": [
    {
     "name": "stdout",
     "output_type": "stream",
     "text": [
      "0.002028985507246377 0.48132059079061684\n"
     ]
    }
   ],
   "source": [
    "y_train_pred = mlp.predict(X_scaled)\n",
    "y_test_pred = mlp.predict(X_test)\n",
    "print(numpy.mean(y_train != y_train_pred), numpy.mean(y_test != y_test_pred))"
   ]
  },
  {
   "cell_type": "markdown",
   "id": "11fd68d2",
   "metadata": {},
   "source": [
    "# Нейронная сеть с одним скрытым слоем на 100 элементов. Подбор параметра alpha."
   ]
  },
  {
   "cell_type": "code",
   "execution_count": 13,
   "id": "ed033369",
   "metadata": {},
   "outputs": [],
   "source": [
    "from sklearn.metrics import accuracy_score\n",
    "alpha_array = numpy.logspace(-3, 2, 21)\n",
    "test_err = []\n",
    "train_err = []\n",
    "train_acc = []\n",
    "test_acc = []\n",
    "\n",
    "for alpha in alpha_array:\n",
    "    mlp = MLPClassifier(alpha = alpha, hidden_layer_sizes = (100,), \n",
    "                              solver = 'lbfgs', activation = 'logistic', max_iter=1000, random_state = 42)\n",
    "    mlp.fit(X_scaled, y_train)\n",
    "\n",
    "    y_train_pred = mlp.predict(X_scaled)\n",
    "    y_test_pred = mlp.predict(X_test)\n",
    "    \n",
    "    train_err.append(numpy.mean(y_train != y_train_pred))\n",
    "    test_err.append(numpy.mean(y_test != y_test_pred))\n",
    "    train_acc.append(accuracy_score(y_train, y_train_pred))\n",
    "    test_acc.append(accuracy_score(y_test, y_test_pred))"
   ]
  },
  {
   "cell_type": "code",
   "execution_count": 14,
   "id": "4e89f349",
   "metadata": {},
   "outputs": [
    {
     "data": {
      "text/plain": [
       "<matplotlib.legend.Legend at 0x1be97448be0>"
      ]
     },
     "execution_count": 14,
     "metadata": {},
     "output_type": "execute_result"
    },
    {
     "data": {
      "image/png": "[encoded data removed]",
      "text/plain": [
       "<Figure size 432x288 with 1 Axes>"
      ]
     },
     "metadata": {
      "needs_background": "light"
     },
     "output_type": "display_data"
    }
   ],
   "source": [
    "pyplot.semilogx(alpha_array, train_acc, 'r-o', label = 'train')\n",
    "pyplot.semilogx(alpha_array, test_acc, 'b-o', label = 'test')\n",
    "pyplot.xlim([numpy.min(alpha_array), numpy.max(alpha_array)])\n",
    "pyplot.title('Accuracy vs. alpha')\n",
    "pyplot.xlabel('alpha')\n",
    "pyplot.ylabel('Accuracy')\n",
    "pyplot.legend()"
   ]
  },
  {
   "cell_type": "code",
   "execution_count": 15,
   "id": "b9bc2456",
   "metadata": {},
   "outputs": [
    {
     "data": {
      "text/plain": [
       "<matplotlib.legend.Legend at 0x1be9808afa0>"
      ]
     },
     "execution_count": 15,
     "metadata": {},
     "output_type": "execute_result"
    },
    {
     "data": {
      "image/png": "[encoded data removed]",
      "text/plain": [
       "<Figure size 432x288 with 1 Axes>"
      ]
     },
     "metadata": {
      "needs_background": "light"
     },
     "output_type": "display_data"
    }
   ],
   "source": [
    "pyplot.semilogx(alpha_array, train_err, 'b-o', label = 'train')\n",
    "pyplot.semilogx(alpha_array, test_err, 'r-o', label = 'test')\n",
    "pyplot.xlim([numpy.min(alpha_array), numpy.max(alpha_array)])\n",
    "pyplot.title('Error vs. alpha')\n",
    "pyplot.xlabel('alpha')\n",
    "pyplot.ylabel('error')\n",
    "pyplot.legend()"
   ]
  },
  {
   "cell_type": "code",
   "execution_count": 17,
   "id": "bf4ef0d2",
   "metadata": {},
   "outputs": [
    {
     "name": "stdout",
     "output_type": "stream",
     "text": [
      "0.0014492753623188406 0.5004344048653345\n",
      "[0.001]\n"
     ]
    }
   ],
   "source": [
    "min_train_err = numpy.min(train_err)\n",
    "min_test_err = numpy.min(test_err)\n",
    "print(min_train_err, min_test_err)\n",
    "alpha_opt = alpha_array[test_err == min_test_err]\n",
    "print(alpha_opt)"
   ]
  },
  {
   "cell_type": "markdown",
   "id": "df47eb92",
   "metadata": {},
   "source": [
    "Выводы: Наилучший результат достигается при alpha = 0.001. Ошибка на тестовых данных равна ~0.5, ошибка на тренировочных данных - ~0.001. При меньшем alpha наблюдается понижение ошибки на тренировочных данных и повышение на тестовых, что свидетельствует о переобучении."
   ]
  },
  {
   "cell_type": "code",
   "execution_count": 19,
   "id": "8475f744",
   "metadata": {},
   "outputs": [
    {
     "name": "stdout",
     "output_type": "stream",
     "text": [
      "0.0017391304347826088\n",
      "0.5004344048653345\n"
     ]
    }
   ],
   "source": [
    "mlp = MLPClassifier(alpha = alpha_opt, hidden_layer_sizes = (100,),\n",
    "                          solver = 'lbfgs', activation = 'logistic', random_state = 42)\n",
    "mlp.fit(X_scaled, y_train)\n",
    "\n",
    "y_train_pred = mlp.predict(X_scaled)\n",
    "y_test_pred = mlp.predict(X_test)\n",
    "print(numpy.mean(y_train != y_train_pred))\n",
    "print(numpy.mean(y_test != y_test_pred))"
   ]
  },
  {
   "cell_type": "code",
   "execution_count": 20,
   "id": "43499926",
   "metadata": {},
   "outputs": [
    {
     "name": "stdout",
     "output_type": "stream",
     "text": [
      "[[101   1]\n",
      " [575 474]]\n"
     ]
    },
    {
     "data": {
      "image/png": "[encoded data removed]",
      "text/plain": [
       "<Figure size 432x288 with 2 Axes>"
      ]
     },
     "metadata": {
      "needs_background": "light"
     },
     "output_type": "display_data"
    }
   ],
   "source": [
    "from sklearn.metrics import confusion_matrix\n",
    "print(confusion_matrix(y_test_pred, y_test))\n",
    "\n",
    "M = confusion_matrix(y_test_pred, y_test)\n",
    "M = numpy.sqrt(M)\n",
    "pyplot.imshow(M, interpolation = 'nearest')\n",
    "pyplot.set_cmap('binary')\n",
    "pyplot.xticks(range(4))\n",
    "pyplot.yticks(range(4))\n",
    "pyplot.xlabel(\"true label\")\n",
    "pyplot.colorbar()\n",
    "pass"
   ]
  },
  {
   "cell_type": "code",
   "execution_count": 21,
   "id": "79e2f33f",
   "metadata": {},
   "outputs": [
    {
     "name": "stdout",
     "output_type": "stream",
     "text": [
      "              precision    recall  f1-score   support\n",
      "\n",
      "           0       0.99      0.15      0.26       676\n",
      "           1       0.45      1.00      0.62       475\n",
      "\n",
      "    accuracy                           0.50      1151\n",
      "   macro avg       0.72      0.57      0.44      1151\n",
      "weighted avg       0.77      0.50      0.41      1151\n",
      "\n"
     ]
    },
    {
     "data": {
      "image/png": "[encoded data removed]",
      "text/plain": [
       "<Figure size 432x288 with 2 Axes>"
      ]
     },
     "metadata": {
      "needs_background": "light"
     },
     "output_type": "display_data"
    }
   ],
   "source": [
    "from sklearn.metrics import plot_confusion_matrix\n",
    "from sklearn.metrics import classification_report\n",
    "plot_confusion_matrix(mlp, X_test, y_test)\n",
    "\n",
    "\n",
    "print(classification_report(y_test, y_test_pred))"
   ]
  },
  {
   "cell_type": "markdown",
   "id": "bcafa9a3",
   "metadata": {},
   "source": [
    "# Нейронная сеть с двумя скрытыми слоями на 50 элементов каждый"
   ]
  },
  {
   "cell_type": "code",
   "execution_count": 23,
   "id": "124826da",
   "metadata": {},
   "outputs": [
    {
     "name": "stdout",
     "output_type": "stream",
     "text": [
      "0.5371014492753623\n",
      "0.5169417897480452\n"
     ]
    }
   ],
   "source": [
    "mlp = MLPClassifier(hidden_layer_sizes = (50, 50), \n",
    "                          solver = 'lbfgs', activation = 'logistic', max_iter=1000, random_state = 42)\n",
    "mlp.fit(X_scaled, y_train)\n",
    "\n",
    "y_train_pred = mlp.predict(X_train)\n",
    "y_test_pred = mlp.predict(X_test)\n",
    "\n",
    "print(numpy.mean(y_train != y_train_pred))\n",
    "print(numpy.mean(y_test != y_test_pred))"
   ]
  },
  {
   "cell_type": "markdown",
   "id": "b60ea5b7",
   "metadata": {},
   "source": [
    "Выводы: наблюдается большая ошибка (0.54) на тренировочных данных и большая ошибка на тестовых данных (0.52), что свидетельствует о недообучении. Попробуем подобрать большее количество нейронов на каждом слое:"
   ]
  },
  {
   "cell_type": "code",
   "execution_count": 25,
   "id": "a2675ed9",
   "metadata": {},
   "outputs": [
    {
     "name": "stdout",
     "output_type": "stream",
     "text": [
      "55 55 :\n",
      "0.0017391304347826088\n",
      "0.5421372719374457\n",
      "------\n",
      "55 60 :\n",
      "0.0017391304347826088\n",
      "0.4630755864465682\n",
      "------\n",
      "55 65 :\n",
      "0.0017391304347826088\n",
      "0.5204170286707211\n",
      "------\n",
      "55 70 :\n",
      "0.0017391304347826088\n",
      "0.5056472632493484\n",
      "------\n",
      "55 75 :\n",
      "0.0017391304347826088\n",
      "0.525629887054735\n",
      "------\n",
      "60 55 :\n",
      "0.0014492753623188406\n",
      "0.525629887054735\n",
      "------\n",
      "60 60 :\n",
      "0.0014492753623188406\n",
      "0.5030408340573415\n",
      "------\n",
      "60 65 :\n",
      "0.0017391304347826088\n",
      "0.525629887054735\n",
      "------\n",
      "60 70 :\n",
      "0.0017391304347826088\n",
      "0.5082536924413553\n",
      "------\n",
      "60 75 :\n",
      "0.0014492753623188406\n",
      "0.47089487402258906\n",
      "------\n",
      "65 55 :\n",
      "0.0017391304347826088\n",
      "0.5403996524761078\n",
      "------\n",
      "65 60 :\n",
      "0.0014492753623188406\n",
      "0.525629887054735\n",
      "------\n",
      "65 65 :\n",
      "0.0014492753623188406\n",
      "0.5212858384013901\n",
      "------\n",
      "65 70 :\n",
      "0.0011594202898550724\n",
      "0.46741963509991313\n",
      "------\n",
      "65 75 :\n",
      "0.0014492753623188406\n",
      "0.5230234578627281\n",
      "------\n",
      "70 55 :\n",
      "0.0011594202898550724\n",
      "0.5212858384013901\n",
      "------\n",
      "70 60 :\n",
      "0.0017391304347826088\n",
      "0.5343179843614249\n",
      "------\n",
      "70 65 :\n",
      "0.0017391304347826088\n",
      "0.5299739357080799\n",
      "------\n",
      "70 70 :\n",
      "0.0011594202898550724\n",
      "0.523892267593397\n",
      "------\n",
      "70 75 :\n",
      "0.0014492753623188406\n",
      "0.5317115551694179\n",
      "------\n",
      "75 55 :\n",
      "0.0014492753623188406\n",
      "0.5343179843614249\n",
      "------\n",
      "75 60 :\n",
      "0.0017391304347826088\n",
      "0.5282363162467419\n",
      "------\n",
      "75 65 :\n",
      "0.0014492753623188406\n",
      "0.5013032145960035\n",
      "------\n",
      "75 70 :\n",
      "0.0017391304347826088\n",
      "0.5195482189400521\n",
      "------\n",
      "75 75 :\n",
      "0.0014492753623188406\n",
      "0.475238922675934\n",
      "------\n",
      "best: 55 60 0.0017391304347826088 0.4630755864465682\n"
     ]
    }
   ],
   "source": [
    "i_ans = -1\n",
    "j_ans = -1\n",
    "y_train_ans = 100500\n",
    "y_test_ans = 100500\n",
    "\n",
    "for i in [55, 60, 65, 70, 75]:\n",
    "    for j in [55, 60, 65, 70, 75]:\n",
    "        mlp = MLPClassifier(hidden_layer_sizes = (i, j), \n",
    "                                  solver = 'lbfgs', activation = 'logistic', max_iter=1000, random_state = 42)\n",
    "        mlp.fit(X_scaled, y_train)\n",
    "\n",
    "        y_train_pred = mlp.predict(X_scaled)\n",
    "        y_test_pred = mlp.predict(X_test)\n",
    "        print(i, j, ':')\n",
    "        print(numpy.mean(y_train != y_train_pred))\n",
    "        print(numpy.mean(y_test != y_test_pred))\n",
    "        if numpy.mean(y_test != y_test_pred) < y_test_ans:\n",
    "            i_ans       = i\n",
    "            j_ans       = j\n",
    "            y_train_ans = numpy.mean(y_train != y_train_pred)\n",
    "            y_test_ans  = numpy.mean(y_test != y_test_pred)\n",
    "        print('------')\n",
    "print(\"best:\", i_ans, j_ans, y_train_ans, y_test_ans)"
   ]
  },
  {
   "cell_type": "markdown",
   "id": "0c271447",
   "metadata": {},
   "source": [
    "Наилучшие результаты на двухслойной нейронной сети получились при двух слоях на 55 и 60 нейронов каждый. Попробуем для такой нейронной сети подобрать оптимальное значение alpha."
   ]
  },
  {
   "cell_type": "code",
   "execution_count": 31,
   "id": "f270b556",
   "metadata": {},
   "outputs": [],
   "source": [
    "alpha_array = numpy.logspace(-3, 2, 21)\n",
    "test_err = []\n",
    "train_err = []\n",
    "train_acc = []\n",
    "test_acc = []\n",
    "\n",
    "for alpha in alpha_array:\n",
    "    mlp = MLPClassifier(alpha = alpha, hidden_layer_sizes = (55, 60), \n",
    "                              solver = 'lbfgs', activation = 'logistic', max_iter=1000, random_state = 42)\n",
    "    mlp.fit(X_scaled, y_train)\n",
    "\n",
    "    y_train_pred = mlp.predict(X_scaled)\n",
    "    y_test_pred = mlp.predict(X_test)\n",
    "    \n",
    "    train_err.append(numpy.mean(y_train != y_train_pred))\n",
    "    test_err.append(numpy.mean(y_test != y_test_pred))\n",
    "    train_acc.append(accuracy_score(y_train, y_train_pred))\n",
    "    test_acc.append(accuracy_score(y_test, y_test_pred))"
   ]
  },
  {
   "cell_type": "code",
   "execution_count": 32,
   "id": "60b54bda",
   "metadata": {},
   "outputs": [
    {
     "data": {
      "text/plain": [
       "<matplotlib.legend.Legend at 0x1be97e7de80>"
      ]
     },
     "execution_count": 32,
     "metadata": {},
     "output_type": "execute_result"
    },
    {
     "data": {
      "image/png": "[encoded data removed]",
      "text/plain": [
       "<Figure size 432x288 with 1 Axes>"
      ]
     },
     "metadata": {
      "needs_background": "light"
     },
     "output_type": "display_data"
    }
   ],
   "source": [
    "pyplot.semilogx(alpha_array, train_err, 'b-o', label = 'train')\n",
    "pyplot.semilogx(alpha_array, test_err, 'r-o', label = 'test')\n",
    "pyplot.xlim([numpy.min(alpha_array), numpy.max(alpha_array)])\n",
    "pyplot.title('Error vs. alpha')\n",
    "pyplot.xlabel('alpha')\n",
    "pyplot.ylabel('error')\n",
    "pyplot.legend()"
   ]
  },
  {
   "cell_type": "code",
   "execution_count": 33,
   "id": "6cdb8da2",
   "metadata": {},
   "outputs": [
    {
     "name": "stdout",
     "output_type": "stream",
     "text": [
      "0.0014492753623188406 0.37532580364900087\n"
     ]
    }
   ],
   "source": [
    "min_train_err = numpy.min(train_err)\n",
    "min_test_err = numpy.min(test_err)\n",
    "print(min_train_err, min_test_err)"
   ]
  },
  {
   "cell_type": "code",
   "execution_count": 34,
   "id": "b28e838b",
   "metadata": {},
   "outputs": [
    {
     "data": {
      "text/plain": [
       "<matplotlib.legend.Legend at 0x1be9a5282b0>"
      ]
     },
     "execution_count": 34,
     "metadata": {},
     "output_type": "execute_result"
    },
    {
     "data": {
      "image/png": "[encoded data removed]",
      "text/plain": [
       "<Figure size 432x288 with 1 Axes>"
      ]
     },
     "metadata": {
      "needs_background": "light"
     },
     "output_type": "display_data"
    }
   ],
   "source": [
    "pyplot.semilogx(alpha_array, train_acc, 'r-o', label = 'train')\n",
    "pyplot.semilogx(alpha_array, test_acc, 'b-o', label = 'test')\n",
    "pyplot.xlim([numpy.min(alpha_array), numpy.max(alpha_array)])\n",
    "pyplot.title('Accuracy vs. alpha')\n",
    "pyplot.xlabel('alpha')\n",
    "pyplot.ylabel('Accuracy')\n",
    "pyplot.legend()"
   ]
  },
  {
   "cell_type": "markdown",
   "id": "518e6c41",
   "metadata": {},
   "source": [
    "# Нейронная сеть с одним скрытым слоем. Подбор числа нейронов и оптимального alpha"
   ]
  },
  {
   "cell_type": "code",
   "execution_count": 35,
   "id": "c28867b3",
   "metadata": {},
   "outputs": [],
   "source": [
    "num_elems_array = [x for x in range(10, 101, 10)]\n",
    "alpha_array = numpy.logspace(-3, 2, 11)\n",
    "test_err = []\n",
    "train_err = []\n",
    "train_acc = []\n",
    "test_acc = []\n",
    "\n",
    "alpha_opts = []\n",
    "min_test_errors = []\n",
    "min_train_errors = []\n",
    "min_test_accuracy = []\n",
    "min_train_accuracy = []\n",
    "\n",
    "for index, num_elems in enumerate(num_elems_array):\n",
    "    test_err.append(numpy.array([]))\n",
    "    train_err.append(numpy.array([]))\n",
    "    train_acc.append(numpy.array([]))\n",
    "    test_acc.append(numpy.array([]))\n",
    "    for alpha in alpha_array:\n",
    "        mlp = MLPClassifier(alpha = alpha, hidden_layer_sizes = (num_elems,), \n",
    "                              solver = 'lbfgs', activation = 'logistic', max_iter=1000, random_state = 42)\n",
    "        mlp.fit(X_scaled, y_train)\n",
    "        y_train_pred = mlp.predict(X_scaled)\n",
    "        y_test_pred = mlp.predict(X_test)\n",
    "        train_err[index] = numpy.append(train_err[index], numpy.mean(y_train != y_train_pred))\n",
    "        test_err[index] = numpy.append(test_err[index], numpy.mean(y_test != y_test_pred))\n",
    "        train_acc[index] = numpy.append(train_acc[index], accuracy_score(y_train, y_train_pred))\n",
    "        test_acc[index] = numpy.append(test_acc[index], accuracy_score(y_test, y_test_pred))\n",
    "    min_test_err = numpy.min(test_err[index])\n",
    "    alpha_opts.append(alpha_array[test_err[index] == min_test_err])\n",
    "    min_test_errors.append(min_test_err)\n",
    "    tmp = test_err[index] == min_test_err\n",
    "    min_train_errors.append(train_err[index][test_err[index] == min_test_err][0])\n",
    "    min_test_accuracy.append(test_acc[index][test_err[index] == min_test_err][0])\n",
    "    min_train_accuracy.append(train_acc[index][test_err[index] == min_test_err][0])"
   ]
  },
  {
   "cell_type": "code",
   "execution_count": 36,
   "id": "dda5d690",
   "metadata": {},
   "outputs": [
    {
     "data": {
      "text/plain": [
       "<matplotlib.legend.Legend at 0x1be9a1364f0>"
      ]
     },
     "execution_count": 36,
     "metadata": {},
     "output_type": "execute_result"
    },
    {
     "data": {
      "image/png": "[encoded data removed]",
      "text/plain": [
       "<Figure size 432x288 with 1 Axes>"
      ]
     },
     "metadata": {
      "needs_background": "light"
     },
     "output_type": "display_data"
    }
   ],
   "source": [
    "pyplot.semilogx(num_elems_array, min_train_errors, 'b-o', label = 'train')\n",
    "pyplot.semilogx(num_elems_array, min_test_errors, 'r-o', label = 'test')\n",
    "pyplot.xlim([numpy.min(num_elems_array), numpy.max(num_elems_array)])\n",
    "pyplot.title('Error vs. number_of_elements')\n",
    "pyplot.xlabel('num_elems')\n",
    "pyplot.ylabel('error')\n",
    "pyplot.legend()"
   ]
  },
  {
   "cell_type": "code",
   "execution_count": 37,
   "id": "cf2a6795",
   "metadata": {},
   "outputs": [
    {
     "data": {
      "text/plain": [
       "<matplotlib.legend.Legend at 0x1be9b712f70>"
      ]
     },
     "execution_count": 37,
     "metadata": {},
     "output_type": "execute_result"
    },
    {
     "data": {
      "image/png": "[encoded data removed]",
      "text/plain": [
       "<Figure size 432x288 with 1 Axes>"
      ]
     },
     "metadata": {
      "needs_background": "light"
     },
     "output_type": "display_data"
    }
   ],
   "source": [
    "pyplot.semilogx(num_elems_array, min_train_accuracy, 'r-o', label = 'train')\n",
    "pyplot.semilogx(num_elems_array, min_test_accuracy, 'b-o', label = 'test')\n",
    "pyplot.xlim([numpy.min(num_elems_array), numpy.max(num_elems_array)])\n",
    "pyplot.title('Accuracy vs. number_of_elements')\n",
    "pyplot.xlabel('number_of_elements')\n",
    "pyplot.ylabel('Accuracy')\n",
    "pyplot.legend()"
   ]
  },
  {
   "cell_type": "code",
   "execution_count": 38,
   "id": "d3165ce5",
   "metadata": {},
   "outputs": [
    {
     "name": "stdout",
     "output_type": "stream",
     "text": [
      "0.5125977410947002\n",
      "[3.16227766]\n"
     ]
    }
   ],
   "source": [
    "print(min_test_errors[5])\n",
    "print(alpha_opts[5])"
   ]
  },
  {
   "cell_type": "markdown",
   "id": "b8a1631f",
   "metadata": {},
   "source": [
    "Вывод: наименьшая ошибка, равная ~0.51 наблюдается при количестве нейронов, равном 10."
   ]
  },
  {
   "cell_type": "code",
   "execution_count": 39,
   "id": "5b99c9a6",
   "metadata": {},
   "outputs": [
    {
     "name": "stdout",
     "output_type": "stream",
     "text": [
      "n_estimators =  50\n",
      "err_train: 0.049565217391304345\n",
      "err_test: 0.05821025195482189\n",
      "---------\n",
      "n_estimators =  100\n",
      "err_train: 0.03536231884057971\n",
      "err_test: 0.05039096437880104\n",
      "---------\n",
      "n_estimators =  150\n",
      "err_train: 0.028985507246376812\n",
      "err_test: 0.04778453518679409\n",
      "---------\n",
      "n_estimators =  200\n",
      "err_train: 0.025797101449275363\n",
      "err_test: 0.046046915725456126\n",
      "---------\n",
      "n_estimators =  250\n",
      "err_train: 0.017971014492753623\n",
      "err_test: 0.046046915725456126\n",
      "---------\n",
      "n_estimators =  300\n",
      "err_train: 0.014782608695652174\n",
      "err_test: 0.046046915725456126\n",
      "---------\n",
      "n_estimators =  350\n",
      "err_train: 0.012753623188405797\n",
      "err_test: 0.045178105994787145\n",
      "---------\n",
      "n_estimators =  400\n",
      "err_train: 0.010144927536231883\n",
      "err_test: 0.04257167680278019\n",
      "---------\n",
      "n_estimators =  450\n",
      "err_train: 0.008695652173913044\n",
      "err_test: 0.04257167680278019\n",
      "---------\n",
      "n_estimators =  500\n",
      "err_train: 0.006956521739130435\n",
      "err_test: 0.04257167680278019\n",
      "---------\n",
      "best: 0.010144927536231883 0.04257167680278019\n"
     ]
    }
   ],
   "source": [
    "from sklearn.ensemble import GradientBoostingClassifier\n",
    "\n",
    "err_train_best = 100500\n",
    "err_test_best = 100500\n",
    "y_predict_best = []\n",
    "\n",
    "train_errors = []\n",
    "test_errors = []\n",
    "\n",
    "\n",
    "est_vals = [x for x in range(50,501,50)]\n",
    "\n",
    "for i in est_vals:\n",
    "    boost = GradientBoostingClassifier(n_estimators = i)\n",
    "    boost.fit(X_train, y_train)\n",
    "\n",
    "    y_test_predict = boost.predict(X_test)\n",
    "    err_train = numpy.mean(y_train != boost.predict(X_train))\n",
    "    err_test = numpy.mean(y_test != y_test_predict)\n",
    "    if err_test < err_test_best:\n",
    "        err_test_best = err_test\n",
    "        err_train_best = err_train\n",
    "        y_predict_best = y_test_predict\n",
    "    \n",
    "    train_errors.append(err_train)\n",
    "    test_errors.append(err_test)\n",
    "    print(\"n_estimators = \", i)\n",
    "    print(\"err_train:\", err_train)\n",
    "    print(\"err_test:\", err_test)\n",
    "    print(\"---------\")\n",
    "print(\"best:\", err_train_best, err_test_best)"
   ]
  },
  {
   "cell_type": "code",
   "execution_count": 40,
   "id": "4607a773",
   "metadata": {},
   "outputs": [
    {
     "data": {
      "text/plain": [
       "Text(0, 0.5, 'error')"
      ]
     },
     "execution_count": 40,
     "metadata": {},
     "output_type": "execute_result"
    },
    {
     "data": {
      "image/png": "[encoded data removed]",
      "text/plain": [
       "<Figure size 432x288 with 1 Axes>"
      ]
     },
     "metadata": {
      "needs_background": "light"
     },
     "output_type": "display_data"
    }
   ],
   "source": [
    "pyplot.semilogx(est_vals, train_errors, 'b-o', label = 'train')\n",
    "pyplot.semilogx(est_vals, test_errors, 'r-o', label = 'test')\n",
    "pyplot.title('n_estimators vs. error')\n",
    "pyplot.xlabel('n_estimators')\n",
    "pyplot.ylabel('error')"
   ]
  },
  {
   "cell_type": "code",
   "execution_count": 41,
   "id": "868390fc",
   "metadata": {},
   "outputs": [
    {
     "name": "stdout",
     "output_type": "stream",
     "text": [
      "[[662  35]\n",
      " [ 14 440]]\n",
      "              precision    recall  f1-score   support\n",
      "\n",
      "           0       1.00      0.06      0.11       676\n",
      "           1       0.43      1.00      0.60       475\n",
      "\n",
      "    accuracy                           0.45      1151\n",
      "   macro avg       0.71      0.53      0.36      1151\n",
      "weighted avg       0.76      0.45      0.31      1151\n",
      "\n"
     ]
    }
   ],
   "source": [
    "boost = GradientBoostingClassifier(n_estimators = 500)\n",
    "boost.fit(X_train, y_train)\n",
    "\n",
    "y_test_predict = boost.predict(X_test)\n",
    "err_train = numpy.mean(y_train != boost.predict(X_train))\n",
    "err_test = numpy.mean(y_test != y_test_predict)\n",
    "print(confusion_matrix(y_test_predict, y_test))\n",
    "print(classification_report(y_test, y_test_pred))"
   ]
  },
  {
   "cell_type": "markdown",
   "id": "e59f43b8",
   "metadata": {},
   "source": [
    "Самый лучший результат для метода Gradient Boost по ошибке на тесте достигает 4.3%."
   ]
  },
  {
   "cell_type": "markdown",
   "id": "90768680",
   "metadata": {},
   "source": [
    "# Random forest classifier"
   ]
  },
  {
   "cell_type": "code",
   "execution_count": 42,
   "id": "fdeb8a93",
   "metadata": {},
   "outputs": [
    {
     "name": "stdout",
     "output_type": "stream",
     "text": [
      "n_estimators =  25\n",
      "err_train: 0.0008695652173913044\n",
      "err_test: 0.043440486533449174\n",
      "---------\n",
      "n_estimators =  50\n",
      "err_train: 0.0008695652173913044\n",
      "err_test: 0.043440486533449174\n",
      "---------\n",
      "n_estimators =  75\n",
      "err_train: 0.0005797101449275362\n",
      "err_test: 0.043440486533449174\n",
      "---------\n",
      "n_estimators =  100\n",
      "err_train: 0.0005797101449275362\n",
      "err_test: 0.044309296264118156\n",
      "---------\n",
      "n_estimators =  125\n",
      "err_train: 0.0005797101449275362\n",
      "err_test: 0.04170286707211121\n",
      "---------\n",
      "n_estimators =  150\n",
      "err_train: 0.0005797101449275362\n",
      "err_test: 0.04083405734144222\n",
      "---------\n",
      "n_estimators =  175\n",
      "err_train: 0.0005797101449275362\n",
      "err_test: 0.043440486533449174\n",
      "---------\n",
      "n_estimators =  200\n",
      "err_train: 0.0005797101449275362\n",
      "err_test: 0.04257167680278019\n",
      "---------\n",
      "best: 0.0005797101449275362 0.04083405734144222\n"
     ]
    }
   ],
   "source": [
    "from sklearn.ensemble import RandomForestClassifier\n",
    "\n",
    "from sklearn.ensemble import GradientBoostingClassifier\n",
    "\n",
    "err_train_best = 100500\n",
    "err_test_best = 100500\n",
    "y_predict_best = []\n",
    "\n",
    "train_errors = []\n",
    "test_errors = []\n",
    "\n",
    "\n",
    "est_vals = [x for x in range(25,201,25)]\n",
    "\n",
    "for i in est_vals:\n",
    "    rfc = RandomForestClassifier(n_estimators=i)\n",
    "    rfc.fit(X_train, y_train)\n",
    "\n",
    "    y_test_predict = rfc.predict(X_test)\n",
    "    err_train = numpy.mean(y_train != rfc.predict(X_train))\n",
    "    err_test  = numpy.mean(y_test  != y_test_predict)\n",
    "    if err_test < err_test_best:\n",
    "        err_test_best = err_test\n",
    "        err_train_best = err_train\n",
    "        y_predict_best = y_test_predict\n",
    "    \n",
    "    train_errors.append(err_train)\n",
    "    test_errors.append(err_test)\n",
    "    print(\"n_estimators = \", i)\n",
    "    print(\"err_train:\", err_train)\n",
    "    print(\"err_test:\", err_test)\n",
    "    print(\"---------\")\n",
    "print(\"best:\", err_train_best, err_test_best)"
   ]
  },
  {
   "cell_type": "code",
   "execution_count": 43,
   "id": "8854acf3",
   "metadata": {},
   "outputs": [
    {
     "data": {
      "text/plain": [
       "Text(0, 0.5, 'error')"
      ]
     },
     "execution_count": 43,
     "metadata": {},
     "output_type": "execute_result"
    },
    {
     "data": {
      "image/png": "[encoded data removed]",
      "text/plain": [
       "<Figure size 432x288 with 1 Axes>"
      ]
     },
     "metadata": {
      "needs_background": "light"
     },
     "output_type": "display_data"
    }
   ],
   "source": [
    "pyplot.semilogx(est_vals, train_errors, 'b-o', label = 'train')\n",
    "pyplot.semilogx(est_vals, test_errors, 'r-o', label = 'test')\n",
    "pyplot.title('n_estimators vs. error')\n",
    "pyplot.xlabel('n_estimators')\n",
    "pyplot.ylabel('error')"
   ]
  },
  {
   "cell_type": "code",
   "execution_count": 46,
   "id": "25701c70",
   "metadata": {},
   "outputs": [
    {
     "name": "stdout",
     "output_type": "stream",
     "text": [
      "[[666  34]\n",
      " [ 10 441]]\n",
      "              precision    recall  f1-score   support\n",
      "\n",
      "           0       1.00      0.06      0.11       676\n",
      "           1       0.43      1.00      0.60       475\n",
      "\n",
      "    accuracy                           0.45      1151\n",
      "   macro avg       0.71      0.53      0.36      1151\n",
      "weighted avg       0.76      0.45      0.31      1151\n",
      "\n"
     ]
    }
   ],
   "source": [
    "rfc = RandomForestClassifier(n_estimators=150)\n",
    "rfc.fit(X_train, y_train)\n",
    "\n",
    "y_test_predict = rfc.predict(X_test)\n",
    "err_train = numpy.mean(y_train != rfc.predict(X_train))\n",
    "err_test  = numpy.mean(y_test  != y_test_predict)\n",
    "\n",
    "print(confusion_matrix(y_test_predict, y_test))\n",
    "print(classification_report(y_test, y_test_pred))"
   ]
  },
  {
   "cell_type": "markdown",
   "id": "ff42697d",
   "metadata": {},
   "source": [
    "Самый лучший результат для Random forest classifier - 4% ошибки на тестовой выборке."
   ]
  },
  {
   "cell_type": "markdown",
   "id": "ea70930f",
   "metadata": {},
   "source": [
    "# Decision Tree Classifier"
   ]
  },
  {
   "cell_type": "code",
   "execution_count": 47,
   "id": "f6bc0610",
   "metadata": {},
   "outputs": [
    {
     "name": "stdout",
     "output_type": "stream",
     "text": [
      "max_depth =  2\n",
      "err_train: 0.13014492753623189\n",
      "err_test: 0.14509122502172025\n",
      "---------\n",
      "max_depth =  4\n",
      "err_train: 0.08898550724637681\n",
      "err_test: 0.10425716768027801\n",
      "---------\n",
      "max_depth =  6\n",
      "err_train: 0.0672463768115942\n",
      "err_test: 0.0842745438748914\n",
      "---------\n",
      "max_depth =  8\n",
      "err_train: 0.0472463768115942\n",
      "err_test: 0.0790616854908775\n",
      "---------\n",
      "max_depth =  10\n",
      "err_train: 0.035652173913043476\n",
      "err_test: 0.07645525629887055\n",
      "---------\n",
      "max_depth =  12\n",
      "err_train: 0.024057971014492755\n",
      "err_test: 0.07211120764552563\n",
      "---------\n",
      "max_depth =  14\n",
      "err_train: 0.01884057971014493\n",
      "err_test: 0.06950477845351868\n",
      "---------\n",
      "best: 0.01884057971014493 0.06950477845351868\n"
     ]
    }
   ],
   "source": [
    "from sklearn.tree import DecisionTreeClassifier\n",
    "\n",
    "\n",
    "err_train_best = 100500\n",
    "err_test_best = 100500\n",
    "y_predict_best = []\n",
    "\n",
    "train_errors = []\n",
    "test_errors = []\n",
    "\n",
    "\n",
    "max_depths = [x for x in range(2, 16, 2)]\n",
    "\n",
    "for i in max_depths:\n",
    "    dtc = DecisionTreeClassifier(max_depth=i)\n",
    "    dtc.fit(X_train,y_train)\n",
    "\n",
    "    y_test_predict = dtc.predict(X_test)\n",
    "    err_train = numpy.mean(y_train != dtc.predict(X_train))\n",
    "    err_test = numpy.mean(y_test != y_test_predict)\n",
    "    if err_test < err_test_best:\n",
    "        err_test_best = err_test\n",
    "        err_train_best = err_train\n",
    "        y_predict_best = y_test_predict\n",
    "    \n",
    "    train_errors.append(err_train)\n",
    "    test_errors.append(err_test)\n",
    "    print(\"max_depth = \", i)\n",
    "    print(\"err_train:\", err_train)\n",
    "    print(\"err_test:\", err_test)\n",
    "    print(\"---------\")\n",
    "print(\"best:\", err_train_best, err_test_best)"
   ]
  },
  {
   "cell_type": "code",
   "execution_count": 48,
   "id": "212697c5",
   "metadata": {},
   "outputs": [
    {
     "data": {
      "text/plain": [
       "Text(0, 0.5, 'error')"
      ]
     },
     "execution_count": 48,
     "metadata": {},
     "output_type": "execute_result"
    },
    {
     "data": {
      "image/png": "[encoded data removed]",
      "text/plain": [
       "<Figure size 432x288 with 1 Axes>"
      ]
     },
     "metadata": {
      "needs_background": "light"
     },
     "output_type": "display_data"
    }
   ],
   "source": [
    "pyplot.semilogx(max_depths, train_errors, 'b-o', label = 'train')\n",
    "pyplot.semilogx(max_depths, test_errors, 'r-o', label = 'test')\n",
    "pyplot.title('max_depth vs. error')\n",
    "pyplot.xlabel('max_depth')\n",
    "pyplot.ylabel('error')"
   ]
  },
  {
   "cell_type": "code",
   "execution_count": 49,
   "id": "ae597188",
   "metadata": {},
   "outputs": [
    {
     "name": "stdout",
     "output_type": "stream",
     "text": [
      "[[646  30]\n",
      " [ 50 425]]\n",
      "              precision    recall  f1-score   support\n",
      "\n",
      "           0       0.93      0.96      0.94       676\n",
      "           1       0.93      0.89      0.91       475\n",
      "\n",
      "    accuracy                           0.93      1151\n",
      "   macro avg       0.93      0.93      0.93      1151\n",
      "weighted avg       0.93      0.93      0.93      1151\n",
      "\n"
     ]
    }
   ],
   "source": [
    "print(confusion_matrix(y_test, y_test_predict))\n",
    "print(classification_report(y_test, y_test_predict))"
   ]
  },
  {
   "cell_type": "markdown",
   "id": "93499aae",
   "metadata": {},
   "source": [
    "Лучший результат для данного метода - 6.9% на тестовой выборке."
   ]
  },
  {
   "cell_type": "markdown",
   "id": "6df8f95c",
   "metadata": {},
   "source": [
    "# Логистическая регрессия"
   ]
  },
  {
   "cell_type": "code",
   "execution_count": 50,
   "id": "a85aa5ec",
   "metadata": {},
   "outputs": [
    {
     "name": "stdout",
     "output_type": "stream",
     "text": [
      "err_train=0.07043478260869565\n",
      "err_test=0.06950477845351868\n",
      "\n",
      "[[651  55]\n",
      " [ 25 420]]\n",
      "              precision    recall  f1-score   support\n",
      "\n",
      "           0       0.92      0.96      0.94       676\n",
      "           1       0.94      0.88      0.91       475\n",
      "\n",
      "    accuracy                           0.93      1151\n",
      "   macro avg       0.93      0.92      0.93      1151\n",
      "weighted avg       0.93      0.93      0.93      1151\n",
      "\n"
     ]
    }
   ],
   "source": [
    "from sklearn.metrics import confusion_matrix\n",
    "from sklearn.metrics import classification_report\n",
    "from sklearn.linear_model import LogisticRegression\n",
    "\n",
    "clf = LogisticRegression(solver=\"liblinear\")\n",
    "clf.fit(X_train, y_train)\n",
    "\n",
    "y_test_predict = clf.predict(X_test)\n",
    "y_train_predict = clf.predict(X_train)\n",
    "\n",
    "err_test  = numpy.mean(y_test  != y_test_predict)\n",
    "err_train  = numpy.mean(y_train != y_train_predict)\n",
    "\n",
    "print(f\"{err_train=}\")\n",
    "print(f\"{err_test=}\", end=\"\\n\\n\")\n",
    "\n",
    "print(confusion_matrix(y_test_predict, y_test))\n",
    "print(classification_report(y_test, y_test_predict))"
   ]
  },
  {
   "cell_type": "code",
   "execution_count": null,
   "id": "4b027e8c",
   "metadata": {},
   "outputs": [],
   "source": []
  }
 ],
 "metadata": {
  "kernelspec": {
   "display_name": "Python 3 (ipykernel)",
   "language": "python",
   "name": "python3"
  },
  "language_info": {
   "codemirror_mode": {
    "name": "ipython",
    "version": 3
   },
   "file_extension": ".py",
   "mimetype": "text/x-python",
   "name": "python",
   "nbconvert_exporter": "python",
   "pygments_lexer": "ipython3",
   "version": "3.9.7"
  }
 },
 "nbformat": 4,
 "nbformat_minor": 5
}
