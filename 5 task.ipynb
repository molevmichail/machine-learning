{
  "cells": [
    {
      "cell_type": "markdown",
      "metadata": {
        "id": "KrVj9pORd4TN"
      },
      "source": [
        "# Лабораторная работа "
      ]
    },
    {
      "cell_type": "markdown",
      "metadata": {
        "id": "LCOszk2euwGm"
      },
      "source": [
        "## Текстовое описание датасета\n",
        "\n"
      ]
    },
    {
      "cell_type": "markdown",
      "metadata": {
        "id": "HyvC26OHY1ov"
      },
      "source": [
        "Этот набор данных содержит 18 тысяч описаний вакансий, из которых около 800 являются поддельными. Данные состоят как из текстовой информации, так и из метаинформации о вакансиях. \n",
        "\n",
        "Мы видим, что столбцы (признаки) имеют имена\n",
        "- `job_id` - порядковый номер\n",
        "- `title` - название компании\n",
        "- `location` - местоположение филиалов компании\n",
        "- `department` - отрасль компании\n",
        "- `salary_range` - зарплатная \"вилка\", указываются минимальная и максимальная зарплата\n",
        "- `company_profile` - профиль компании\n",
        "- `description` - описание компании \n",
        "- `requirements` - требования к работнику\n",
        "- `benefits` - приемущества компании\n",
        "- `telecommuting` - возможность удаленной работы\n",
        "- `has_company_logo` - имеет ли компания логотип\n",
        "- `has_questions` - имеется ли в компании собеседование\n",
        "- `employment_type` - форма занятости\n",
        "- `required_experience` - требуемый опыт работы\n",
        "- `required_education` - требуемое образование\n",
        "- `industry` - отрасль промшленности\n",
        "- `function` - функция компании\n",
        "- `fraudulent` - является ли вакансия \"фейковой\"\n",
        "\n",
        "Признак `job_id` явлается порядковым признаком.\n",
        "\n",
        "Признаки `employment_type`, `required_experience`, `required_education`, `function`, industry - номинальные (категориальные). \n",
        "\n",
        "Признаки `telecommuting`, `has_company_logo`, `has_questions`, `fraudulent` являются бинарными.\n",
        "\n",
        "Остальные признаки являются текстовыми.\n",
        "\n",
        "Требуется разделить вакансии по признаку `fraudulent`. То есть предсказать, является ли работа \"фейковой\" или нет.\n",
        "\n",
        "Это задача классификации."
      ]
    },
    {
      "cell_type": "markdown",
      "metadata": {
        "id": "794HuQbb_K_a"
      },
      "source": [
        "## Загрузка данных"
      ]
    },
    {
      "cell_type": "code",
      "execution_count": null,
      "metadata": {
        "id": "6hlS_4tidvF8"
      },
      "outputs": [],
      "source": [
        "import numpy as np              # Одномерные и многомерные массивы (array)\n",
        "import pandas as pd             # Таблицы и временные ряды (dataframe, series)\n",
        "import matplotlib.pyplot as plt # Научная графика\n",
        "import seaborn as sns           # Еще больше красивой графики для визуализации данных\n",
        "import sklearn                  # Алгоритмы машинного обучения"
      ]
    },
    {
      "cell_type": "code",
      "execution_count": null,
      "metadata": {
        "id": "hvxBeImvlXCp"
      },
      "outputs": [],
      "source": [
        "# Импортируем библиотеки для загрузки датасета через GoogleDrive\n",
        "from pydrive.auth import GoogleAuth\n",
        "from pydrive.drive import GoogleDrive\n",
        "from google.colab import auth\n",
        "from oauth2client.client import GoogleCredentials\n",
        "\n",
        "# Авторизация в личном аккаунте GoogleDrive\n",
        "auth.authenticate_user()\n",
        "gauth = GoogleAuth()\n",
        "gauth.credentials = GoogleCredentials.get_application_default()\n",
        "drive = GoogleDrive(gauth)\n",
        "\n",
        "# Нахождение нужного файла через его id и сохранение во временный файл 'fakejobs.csv'\n",
        "file_id = '1AUcimnSYMF0V5b2Zjr5ha2n2XCYSoyzb'\n",
        "downloaded = drive.CreateFile({'id': file_id})\n",
        "downloaded.GetContentFile('fakejobs.csv')\n",
        "\n",
        "# Чтение датасета\n",
        "data_raw = pd.read_csv('fakejobs.csv', on_bad_lines='skip')"
      ]
    },
    {
      "cell_type": "markdown",
      "metadata": {
        "id": "ey-EbYU9Q0zZ"
      },
      "source": [
        "## Просмотр датасета"
      ]
    },
    {
      "cell_type": "markdown",
      "metadata": {
        "id": "7H6m55eJ_WkB"
      },
      "source": [
        "Посмотрим размер загруженных данных"
      ]
    },
    {
      "cell_type": "code",
      "execution_count": null,
      "metadata": {
        "colab": {
          "base_uri": "https://localhost:8080/"
        },
        "id": "3z1XBZXoepBj",
        "outputId": "ddfc45e4-81ed-4931-dd50-69eced79e211"
      },
      "outputs": [
        {
          "data": {
            "text/plain": [
              "(17880, 18)"
            ]
          },
          "execution_count": 3,
          "metadata": {},
          "output_type": "execute_result"
        }
      ],
      "source": [
        "data_raw.shape\n"
      ]
    },
    {
      "cell_type": "markdown",
      "metadata": {
        "id": "QMumxR61_gw4"
      },
      "source": [
        "Выведем несколько строк датасета"
      ]
    },
    {
      "cell_type": "code",
      "execution_count": null,
      "metadata": {
        "colab": {
          "base_uri": "https://localhost:8080/"
        },
        "id": "nYPj6R84euXy",
        "outputId": "dad72c9a-23c7-4b38-870f-0dee463d0891"
      },
      "outputs": [
        {
          "data": {
            "text/html": [
              "\n",
              "  <div id=\"df-2aea9af9-ec25-45e2-86f6-fe3451bdf4b8\">\n",
              "    <div class=\"colab-df-container\">\n",
              "      <div>\n",
              "<style scoped>\n",
              "    .dataframe tbody tr th:only-of-type {\n",
              "        vertical-align: middle;\n",
              "    }\n",
              "\n",
              "    .dataframe tbody tr th {\n",
              "        vertical-align: top;\n",
              "    }\n",
              "\n",
              "    .dataframe thead th {\n",
              "        text-align: right;\n",
              "    }\n",
              "</style>\n",
              "<table border=\"1\" class=\"dataframe\">\n",
              "  <thead>\n",
              "    <tr style=\"text-align: right;\">\n",
              "      <th></th>\n",
              "      <th>job_id</th>\n",
              "      <th>title</th>\n",
              "      <th>location</th>\n",
              "      <th>department</th>\n",
              "      <th>salary_range</th>\n",
              "      <th>company_profile</th>\n",
              "      <th>description</th>\n",
              "      <th>requirements</th>\n",
              "      <th>benefits</th>\n",
              "      <th>telecommuting</th>\n",
              "      <th>has_company_logo</th>\n",
              "      <th>has_questions</th>\n",
              "      <th>employment_type</th>\n",
              "      <th>required_experience</th>\n",
              "      <th>required_education</th>\n",
              "      <th>industry</th>\n",
              "      <th>function</th>\n",
              "      <th>fraudulent</th>\n",
              "    </tr>\n",
              "  </thead>\n",
              "  <tbody>\n",
              "    <tr>\n",
              "      <th>0</th>\n",
              "      <td>1</td>\n",
              "      <td>Marketing Intern</td>\n",
              "      <td>US, NY, New York</td>\n",
              "      <td>Marketing</td>\n",
              "      <td>NaN</td>\n",
              "      <td>We're Food52, and we've created a groundbreaki...</td>\n",
              "      <td>Food52, a fast-growing, James Beard Award-winn...</td>\n",
              "      <td>Experience with content management systems a m...</td>\n",
              "      <td>NaN</td>\n",
              "      <td>0</td>\n",
              "      <td>1</td>\n",
              "      <td>0</td>\n",
              "      <td>Other</td>\n",
              "      <td>Internship</td>\n",
              "      <td>NaN</td>\n",
              "      <td>NaN</td>\n",
              "      <td>Marketing</td>\n",
              "      <td>0</td>\n",
              "    </tr>\n",
              "    <tr>\n",
              "      <th>1</th>\n",
              "      <td>2</td>\n",
              "      <td>Customer Service - Cloud Video Production</td>\n",
              "      <td>NZ, , Auckland</td>\n",
              "      <td>Success</td>\n",
              "      <td>NaN</td>\n",
              "      <td>90 Seconds, the worlds Cloud Video Production ...</td>\n",
              "      <td>Organised - Focused - Vibrant - Awesome!Do you...</td>\n",
              "      <td>What we expect from you:Your key responsibilit...</td>\n",
              "      <td>What you will get from usThrough being part of...</td>\n",
              "      <td>0</td>\n",
              "      <td>1</td>\n",
              "      <td>0</td>\n",
              "      <td>Full-time</td>\n",
              "      <td>Not Applicable</td>\n",
              "      <td>NaN</td>\n",
              "      <td>Marketing and Advertising</td>\n",
              "      <td>Customer Service</td>\n",
              "      <td>0</td>\n",
              "    </tr>\n",
              "    <tr>\n",
              "      <th>2</th>\n",
              "      <td>3</td>\n",
              "      <td>Commissioning Machinery Assistant (CMA)</td>\n",
              "      <td>US, IA, Wever</td>\n",
              "      <td>NaN</td>\n",
              "      <td>NaN</td>\n",
              "      <td>Valor Services provides Workforce Solutions th...</td>\n",
              "      <td>Our client, located in Houston, is actively se...</td>\n",
              "      <td>Implement pre-commissioning and commissioning ...</td>\n",
              "      <td>NaN</td>\n",
              "      <td>0</td>\n",
              "      <td>1</td>\n",
              "      <td>0</td>\n",
              "      <td>NaN</td>\n",
              "      <td>NaN</td>\n",
              "      <td>NaN</td>\n",
              "      <td>NaN</td>\n",
              "      <td>NaN</td>\n",
              "      <td>0</td>\n",
              "    </tr>\n",
              "    <tr>\n",
              "      <th>3</th>\n",
              "      <td>4</td>\n",
              "      <td>Account Executive - Washington DC</td>\n",
              "      <td>US, DC, Washington</td>\n",
              "      <td>Sales</td>\n",
              "      <td>NaN</td>\n",
              "      <td>Our passion for improving quality of life thro...</td>\n",
              "      <td>THE COMPANY: ESRI – Environmental Systems Rese...</td>\n",
              "      <td>EDUCATION: Bachelor’s or Master’s in GIS, busi...</td>\n",
              "      <td>Our culture is anything but corporate—we have ...</td>\n",
              "      <td>0</td>\n",
              "      <td>1</td>\n",
              "      <td>0</td>\n",
              "      <td>Full-time</td>\n",
              "      <td>Mid-Senior level</td>\n",
              "      <td>Bachelor's Degree</td>\n",
              "      <td>Computer Software</td>\n",
              "      <td>Sales</td>\n",
              "      <td>0</td>\n",
              "    </tr>\n",
              "    <tr>\n",
              "      <th>4</th>\n",
              "      <td>5</td>\n",
              "      <td>Bill Review Manager</td>\n",
              "      <td>US, FL, Fort Worth</td>\n",
              "      <td>NaN</td>\n",
              "      <td>NaN</td>\n",
              "      <td>SpotSource Solutions LLC is a Global Human Cap...</td>\n",
              "      <td>JOB TITLE: Itemization Review ManagerLOCATION:...</td>\n",
              "      <td>QUALIFICATIONS:RN license in the State of Texa...</td>\n",
              "      <td>Full Benefits Offered</td>\n",
              "      <td>0</td>\n",
              "      <td>1</td>\n",
              "      <td>1</td>\n",
              "      <td>Full-time</td>\n",
              "      <td>Mid-Senior level</td>\n",
              "      <td>Bachelor's Degree</td>\n",
              "      <td>Hospital &amp; Health Care</td>\n",
              "      <td>Health Care Provider</td>\n",
              "      <td>0</td>\n",
              "    </tr>\n",
              "  </tbody>\n",
              "</table>\n",
              "</div>\n",
              "      <button class=\"colab-df-convert\" onclick=\"convertToInteractive('df-2aea9af9-ec25-45e2-86f6-fe3451bdf4b8')\"\n",
              "              title=\"Convert this dataframe to an interactive table.\"\n",
              "              style=\"display:none;\">\n",
              "        \n",
              "  <svg xmlns=\"http://www.w3.org/2000/svg\" height=\"24px\"viewBox=\"0 0 24 24\"\n",
              "       width=\"24px\">\n",
              "    <path d=\"M0 0h24v24H0V0z\" fill=\"none\"/>\n",
              "    <path d=\"M18.56 5.44l.94 2.06.94-2.06 2.06-.94-2.06-.94-.94-2.06-.94 2.06-2.06.94zm-11 1L8.5 8.5l.94-2.06 2.06-.94-2.06-.94L8.5 2.5l-.94 2.06-2.06.94zm10 10l.94 2.06.94-2.06 2.06-.94-2.06-.94-.94-2.06-.94 2.06-2.06.94z\"/><path d=\"M17.41 7.96l-1.37-1.37c-.4-.4-.92-.59-1.43-.59-.52 0-1.04.2-1.43.59L10.3 9.45l-7.72 7.72c-.78.78-.78 2.05 0 2.83L4 21.41c.39.39.9.59 1.41.59.51 0 1.02-.2 1.41-.59l7.78-7.78 2.81-2.81c.8-.78.8-2.07 0-2.86zM5.41 20L4 18.59l7.72-7.72 1.47 1.35L5.41 20z\"/>\n",
              "  </svg>\n",
              "      </button>\n",
              "      \n",
              "  <style>\n",
              "    .colab-df-container {\n",
              "      display:flex;\n",
              "      flex-wrap:wrap;\n",
              "      gap: 12px;\n",
              "    }\n",
              "\n",
              "    .colab-df-convert {\n",
              "      background-color: #E8F0FE;\n",
              "      border: none;\n",
              "      border-radius: 50%;\n",
              "      cursor: pointer;\n",
              "      display: none;\n",
              "      fill: #1967D2;\n",
              "      height: 32px;\n",
              "      padding: 0 0 0 0;\n",
              "      width: 32px;\n",
              "    }\n",
              "\n",
              "    .colab-df-convert:hover {\n",
              "      background-color: #E2EBFA;\n",
              "      box-shadow: 0px 1px 2px rgba(60, 64, 67, 0.3), 0px 1px 3px 1px rgba(60, 64, 67, 0.15);\n",
              "      fill: #174EA6;\n",
              "    }\n",
              "\n",
              "    [theme=dark] .colab-df-convert {\n",
              "      background-color: #3B4455;\n",
              "      fill: #D2E3FC;\n",
              "    }\n",
              "\n",
              "    [theme=dark] .colab-df-convert:hover {\n",
              "      background-color: #434B5C;\n",
              "      box-shadow: 0px 1px 3px 1px rgba(0, 0, 0, 0.15);\n",
              "      filter: drop-shadow(0px 1px 2px rgba(0, 0, 0, 0.3));\n",
              "      fill: #FFFFFF;\n",
              "    }\n",
              "  </style>\n",
              "\n",
              "      <script>\n",
              "        const buttonEl =\n",
              "          document.querySelector('#df-2aea9af9-ec25-45e2-86f6-fe3451bdf4b8 button.colab-df-convert');\n",
              "        buttonEl.style.display =\n",
              "          google.colab.kernel.accessAllowed ? 'block' : 'none';\n",
              "\n",
              "        async function convertToInteractive(key) {\n",
              "          const element = document.querySelector('#df-2aea9af9-ec25-45e2-86f6-fe3451bdf4b8');\n",
              "          const dataTable =\n",
              "            await google.colab.kernel.invokeFunction('convertToInteractive',\n",
              "                                                     [key], {});\n",
              "          if (!dataTable) return;\n",
              "\n",
              "          const docLinkHtml = 'Like what you see? Visit the ' +\n",
              "            '<a target=\"_blank\" href=https://colab.research.google.com/notebooks/data_table.ipynb>data table notebook</a>'\n",
              "            + ' to learn more about interactive tables.';\n",
              "          element.innerHTML = '';\n",
              "          dataTable['output_type'] = 'display_data';\n",
              "          await google.colab.output.renderOutput(dataTable, element);\n",
              "          const docLink = document.createElement('div');\n",
              "          docLink.innerHTML = docLinkHtml;\n",
              "          element.appendChild(docLink);\n",
              "        }\n",
              "      </script>\n",
              "    </div>\n",
              "  </div>\n",
              "  "
            ],
            "text/plain": [
              "   job_id                                      title            location  \\\n",
              "0       1                           Marketing Intern    US, NY, New York   \n",
              "1       2  Customer Service - Cloud Video Production      NZ, , Auckland   \n",
              "2       3    Commissioning Machinery Assistant (CMA)       US, IA, Wever   \n",
              "3       4          Account Executive - Washington DC  US, DC, Washington   \n",
              "4       5                        Bill Review Manager  US, FL, Fort Worth   \n",
              "\n",
              "  department salary_range                                    company_profile  \\\n",
              "0  Marketing          NaN  We're Food52, and we've created a groundbreaki...   \n",
              "1    Success          NaN  90 Seconds, the worlds Cloud Video Production ...   \n",
              "2        NaN          NaN  Valor Services provides Workforce Solutions th...   \n",
              "3      Sales          NaN  Our passion for improving quality of life thro...   \n",
              "4        NaN          NaN  SpotSource Solutions LLC is a Global Human Cap...   \n",
              "\n",
              "                                         description  \\\n",
              "0  Food52, a fast-growing, James Beard Award-winn...   \n",
              "1  Organised - Focused - Vibrant - Awesome!Do you...   \n",
              "2  Our client, located in Houston, is actively se...   \n",
              "3  THE COMPANY: ESRI – Environmental Systems Rese...   \n",
              "4  JOB TITLE: Itemization Review ManagerLOCATION:...   \n",
              "\n",
              "                                        requirements  \\\n",
              "0  Experience with content management systems a m...   \n",
              "1  What we expect from you:Your key responsibilit...   \n",
              "2  Implement pre-commissioning and commissioning ...   \n",
              "3  EDUCATION: Bachelor’s or Master’s in GIS, busi...   \n",
              "4  QUALIFICATIONS:RN license in the State of Texa...   \n",
              "\n",
              "                                            benefits  telecommuting  \\\n",
              "0                                                NaN              0   \n",
              "1  What you will get from usThrough being part of...              0   \n",
              "2                                                NaN              0   \n",
              "3  Our culture is anything but corporate—we have ...              0   \n",
              "4                              Full Benefits Offered              0   \n",
              "\n",
              "   has_company_logo  has_questions employment_type required_experience  \\\n",
              "0                 1              0           Other          Internship   \n",
              "1                 1              0       Full-time      Not Applicable   \n",
              "2                 1              0             NaN                 NaN   \n",
              "3                 1              0       Full-time    Mid-Senior level   \n",
              "4                 1              1       Full-time    Mid-Senior level   \n",
              "\n",
              "  required_education                   industry              function  \\\n",
              "0                NaN                        NaN             Marketing   \n",
              "1                NaN  Marketing and Advertising      Customer Service   \n",
              "2                NaN                        NaN                   NaN   \n",
              "3  Bachelor's Degree          Computer Software                 Sales   \n",
              "4  Bachelor's Degree     Hospital & Health Care  Health Care Provider   \n",
              "\n",
              "   fraudulent  \n",
              "0           0  \n",
              "1           0  \n",
              "2           0  \n",
              "3           0  \n",
              "4           0  "
            ]
          },
          "execution_count": 4,
          "metadata": {},
          "output_type": "execute_result"
        }
      ],
      "source": [
        "data_raw.head()\n"
      ]
    },
    {
      "cell_type": "markdown",
      "metadata": {
        "id": "W0LTzGpc_sAJ"
      },
      "source": [
        "## Найдем признаки с категориальным типом и преобразуем их"
      ]
    },
    {
      "cell_type": "markdown",
      "metadata": {
        "id": "0ERmsaZ343Hd"
      },
      "source": [
        "Столбцы 'employment_type', 'required_education', 'required_experience' и 'function' содержат категориальные значения. Пока они имеют тип 'Object'. Заменим тип на специальный, предназначенный для хранения категориальных значений:"
      ]
    },
    {
      "cell_type": "code",
      "execution_count": null,
      "metadata": {
        "id": "N8FqtEdFzNQp"
      },
      "outputs": [],
      "source": [
        "data_raw['employment_type'] = data_raw['employment_type'].astype('category')\n",
        "data_raw['required_experience'] = data_raw['required_experience'].astype('category')\n",
        "data_raw['required_education'] = data_raw['required_education'].astype('category')\n",
        "data_raw['function'] = data_raw['function'].astype('category')\n",
        "data_raw['industry'] = data_raw['industry'].astype('category')"
      ]
    },
    {
      "cell_type": "code",
      "execution_count": null,
      "metadata": {
        "colab": {
          "base_uri": "https://localhost:8080/"
        },
        "id": "OZxHhe4SzfFu",
        "outputId": "7dd603ed-bc35-48a6-8998-3cb7c97bfc02"
      },
      "outputs": [
        {
          "data": {
            "text/plain": [
              "CategoricalDtype(categories=['Contract', 'Full-time', 'Other', 'Part-time', 'Temporary'], ordered=False)"
            ]
          },
          "execution_count": 6,
          "metadata": {},
          "output_type": "execute_result"
        }
      ],
      "source": [
        "data_raw['employment_type'].dtype"
      ]
    },
    {
      "cell_type": "code",
      "execution_count": null,
      "metadata": {
        "colab": {
          "base_uri": "https://localhost:8080/"
        },
        "id": "bf9ORGTz0eZu",
        "outputId": "75f08f58-fe34-4249-958e-4e71fcf2e35c"
      },
      "outputs": [
        {
          "data": {
            "text/plain": [
              "CategoricalDtype(categories=['Associate', 'Director', 'Entry level', 'Executive',\n",
              "                  'Internship', 'Mid-Senior level', 'Not Applicable'],\n",
              ", ordered=False)"
            ]
          },
          "execution_count": 7,
          "metadata": {},
          "output_type": "execute_result"
        }
      ],
      "source": [
        "data_raw['required_experience'].dtype"
      ]
    },
    {
      "cell_type": "code",
      "execution_count": null,
      "metadata": {
        "colab": {
          "base_uri": "https://localhost:8080/"
        },
        "id": "_kSthsgQ1I9o",
        "outputId": "67a029e5-c1e9-4dac-f757-1f0d80600b5a"
      },
      "outputs": [
        {
          "data": {
            "text/plain": [
              "CategoricalDtype(categories=['Associate Degree', 'Bachelor's Degree', 'Certification',\n",
              "                  'Doctorate', 'High School or equivalent', 'Master's Degree',\n",
              "                  'Professional', 'Some College Coursework Completed',\n",
              "                  'Some High School Coursework', 'Unspecified', 'Vocational',\n",
              "                  'Vocational - Degree', 'Vocational - HS Diploma'],\n",
              ", ordered=False)"
            ]
          },
          "execution_count": 8,
          "metadata": {},
          "output_type": "execute_result"
        }
      ],
      "source": [
        "data_raw['required_education'].dtype"
      ]
    },
    {
      "cell_type": "code",
      "execution_count": null,
      "metadata": {
        "colab": {
          "base_uri": "https://localhost:8080/"
        },
        "id": "LGV7udd21Xtn",
        "outputId": "c9027cac-6948-4928-9e0c-983932e4fd90"
      },
      "outputs": [
        {
          "data": {
            "text/plain": [
              "CategoricalDtype(categories=['Accounting/Auditing', 'Administrative', 'Advertising',\n",
              "                  'Art/Creative', 'Business Analyst', 'Business Development',\n",
              "                  'Consulting', 'Customer Service', 'Data Analyst', 'Design',\n",
              "                  'Distribution', 'Education', 'Engineering', 'Finance',\n",
              "                  'Financial Analyst', 'General Business',\n",
              "                  'Health Care Provider', 'Human Resources',\n",
              "                  'Information Technology', 'Legal', 'Management',\n",
              "                  'Manufacturing', 'Marketing', 'Other', 'Product Management',\n",
              "                  'Production', 'Project Management', 'Public Relations',\n",
              "                  'Purchasing', 'Quality Assurance', 'Research', 'Sales',\n",
              "                  'Science', 'Strategy/Planning', 'Supply Chain', 'Training',\n",
              "                  'Writing/Editing'],\n",
              ", ordered=False)"
            ]
          },
          "execution_count": 9,
          "metadata": {},
          "output_type": "execute_result"
        }
      ],
      "source": [
        "data_raw['function'].dtype"
      ]
    },
    {
      "cell_type": "code",
      "execution_count": null,
      "metadata": {
        "colab": {
          "base_uri": "https://localhost:8080/"
        },
        "id": "PCP8YBtwP-_s",
        "outputId": "915c39c0-fa55-47c6-a8eb-f76a13310d24"
      },
      "outputs": [
        {
          "data": {
            "text/plain": [
              "CategoricalDtype(categories=['Accounting', 'Airlines/Aviation',\n",
              "                  'Alternative Dispute Resolution', 'Animation',\n",
              "                  'Apparel & Fashion', 'Architecture & Planning', 'Automotive',\n",
              "                  'Aviation & Aerospace', 'Banking', 'Biotechnology',\n",
              "                  ...\n",
              "                  'Translation and Localization',\n",
              "                  'Transportation/Trucking/Railroad', 'Utilities',\n",
              "                  'Venture Capital & Private Equity', 'Veterinary',\n",
              "                  'Warehousing', 'Wholesale', 'Wine and Spirits', 'Wireless',\n",
              "                  'Writing and Editing'],\n",
              ", ordered=False)"
            ]
          },
          "execution_count": 10,
          "metadata": {},
          "output_type": "execute_result"
        }
      ],
      "source": [
        "data_raw['industry'].dtype"
      ]
    },
    {
      "cell_type": "markdown",
      "metadata": {
        "id": "5ojjmhcEigqi"
      },
      "source": [
        "## Статистика датасета"
      ]
    },
    {
      "cell_type": "markdown",
      "metadata": {
        "id": "4bdbINEeBvBI"
      },
      "source": [
        "Выведем статистику по всем признакам датасета"
      ]
    },
    {
      "cell_type": "code",
      "execution_count": null,
      "metadata": {
        "colab": {
          "base_uri": "https://localhost:8080/"
        },
        "id": "GKp3Jqmh5Z_m",
        "outputId": "c22df347-e645-444c-d350-769930817ba3"
      },
      "outputs": [
        {
          "data": {
            "text/html": [
              "\n",
              "  <div id=\"df-5cc5415b-98b1-42d6-a115-485551b04ba3\">\n",
              "    <div class=\"colab-df-container\">\n",
              "      <div>\n",
              "<style scoped>\n",
              "    .dataframe tbody tr th:only-of-type {\n",
              "        vertical-align: middle;\n",
              "    }\n",
              "\n",
              "    .dataframe tbody tr th {\n",
              "        vertical-align: top;\n",
              "    }\n",
              "\n",
              "    .dataframe thead th {\n",
              "        text-align: right;\n",
              "    }\n",
              "</style>\n",
              "<table border=\"1\" class=\"dataframe\">\n",
              "  <thead>\n",
              "    <tr style=\"text-align: right;\">\n",
              "      <th></th>\n",
              "      <th>job_id</th>\n",
              "      <th>title</th>\n",
              "      <th>location</th>\n",
              "      <th>department</th>\n",
              "      <th>salary_range</th>\n",
              "      <th>company_profile</th>\n",
              "      <th>description</th>\n",
              "      <th>requirements</th>\n",
              "      <th>benefits</th>\n",
              "      <th>telecommuting</th>\n",
              "      <th>has_company_logo</th>\n",
              "      <th>has_questions</th>\n",
              "      <th>employment_type</th>\n",
              "      <th>required_experience</th>\n",
              "      <th>required_education</th>\n",
              "      <th>industry</th>\n",
              "      <th>function</th>\n",
              "      <th>fraudulent</th>\n",
              "    </tr>\n",
              "  </thead>\n",
              "  <tbody>\n",
              "    <tr>\n",
              "      <th>count</th>\n",
              "      <td>17880.000000</td>\n",
              "      <td>17880</td>\n",
              "      <td>17534</td>\n",
              "      <td>6333</td>\n",
              "      <td>2868</td>\n",
              "      <td>14572</td>\n",
              "      <td>17879</td>\n",
              "      <td>15185</td>\n",
              "      <td>10670</td>\n",
              "      <td>17880.000000</td>\n",
              "      <td>17880.000000</td>\n",
              "      <td>17880.000000</td>\n",
              "      <td>14409</td>\n",
              "      <td>10830</td>\n",
              "      <td>9775</td>\n",
              "      <td>12977</td>\n",
              "      <td>11425</td>\n",
              "      <td>17880.000000</td>\n",
              "    </tr>\n",
              "    <tr>\n",
              "      <th>unique</th>\n",
              "      <td>NaN</td>\n",
              "      <td>11231</td>\n",
              "      <td>3105</td>\n",
              "      <td>1337</td>\n",
              "      <td>874</td>\n",
              "      <td>1709</td>\n",
              "      <td>14801</td>\n",
              "      <td>11968</td>\n",
              "      <td>6205</td>\n",
              "      <td>NaN</td>\n",
              "      <td>NaN</td>\n",
              "      <td>NaN</td>\n",
              "      <td>5</td>\n",
              "      <td>7</td>\n",
              "      <td>13</td>\n",
              "      <td>131</td>\n",
              "      <td>37</td>\n",
              "      <td>NaN</td>\n",
              "    </tr>\n",
              "    <tr>\n",
              "      <th>top</th>\n",
              "      <td>NaN</td>\n",
              "      <td>English Teacher Abroad</td>\n",
              "      <td>GB, LND, London</td>\n",
              "      <td>Sales</td>\n",
              "      <td>0-0</td>\n",
              "      <td>We help teachers get safe &amp;amp; secure jobs ab...</td>\n",
              "      <td>Play with kids, get paid for it Love travel? J...</td>\n",
              "      <td>University degree required. TEFL / TESOL / CEL...</td>\n",
              "      <td>See job description</td>\n",
              "      <td>NaN</td>\n",
              "      <td>NaN</td>\n",
              "      <td>NaN</td>\n",
              "      <td>Full-time</td>\n",
              "      <td>Mid-Senior level</td>\n",
              "      <td>Bachelor's Degree</td>\n",
              "      <td>Information Technology and Services</td>\n",
              "      <td>Information Technology</td>\n",
              "      <td>NaN</td>\n",
              "    </tr>\n",
              "    <tr>\n",
              "      <th>freq</th>\n",
              "      <td>NaN</td>\n",
              "      <td>311</td>\n",
              "      <td>718</td>\n",
              "      <td>551</td>\n",
              "      <td>142</td>\n",
              "      <td>726</td>\n",
              "      <td>379</td>\n",
              "      <td>410</td>\n",
              "      <td>726</td>\n",
              "      <td>NaN</td>\n",
              "      <td>NaN</td>\n",
              "      <td>NaN</td>\n",
              "      <td>11620</td>\n",
              "      <td>3809</td>\n",
              "      <td>5145</td>\n",
              "      <td>1734</td>\n",
              "      <td>1749</td>\n",
              "      <td>NaN</td>\n",
              "    </tr>\n",
              "    <tr>\n",
              "      <th>mean</th>\n",
              "      <td>8940.500000</td>\n",
              "      <td>NaN</td>\n",
              "      <td>NaN</td>\n",
              "      <td>NaN</td>\n",
              "      <td>NaN</td>\n",
              "      <td>NaN</td>\n",
              "      <td>NaN</td>\n",
              "      <td>NaN</td>\n",
              "      <td>NaN</td>\n",
              "      <td>0.042897</td>\n",
              "      <td>0.795302</td>\n",
              "      <td>0.491723</td>\n",
              "      <td>NaN</td>\n",
              "      <td>NaN</td>\n",
              "      <td>NaN</td>\n",
              "      <td>NaN</td>\n",
              "      <td>NaN</td>\n",
              "      <td>0.048434</td>\n",
              "    </tr>\n",
              "    <tr>\n",
              "      <th>std</th>\n",
              "      <td>5161.655742</td>\n",
              "      <td>NaN</td>\n",
              "      <td>NaN</td>\n",
              "      <td>NaN</td>\n",
              "      <td>NaN</td>\n",
              "      <td>NaN</td>\n",
              "      <td>NaN</td>\n",
              "      <td>NaN</td>\n",
              "      <td>NaN</td>\n",
              "      <td>0.202631</td>\n",
              "      <td>0.403492</td>\n",
              "      <td>0.499945</td>\n",
              "      <td>NaN</td>\n",
              "      <td>NaN</td>\n",
              "      <td>NaN</td>\n",
              "      <td>NaN</td>\n",
              "      <td>NaN</td>\n",
              "      <td>0.214688</td>\n",
              "    </tr>\n",
              "    <tr>\n",
              "      <th>min</th>\n",
              "      <td>1.000000</td>\n",
              "      <td>NaN</td>\n",
              "      <td>NaN</td>\n",
              "      <td>NaN</td>\n",
              "      <td>NaN</td>\n",
              "      <td>NaN</td>\n",
              "      <td>NaN</td>\n",
              "      <td>NaN</td>\n",
              "      <td>NaN</td>\n",
              "      <td>0.000000</td>\n",
              "      <td>0.000000</td>\n",
              "      <td>0.000000</td>\n",
              "      <td>NaN</td>\n",
              "      <td>NaN</td>\n",
              "      <td>NaN</td>\n",
              "      <td>NaN</td>\n",
              "      <td>NaN</td>\n",
              "      <td>0.000000</td>\n",
              "    </tr>\n",
              "    <tr>\n",
              "      <th>25%</th>\n",
              "      <td>4470.750000</td>\n",
              "      <td>NaN</td>\n",
              "      <td>NaN</td>\n",
              "      <td>NaN</td>\n",
              "      <td>NaN</td>\n",
              "      <td>NaN</td>\n",
              "      <td>NaN</td>\n",
              "      <td>NaN</td>\n",
              "      <td>NaN</td>\n",
              "      <td>0.000000</td>\n",
              "      <td>1.000000</td>\n",
              "      <td>0.000000</td>\n",
              "      <td>NaN</td>\n",
              "      <td>NaN</td>\n",
              "      <td>NaN</td>\n",
              "      <td>NaN</td>\n",
              "      <td>NaN</td>\n",
              "      <td>0.000000</td>\n",
              "    </tr>\n",
              "    <tr>\n",
              "      <th>50%</th>\n",
              "      <td>8940.500000</td>\n",
              "      <td>NaN</td>\n",
              "      <td>NaN</td>\n",
              "      <td>NaN</td>\n",
              "      <td>NaN</td>\n",
              "      <td>NaN</td>\n",
              "      <td>NaN</td>\n",
              "      <td>NaN</td>\n",
              "      <td>NaN</td>\n",
              "      <td>0.000000</td>\n",
              "      <td>1.000000</td>\n",
              "      <td>0.000000</td>\n",
              "      <td>NaN</td>\n",
              "      <td>NaN</td>\n",
              "      <td>NaN</td>\n",
              "      <td>NaN</td>\n",
              "      <td>NaN</td>\n",
              "      <td>0.000000</td>\n",
              "    </tr>\n",
              "    <tr>\n",
              "      <th>75%</th>\n",
              "      <td>13410.250000</td>\n",
              "      <td>NaN</td>\n",
              "      <td>NaN</td>\n",
              "      <td>NaN</td>\n",
              "      <td>NaN</td>\n",
              "      <td>NaN</td>\n",
              "      <td>NaN</td>\n",
              "      <td>NaN</td>\n",
              "      <td>NaN</td>\n",
              "      <td>0.000000</td>\n",
              "      <td>1.000000</td>\n",
              "      <td>1.000000</td>\n",
              "      <td>NaN</td>\n",
              "      <td>NaN</td>\n",
              "      <td>NaN</td>\n",
              "      <td>NaN</td>\n",
              "      <td>NaN</td>\n",
              "      <td>0.000000</td>\n",
              "    </tr>\n",
              "    <tr>\n",
              "      <th>max</th>\n",
              "      <td>17880.000000</td>\n",
              "      <td>NaN</td>\n",
              "      <td>NaN</td>\n",
              "      <td>NaN</td>\n",
              "      <td>NaN</td>\n",
              "      <td>NaN</td>\n",
              "      <td>NaN</td>\n",
              "      <td>NaN</td>\n",
              "      <td>NaN</td>\n",
              "      <td>1.000000</td>\n",
              "      <td>1.000000</td>\n",
              "      <td>1.000000</td>\n",
              "      <td>NaN</td>\n",
              "      <td>NaN</td>\n",
              "      <td>NaN</td>\n",
              "      <td>NaN</td>\n",
              "      <td>NaN</td>\n",
              "      <td>1.000000</td>\n",
              "    </tr>\n",
              "  </tbody>\n",
              "</table>\n",
              "</div>\n",
              "      <button class=\"colab-df-convert\" onclick=\"convertToInteractive('df-5cc5415b-98b1-42d6-a115-485551b04ba3')\"\n",
              "              title=\"Convert this dataframe to an interactive table.\"\n",
              "              style=\"display:none;\">\n",
              "        \n",
              "  <svg xmlns=\"http://www.w3.org/2000/svg\" height=\"24px\"viewBox=\"0 0 24 24\"\n",
              "       width=\"24px\">\n",
              "    <path d=\"M0 0h24v24H0V0z\" fill=\"none\"/>\n",
              "    <path d=\"M18.56 5.44l.94 2.06.94-2.06 2.06-.94-2.06-.94-.94-2.06-.94 2.06-2.06.94zm-11 1L8.5 8.5l.94-2.06 2.06-.94-2.06-.94L8.5 2.5l-.94 2.06-2.06.94zm10 10l.94 2.06.94-2.06 2.06-.94-2.06-.94-.94-2.06-.94 2.06-2.06.94z\"/><path d=\"M17.41 7.96l-1.37-1.37c-.4-.4-.92-.59-1.43-.59-.52 0-1.04.2-1.43.59L10.3 9.45l-7.72 7.72c-.78.78-.78 2.05 0 2.83L4 21.41c.39.39.9.59 1.41.59.51 0 1.02-.2 1.41-.59l7.78-7.78 2.81-2.81c.8-.78.8-2.07 0-2.86zM5.41 20L4 18.59l7.72-7.72 1.47 1.35L5.41 20z\"/>\n",
              "  </svg>\n",
              "      </button>\n",
              "      \n",
              "  <style>\n",
              "    .colab-df-container {\n",
              "      display:flex;\n",
              "      flex-wrap:wrap;\n",
              "      gap: 12px;\n",
              "    }\n",
              "\n",
              "    .colab-df-convert {\n",
              "      background-color: #E8F0FE;\n",
              "      border: none;\n",
              "      border-radius: 50%;\n",
              "      cursor: pointer;\n",
              "      display: none;\n",
              "      fill: #1967D2;\n",
              "      height: 32px;\n",
              "      padding: 0 0 0 0;\n",
              "      width: 32px;\n",
              "    }\n",
              "\n",
              "    .colab-df-convert:hover {\n",
              "      background-color: #E2EBFA;\n",
              "      box-shadow: 0px 1px 2px rgba(60, 64, 67, 0.3), 0px 1px 3px 1px rgba(60, 64, 67, 0.15);\n",
              "      fill: #174EA6;\n",
              "    }\n",
              "\n",
              "    [theme=dark] .colab-df-convert {\n",
              "      background-color: #3B4455;\n",
              "      fill: #D2E3FC;\n",
              "    }\n",
              "\n",
              "    [theme=dark] .colab-df-convert:hover {\n",
              "      background-color: #434B5C;\n",
              "      box-shadow: 0px 1px 3px 1px rgba(0, 0, 0, 0.15);\n",
              "      filter: drop-shadow(0px 1px 2px rgba(0, 0, 0, 0.3));\n",
              "      fill: #FFFFFF;\n",
              "    }\n",
              "  </style>\n",
              "\n",
              "      <script>\n",
              "        const buttonEl =\n",
              "          document.querySelector('#df-5cc5415b-98b1-42d6-a115-485551b04ba3 button.colab-df-convert');\n",
              "        buttonEl.style.display =\n",
              "          google.colab.kernel.accessAllowed ? 'block' : 'none';\n",
              "\n",
              "        async function convertToInteractive(key) {\n",
              "          const element = document.querySelector('#df-5cc5415b-98b1-42d6-a115-485551b04ba3');\n",
              "          const dataTable =\n",
              "            await google.colab.kernel.invokeFunction('convertToInteractive',\n",
              "                                                     [key], {});\n",
              "          if (!dataTable) return;\n",
              "\n",
              "          const docLinkHtml = 'Like what you see? Visit the ' +\n",
              "            '<a target=\"_blank\" href=https://colab.research.google.com/notebooks/data_table.ipynb>data table notebook</a>'\n",
              "            + ' to learn more about interactive tables.';\n",
              "          element.innerHTML = '';\n",
              "          dataTable['output_type'] = 'display_data';\n",
              "          await google.colab.output.renderOutput(dataTable, element);\n",
              "          const docLink = document.createElement('div');\n",
              "          docLink.innerHTML = docLinkHtml;\n",
              "          element.appendChild(docLink);\n",
              "        }\n",
              "      </script>\n",
              "    </div>\n",
              "  </div>\n",
              "  "
            ],
            "text/plain": [
              "              job_id                    title         location department  \\\n",
              "count   17880.000000                    17880            17534       6333   \n",
              "unique           NaN                    11231             3105       1337   \n",
              "top              NaN  English Teacher Abroad   GB, LND, London      Sales   \n",
              "freq             NaN                      311              718        551   \n",
              "mean     8940.500000                      NaN              NaN        NaN   \n",
              "std      5161.655742                      NaN              NaN        NaN   \n",
              "min         1.000000                      NaN              NaN        NaN   \n",
              "25%      4470.750000                      NaN              NaN        NaN   \n",
              "50%      8940.500000                      NaN              NaN        NaN   \n",
              "75%     13410.250000                      NaN              NaN        NaN   \n",
              "max     17880.000000                      NaN              NaN        NaN   \n",
              "\n",
              "       salary_range                                    company_profile  \\\n",
              "count          2868                                              14572   \n",
              "unique          874                                               1709   \n",
              "top             0-0  We help teachers get safe &amp; secure jobs ab...   \n",
              "freq            142                                                726   \n",
              "mean            NaN                                                NaN   \n",
              "std             NaN                                                NaN   \n",
              "min             NaN                                                NaN   \n",
              "25%             NaN                                                NaN   \n",
              "50%             NaN                                                NaN   \n",
              "75%             NaN                                                NaN   \n",
              "max             NaN                                                NaN   \n",
              "\n",
              "                                              description  \\\n",
              "count                                               17879   \n",
              "unique                                              14801   \n",
              "top     Play with kids, get paid for it Love travel? J...   \n",
              "freq                                                  379   \n",
              "mean                                                  NaN   \n",
              "std                                                   NaN   \n",
              "min                                                   NaN   \n",
              "25%                                                   NaN   \n",
              "50%                                                   NaN   \n",
              "75%                                                   NaN   \n",
              "max                                                   NaN   \n",
              "\n",
              "                                             requirements  \\\n",
              "count                                               15185   \n",
              "unique                                              11968   \n",
              "top     University degree required. TEFL / TESOL / CEL...   \n",
              "freq                                                  410   \n",
              "mean                                                  NaN   \n",
              "std                                                   NaN   \n",
              "min                                                   NaN   \n",
              "25%                                                   NaN   \n",
              "50%                                                   NaN   \n",
              "75%                                                   NaN   \n",
              "max                                                   NaN   \n",
              "\n",
              "                   benefits  telecommuting  has_company_logo  has_questions  \\\n",
              "count                 10670   17880.000000      17880.000000   17880.000000   \n",
              "unique                 6205            NaN               NaN            NaN   \n",
              "top     See job description            NaN               NaN            NaN   \n",
              "freq                    726            NaN               NaN            NaN   \n",
              "mean                    NaN       0.042897          0.795302       0.491723   \n",
              "std                     NaN       0.202631          0.403492       0.499945   \n",
              "min                     NaN       0.000000          0.000000       0.000000   \n",
              "25%                     NaN       0.000000          1.000000       0.000000   \n",
              "50%                     NaN       0.000000          1.000000       0.000000   \n",
              "75%                     NaN       0.000000          1.000000       1.000000   \n",
              "max                     NaN       1.000000          1.000000       1.000000   \n",
              "\n",
              "       employment_type required_experience required_education  \\\n",
              "count            14409               10830               9775   \n",
              "unique               5                   7                 13   \n",
              "top          Full-time    Mid-Senior level  Bachelor's Degree   \n",
              "freq             11620                3809               5145   \n",
              "mean               NaN                 NaN                NaN   \n",
              "std                NaN                 NaN                NaN   \n",
              "min                NaN                 NaN                NaN   \n",
              "25%                NaN                 NaN                NaN   \n",
              "50%                NaN                 NaN                NaN   \n",
              "75%                NaN                 NaN                NaN   \n",
              "max                NaN                 NaN                NaN   \n",
              "\n",
              "                                   industry                function  \\\n",
              "count                                 12977                   11425   \n",
              "unique                                  131                      37   \n",
              "top     Information Technology and Services  Information Technology   \n",
              "freq                                   1734                    1749   \n",
              "mean                                    NaN                     NaN   \n",
              "std                                     NaN                     NaN   \n",
              "min                                     NaN                     NaN   \n",
              "25%                                     NaN                     NaN   \n",
              "50%                                     NaN                     NaN   \n",
              "75%                                     NaN                     NaN   \n",
              "max                                     NaN                     NaN   \n",
              "\n",
              "          fraudulent  \n",
              "count   17880.000000  \n",
              "unique           NaN  \n",
              "top              NaN  \n",
              "freq             NaN  \n",
              "mean        0.048434  \n",
              "std         0.214688  \n",
              "min         0.000000  \n",
              "25%         0.000000  \n",
              "50%         0.000000  \n",
              "75%         0.000000  \n",
              "max         1.000000  "
            ]
          },
          "execution_count": 11,
          "metadata": {},
          "output_type": "execute_result"
        }
      ],
      "source": [
        "data_raw.describe(include = 'all')"
      ]
    },
    {
      "cell_type": "markdown",
      "metadata": {
        "id": "oyhI7UvXB6HV"
      },
      "source": [
        "Выведем статистику по признакам, относящимся к категориальным"
      ]
    },
    {
      "cell_type": "code",
      "execution_count": null,
      "metadata": {
        "colab": {
          "base_uri": "https://localhost:8080/"
        },
        "id": "3pe_j4kt5krb",
        "outputId": "1289be68-7726-4272-c395-6355457d1764"
      },
      "outputs": [
        {
          "data": {
            "text/html": [
              "\n",
              "  <div id=\"df-63846dd0-a25d-4906-a402-e72a6046e385\">\n",
              "    <div class=\"colab-df-container\">\n",
              "      <div>\n",
              "<style scoped>\n",
              "    .dataframe tbody tr th:only-of-type {\n",
              "        vertical-align: middle;\n",
              "    }\n",
              "\n",
              "    .dataframe tbody tr th {\n",
              "        vertical-align: top;\n",
              "    }\n",
              "\n",
              "    .dataframe thead th {\n",
              "        text-align: right;\n",
              "    }\n",
              "</style>\n",
              "<table border=\"1\" class=\"dataframe\">\n",
              "  <thead>\n",
              "    <tr style=\"text-align: right;\">\n",
              "      <th></th>\n",
              "      <th>employment_type</th>\n",
              "      <th>required_experience</th>\n",
              "      <th>required_education</th>\n",
              "      <th>industry</th>\n",
              "      <th>function</th>\n",
              "    </tr>\n",
              "  </thead>\n",
              "  <tbody>\n",
              "    <tr>\n",
              "      <th>count</th>\n",
              "      <td>14409</td>\n",
              "      <td>10830</td>\n",
              "      <td>9775</td>\n",
              "      <td>12977</td>\n",
              "      <td>11425</td>\n",
              "    </tr>\n",
              "    <tr>\n",
              "      <th>unique</th>\n",
              "      <td>5</td>\n",
              "      <td>7</td>\n",
              "      <td>13</td>\n",
              "      <td>131</td>\n",
              "      <td>37</td>\n",
              "    </tr>\n",
              "    <tr>\n",
              "      <th>top</th>\n",
              "      <td>Full-time</td>\n",
              "      <td>Mid-Senior level</td>\n",
              "      <td>Bachelor's Degree</td>\n",
              "      <td>Information Technology and Services</td>\n",
              "      <td>Information Technology</td>\n",
              "    </tr>\n",
              "    <tr>\n",
              "      <th>freq</th>\n",
              "      <td>11620</td>\n",
              "      <td>3809</td>\n",
              "      <td>5145</td>\n",
              "      <td>1734</td>\n",
              "      <td>1749</td>\n",
              "    </tr>\n",
              "  </tbody>\n",
              "</table>\n",
              "</div>\n",
              "      <button class=\"colab-df-convert\" onclick=\"convertToInteractive('df-63846dd0-a25d-4906-a402-e72a6046e385')\"\n",
              "              title=\"Convert this dataframe to an interactive table.\"\n",
              "              style=\"display:none;\">\n",
              "        \n",
              "  <svg xmlns=\"http://www.w3.org/2000/svg\" height=\"24px\"viewBox=\"0 0 24 24\"\n",
              "       width=\"24px\">\n",
              "    <path d=\"M0 0h24v24H0V0z\" fill=\"none\"/>\n",
              "    <path d=\"M18.56 5.44l.94 2.06.94-2.06 2.06-.94-2.06-.94-.94-2.06-.94 2.06-2.06.94zm-11 1L8.5 8.5l.94-2.06 2.06-.94-2.06-.94L8.5 2.5l-.94 2.06-2.06.94zm10 10l.94 2.06.94-2.06 2.06-.94-2.06-.94-.94-2.06-.94 2.06-2.06.94z\"/><path d=\"M17.41 7.96l-1.37-1.37c-.4-.4-.92-.59-1.43-.59-.52 0-1.04.2-1.43.59L10.3 9.45l-7.72 7.72c-.78.78-.78 2.05 0 2.83L4 21.41c.39.39.9.59 1.41.59.51 0 1.02-.2 1.41-.59l7.78-7.78 2.81-2.81c.8-.78.8-2.07 0-2.86zM5.41 20L4 18.59l7.72-7.72 1.47 1.35L5.41 20z\"/>\n",
              "  </svg>\n",
              "      </button>\n",
              "      \n",
              "  <style>\n",
              "    .colab-df-container {\n",
              "      display:flex;\n",
              "      flex-wrap:wrap;\n",
              "      gap: 12px;\n",
              "    }\n",
              "\n",
              "    .colab-df-convert {\n",
              "      background-color: #E8F0FE;\n",
              "      border: none;\n",
              "      border-radius: 50%;\n",
              "      cursor: pointer;\n",
              "      display: none;\n",
              "      fill: #1967D2;\n",
              "      height: 32px;\n",
              "      padding: 0 0 0 0;\n",
              "      width: 32px;\n",
              "    }\n",
              "\n",
              "    .colab-df-convert:hover {\n",
              "      background-color: #E2EBFA;\n",
              "      box-shadow: 0px 1px 2px rgba(60, 64, 67, 0.3), 0px 1px 3px 1px rgba(60, 64, 67, 0.15);\n",
              "      fill: #174EA6;\n",
              "    }\n",
              "\n",
              "    [theme=dark] .colab-df-convert {\n",
              "      background-color: #3B4455;\n",
              "      fill: #D2E3FC;\n",
              "    }\n",
              "\n",
              "    [theme=dark] .colab-df-convert:hover {\n",
              "      background-color: #434B5C;\n",
              "      box-shadow: 0px 1px 3px 1px rgba(0, 0, 0, 0.15);\n",
              "      filter: drop-shadow(0px 1px 2px rgba(0, 0, 0, 0.3));\n",
              "      fill: #FFFFFF;\n",
              "    }\n",
              "  </style>\n",
              "\n",
              "      <script>\n",
              "        const buttonEl =\n",
              "          document.querySelector('#df-63846dd0-a25d-4906-a402-e72a6046e385 button.colab-df-convert');\n",
              "        buttonEl.style.display =\n",
              "          google.colab.kernel.accessAllowed ? 'block' : 'none';\n",
              "\n",
              "        async function convertToInteractive(key) {\n",
              "          const element = document.querySelector('#df-63846dd0-a25d-4906-a402-e72a6046e385');\n",
              "          const dataTable =\n",
              "            await google.colab.kernel.invokeFunction('convertToInteractive',\n",
              "                                                     [key], {});\n",
              "          if (!dataTable) return;\n",
              "\n",
              "          const docLinkHtml = 'Like what you see? Visit the ' +\n",
              "            '<a target=\"_blank\" href=https://colab.research.google.com/notebooks/data_table.ipynb>data table notebook</a>'\n",
              "            + ' to learn more about interactive tables.';\n",
              "          element.innerHTML = '';\n",
              "          dataTable['output_type'] = 'display_data';\n",
              "          await google.colab.output.renderOutput(dataTable, element);\n",
              "          const docLink = document.createElement('div');\n",
              "          docLink.innerHTML = docLinkHtml;\n",
              "          element.appendChild(docLink);\n",
              "        }\n",
              "      </script>\n",
              "    </div>\n",
              "  </div>\n",
              "  "
            ],
            "text/plain": [
              "       employment_type required_experience required_education  \\\n",
              "count            14409               10830               9775   \n",
              "unique               5                   7                 13   \n",
              "top          Full-time    Mid-Senior level  Bachelor's Degree   \n",
              "freq             11620                3809               5145   \n",
              "\n",
              "                                   industry                function  \n",
              "count                                 12977                   11425  \n",
              "unique                                  131                      37  \n",
              "top     Information Technology and Services  Information Technology  \n",
              "freq                                   1734                    1749  "
            ]
          },
          "execution_count": 12,
          "metadata": {},
          "output_type": "execute_result"
        }
      ],
      "source": [
        "data_raw.describe(include=['category'])"
      ]
    },
    {
      "cell_type": "markdown",
      "metadata": {
        "id": "3iH956DlDuL-"
      },
      "source": [
        "## Корреляция"
      ]
    },
    {
      "cell_type": "markdown",
      "metadata": {
        "id": "7MBdoFMsEAzZ"
      },
      "source": [
        "Выведем матрицу корреляции датасета"
      ]
    },
    {
      "cell_type": "code",
      "execution_count": null,
      "metadata": {
        "colab": {
          "base_uri": "https://localhost:8080/"
        },
        "id": "K0CaBHUiEHvH",
        "outputId": "1e83d4df-8694-4f61-8829-17612a7b409c"
      },
      "outputs": [
        {
          "data": {
            "text/html": [
              "\n",
              "  <div id=\"df-208d9054-1779-48a3-bf89-407a2ae6107a\">\n",
              "    <div class=\"colab-df-container\">\n",
              "      <div>\n",
              "<style scoped>\n",
              "    .dataframe tbody tr th:only-of-type {\n",
              "        vertical-align: middle;\n",
              "    }\n",
              "\n",
              "    .dataframe tbody tr th {\n",
              "        vertical-align: top;\n",
              "    }\n",
              "\n",
              "    .dataframe thead th {\n",
              "        text-align: right;\n",
              "    }\n",
              "</style>\n",
              "<table border=\"1\" class=\"dataframe\">\n",
              "  <thead>\n",
              "    <tr style=\"text-align: right;\">\n",
              "      <th></th>\n",
              "      <th>job_id</th>\n",
              "      <th>telecommuting</th>\n",
              "      <th>has_company_logo</th>\n",
              "      <th>has_questions</th>\n",
              "      <th>fraudulent</th>\n",
              "    </tr>\n",
              "  </thead>\n",
              "  <tbody>\n",
              "    <tr>\n",
              "      <th>job_id</th>\n",
              "      <td>1.000000</td>\n",
              "      <td>-0.004559</td>\n",
              "      <td>-0.014539</td>\n",
              "      <td>-0.087025</td>\n",
              "      <td>0.079872</td>\n",
              "    </tr>\n",
              "    <tr>\n",
              "      <th>telecommuting</th>\n",
              "      <td>-0.004559</td>\n",
              "      <td>1.000000</td>\n",
              "      <td>-0.019836</td>\n",
              "      <td>0.020345</td>\n",
              "      <td>0.034523</td>\n",
              "    </tr>\n",
              "    <tr>\n",
              "      <th>has_company_logo</th>\n",
              "      <td>-0.014539</td>\n",
              "      <td>-0.019836</td>\n",
              "      <td>1.000000</td>\n",
              "      <td>0.233932</td>\n",
              "      <td>-0.261971</td>\n",
              "    </tr>\n",
              "    <tr>\n",
              "      <th>has_questions</th>\n",
              "      <td>-0.087025</td>\n",
              "      <td>0.020345</td>\n",
              "      <td>0.233932</td>\n",
              "      <td>1.000000</td>\n",
              "      <td>-0.091627</td>\n",
              "    </tr>\n",
              "    <tr>\n",
              "      <th>fraudulent</th>\n",
              "      <td>0.079872</td>\n",
              "      <td>0.034523</td>\n",
              "      <td>-0.261971</td>\n",
              "      <td>-0.091627</td>\n",
              "      <td>1.000000</td>\n",
              "    </tr>\n",
              "  </tbody>\n",
              "</table>\n",
              "</div>\n",
              "      <button class=\"colab-df-convert\" onclick=\"convertToInteractive('df-208d9054-1779-48a3-bf89-407a2ae6107a')\"\n",
              "              title=\"Convert this dataframe to an interactive table.\"\n",
              "              style=\"display:none;\">\n",
              "        \n",
              "  <svg xmlns=\"http://www.w3.org/2000/svg\" height=\"24px\"viewBox=\"0 0 24 24\"\n",
              "       width=\"24px\">\n",
              "    <path d=\"M0 0h24v24H0V0z\" fill=\"none\"/>\n",
              "    <path d=\"M18.56 5.44l.94 2.06.94-2.06 2.06-.94-2.06-.94-.94-2.06-.94 2.06-2.06.94zm-11 1L8.5 8.5l.94-2.06 2.06-.94-2.06-.94L8.5 2.5l-.94 2.06-2.06.94zm10 10l.94 2.06.94-2.06 2.06-.94-2.06-.94-.94-2.06-.94 2.06-2.06.94z\"/><path d=\"M17.41 7.96l-1.37-1.37c-.4-.4-.92-.59-1.43-.59-.52 0-1.04.2-1.43.59L10.3 9.45l-7.72 7.72c-.78.78-.78 2.05 0 2.83L4 21.41c.39.39.9.59 1.41.59.51 0 1.02-.2 1.41-.59l7.78-7.78 2.81-2.81c.8-.78.8-2.07 0-2.86zM5.41 20L4 18.59l7.72-7.72 1.47 1.35L5.41 20z\"/>\n",
              "  </svg>\n",
              "      </button>\n",
              "      \n",
              "  <style>\n",
              "    .colab-df-container {\n",
              "      display:flex;\n",
              "      flex-wrap:wrap;\n",
              "      gap: 12px;\n",
              "    }\n",
              "\n",
              "    .colab-df-convert {\n",
              "      background-color: #E8F0FE;\n",
              "      border: none;\n",
              "      border-radius: 50%;\n",
              "      cursor: pointer;\n",
              "      display: none;\n",
              "      fill: #1967D2;\n",
              "      height: 32px;\n",
              "      padding: 0 0 0 0;\n",
              "      width: 32px;\n",
              "    }\n",
              "\n",
              "    .colab-df-convert:hover {\n",
              "      background-color: #E2EBFA;\n",
              "      box-shadow: 0px 1px 2px rgba(60, 64, 67, 0.3), 0px 1px 3px 1px rgba(60, 64, 67, 0.15);\n",
              "      fill: #174EA6;\n",
              "    }\n",
              "\n",
              "    [theme=dark] .colab-df-convert {\n",
              "      background-color: #3B4455;\n",
              "      fill: #D2E3FC;\n",
              "    }\n",
              "\n",
              "    [theme=dark] .colab-df-convert:hover {\n",
              "      background-color: #434B5C;\n",
              "      box-shadow: 0px 1px 3px 1px rgba(0, 0, 0, 0.15);\n",
              "      filter: drop-shadow(0px 1px 2px rgba(0, 0, 0, 0.3));\n",
              "      fill: #FFFFFF;\n",
              "    }\n",
              "  </style>\n",
              "\n",
              "      <script>\n",
              "        const buttonEl =\n",
              "          document.querySelector('#df-208d9054-1779-48a3-bf89-407a2ae6107a button.colab-df-convert');\n",
              "        buttonEl.style.display =\n",
              "          google.colab.kernel.accessAllowed ? 'block' : 'none';\n",
              "\n",
              "        async function convertToInteractive(key) {\n",
              "          const element = document.querySelector('#df-208d9054-1779-48a3-bf89-407a2ae6107a');\n",
              "          const dataTable =\n",
              "            await google.colab.kernel.invokeFunction('convertToInteractive',\n",
              "                                                     [key], {});\n",
              "          if (!dataTable) return;\n",
              "\n",
              "          const docLinkHtml = 'Like what you see? Visit the ' +\n",
              "            '<a target=\"_blank\" href=https://colab.research.google.com/notebooks/data_table.ipynb>data table notebook</a>'\n",
              "            + ' to learn more about interactive tables.';\n",
              "          element.innerHTML = '';\n",
              "          dataTable['output_type'] = 'display_data';\n",
              "          await google.colab.output.renderOutput(dataTable, element);\n",
              "          const docLink = document.createElement('div');\n",
              "          docLink.innerHTML = docLinkHtml;\n",
              "          element.appendChild(docLink);\n",
              "        }\n",
              "      </script>\n",
              "    </div>\n",
              "  </div>\n",
              "  "
            ],
            "text/plain": [
              "                    job_id  telecommuting  has_company_logo  has_questions  \\\n",
              "job_id            1.000000      -0.004559         -0.014539      -0.087025   \n",
              "telecommuting    -0.004559       1.000000         -0.019836       0.020345   \n",
              "has_company_logo -0.014539      -0.019836          1.000000       0.233932   \n",
              "has_questions    -0.087025       0.020345          0.233932       1.000000   \n",
              "fraudulent        0.079872       0.034523         -0.261971      -0.091627   \n",
              "\n",
              "                  fraudulent  \n",
              "job_id              0.079872  \n",
              "telecommuting       0.034523  \n",
              "has_company_logo   -0.261971  \n",
              "has_questions      -0.091627  \n",
              "fraudulent          1.000000  "
            ]
          },
          "execution_count": 13,
          "metadata": {},
          "output_type": "execute_result"
        }
      ],
      "source": [
        "data_raw.corr()"
      ]
    },
    {
      "cell_type": "markdown",
      "metadata": {
        "id": "jFWqFjpiEZ4Y"
      },
      "source": [
        "Визуализация матрицы корреляции"
      ]
    },
    {
      "cell_type": "code",
      "execution_count": null,
      "metadata": {
        "colab": {
          "base_uri": "https://localhost:8080/"
        },
        "id": "7qdiKDA8ESox",
        "outputId": "ead81dcd-6be1-457b-8965-807f6ff17552"
      },
      "outputs": [
        {
          "data": {
            "text/plain": [
              "<matplotlib.axes._subplots.AxesSubplot at 0x7f359b8031f0>"
            ]
          },
          "execution_count": 14,
          "metadata": {},
          "output_type": "execute_result"
        },
        {
          "data": {
            "image/png": "[encoded data removed]",
            "text/plain": [
              "<Figure size 432x288 with 2 Axes>"
            ]
          },
          "metadata": {
            "needs_background": "light"
          },
          "output_type": "display_data"
        }
      ],
      "source": [
        "sns.heatmap(data_raw.corr(), square=True, fmt='.2f', vmin=-1, vmax=1, cmap='coolwarm')"
      ]
    },
    {
      "cell_type": "markdown",
      "metadata": {
        "id": "ElBVdfdcEvhO"
      },
      "source": [
        "Из этой матрицы нас больше всего интересует последняя строка: Как \"фейковость\" вакансии зависит от других признаков.\n",
        "\n",
        "Видно, что из всех значимых признаков больше всех прослеживается корреляция с признаком `telecommuting` (удаленная работа)"
      ]
    },
    {
      "cell_type": "markdown",
      "metadata": {
        "id": "o2X674w_F74t"
      },
      "source": [
        "## Обработка пропущенных значений"
      ]
    },
    {
      "cell_type": "markdown",
      "metadata": {
        "id": "6F8B-TRcGDvC"
      },
      "source": [
        "Посмотрим, какие признаки имеют пропущенные значения"
      ]
    },
    {
      "cell_type": "code",
      "execution_count": null,
      "metadata": {
        "colab": {
          "base_uri": "https://localhost:8080/"
        },
        "id": "ndiQO-rnFAAH",
        "outputId": "b452648e-d7f4-4fb8-c3af-021eadb30612"
      },
      "outputs": [
        {
          "data": {
            "text/plain": [
              "job_id                     0\n",
              "title                      0\n",
              "location                 346\n",
              "department             11547\n",
              "salary_range           15012\n",
              "company_profile         3308\n",
              "description                1\n",
              "requirements            2695\n",
              "benefits                7210\n",
              "telecommuting              0\n",
              "has_company_logo           0\n",
              "has_questions              0\n",
              "employment_type         3471\n",
              "required_experience     7050\n",
              "required_education      8105\n",
              "industry                4903\n",
              "function                6455\n",
              "fraudulent                 0\n",
              "dtype: int64"
            ]
          },
          "execution_count": 15,
          "metadata": {},
          "output_type": "execute_result"
        }
      ],
      "source": [
        "data_raw.isna().sum()"
      ]
    },
    {
      "cell_type": "markdown",
      "metadata": {
        "id": "bjXqbbfAH-9z"
      },
      "source": [
        "Исключим из датасета столбец`job_id`. Он не несет никакой смысловой нагрузки, поэтому бесполезен.\n",
        "Признаки `description`, `company_profile`, `department`, `location` и `title` так же не могут влиять на ход исследования.\n",
        "\n",
        "Признак `salary_range` имеет смысл, но некоторые значения этого параметра невозможно привести к одному значимому значению, потому что это поле заполнялось работодателем \"от руки\". Значит, отследить значения этого признака не получится. Его тоже следует исключить из датасета.\n",
        "\n",
        "Признаки `requirements` и `benefits` тоже могут повлиять на ход исследования, но также невозможно отследить алгоритмом из-за ручного заполнения."
      ]
    },
    {
      "cell_type": "code",
      "execution_count": null,
      "metadata": {
        "id": "hMY-QpAMI3zl"
      },
      "outputs": [],
      "source": [
        "dropped_data = data_raw.drop([\"job_id\", \"description\", \"company_profile\", \"department\", \"location\", \"title\", \"salary_range\", \"requirements\", \"benefits\"], axis = 1)"
      ]
    },
    {
      "cell_type": "markdown",
      "metadata": {
        "id": "QBZUWXVwKy-o"
      },
      "source": [
        "Посмотрим, какие остались признаки, имеющие нулевые значения"
      ]
    },
    {
      "cell_type": "code",
      "execution_count": null,
      "metadata": {
        "colab": {
          "base_uri": "https://localhost:8080/"
        },
        "id": "-PuS3W-4K4vY",
        "outputId": "b321d3ae-b5a5-44ed-e8b5-cc5d35a22245"
      },
      "outputs": [
        {
          "data": {
            "text/plain": [
              "telecommuting             0\n",
              "has_company_logo          0\n",
              "has_questions             0\n",
              "employment_type        3471\n",
              "required_experience    7050\n",
              "required_education     8105\n",
              "industry               4903\n",
              "function               6455\n",
              "fraudulent                0\n",
              "dtype: int64"
            ]
          },
          "execution_count": 17,
          "metadata": {},
          "output_type": "execute_result"
        }
      ],
      "source": [
        "dropped_data.isna().sum()"
      ]
    },
    {
      "cell_type": "markdown",
      "metadata": {
        "id": "wfc0K38NLoUO"
      },
      "source": [
        "Присвоим всем нулевым значениям значения по умолчанию. Для признаков `industry`, `function` и `employment_type` возьмем значение \"Other\" "
      ]
    },
    {
      "cell_type": "code",
      "execution_count": null,
      "metadata": {
        "id": "x1ywFYtTMG-Z"
      },
      "outputs": [],
      "source": [
        "from sklearn.impute import SimpleImputer\n",
        "imputer = SimpleImputer(strategy='constant',\n",
        "                        missing_values=np.nan, fill_value='Other')\n",
        "imputer.fit(dropped_data[['industry', 'function', 'employment_type']])\n",
        "dropped_data[['industry', 'function', 'employment_type']] = imputer.transform(dropped_data[['industry', 'function', 'employment_type']])"
      ]
    },
    {
      "cell_type": "markdown",
      "metadata": {
        "id": "fx0Mm0n6OJAM"
      },
      "source": [
        "Для признака `required_education` значение \"Unspecified\" (не определено)"
      ]
    },
    {
      "cell_type": "code",
      "execution_count": null,
      "metadata": {
        "id": "90kzktwdOiNM"
      },
      "outputs": [],
      "source": [
        "imputer = SimpleImputer(strategy='constant',\n",
        "                        missing_values=np.nan, fill_value='Unspecified')\n",
        "imputer.fit(dropped_data[['required_education']])\n",
        "dropped_data[['required_education']] = imputer.transform(dropped_data[['required_education']])"
      ]
    },
    {
      "cell_type": "markdown",
      "metadata": {
        "id": "wFd5rOzzON5-"
      },
      "source": [
        "\n",
        "\n",
        "Для признака `required_experience` значение \"Not Applicable\" (не требуется)"
      ]
    },
    {
      "cell_type": "code",
      "execution_count": null,
      "metadata": {
        "id": "ANTLzfPPOs8L"
      },
      "outputs": [],
      "source": [
        "imputer = SimpleImputer(strategy='constant',\n",
        "                        missing_values=np.nan, fill_value='Not Applicable')\n",
        "imputer.fit(dropped_data[['required_experience']])\n",
        "dropped_data[['required_experience']] = imputer.transform(dropped_data[['required_experience']])"
      ]
    },
    {
      "cell_type": "markdown",
      "metadata": {
        "id": "n_6GJ-WNQl5f"
      },
      "source": [
        "Посмотрим получившуюся в результате таблицу пустых значений"
      ]
    },
    {
      "cell_type": "code",
      "execution_count": null,
      "metadata": {
        "colab": {
          "base_uri": "https://localhost:8080/"
        },
        "id": "hNb513mWQs6w",
        "outputId": "1836d1a1-94e7-49b9-a88a-5be7c72ae186"
      },
      "outputs": [
        {
          "data": {
            "text/plain": [
              "telecommuting          0\n",
              "has_company_logo       0\n",
              "has_questions          0\n",
              "employment_type        0\n",
              "required_experience    0\n",
              "required_education     0\n",
              "industry               0\n",
              "function               0\n",
              "fraudulent             0\n",
              "dtype: int64"
            ]
          },
          "execution_count": 21,
          "metadata": {},
          "output_type": "execute_result"
        }
      ],
      "source": [
        "dropped_data.isna().sum()"
      ]
    },
    {
      "cell_type": "markdown",
      "metadata": {
        "id": "QOHDtcPvUR2U"
      },
      "source": [
        "## Обработка категориальных признаков "
      ]
    },
    {
      "cell_type": "markdown",
      "metadata": {
        "id": "LjGVHiBxUbTA"
      },
      "source": [
        "Ко всем категориальным признакам будем применять метод бинаризации (one-hot encoding).\n",
        "\n",
        "Все признаки имеют большое количество значений, особенно признак `industry`, поэтому при добавлении дополнительных столбцов таблица получится очень громоздкой. Кроме того, признак `function` частично отражает суть первого. Поэтому для оптимальной обработки датасета исключим признак `industry` из таблицы."
      ]
    },
    {
      "cell_type": "code",
      "execution_count": null,
      "metadata": {
        "id": "wBiavVV5VeBk"
      },
      "outputs": [],
      "source": [
        "cleared_data = dropped_data.drop(\"industry\", axis = 1) "
      ]
    },
    {
      "cell_type": "markdown",
      "metadata": {
        "id": "YntEDYGIV1eG"
      },
      "source": [
        "Применим метод бинаризации"
      ]
    },
    {
      "cell_type": "code",
      "execution_count": null,
      "metadata": {
        "colab": {
          "base_uri": "https://localhost:8080/"
        },
        "id": "DvHFzsyxUXMh",
        "outputId": "555c9a11-01e1-4e0c-908f-48c4f3e11f02"
      },
      "outputs": [
        {
          "data": {
            "text/plain": [
              "OneHotEncoder(drop='if_binary', sparse=False)"
            ]
          },
          "execution_count": 23,
          "metadata": {},
          "output_type": "execute_result"
        }
      ],
      "source": [
        "from sklearn.preprocessing import OneHotEncoder\n",
        "enc = OneHotEncoder(drop='if_binary', sparse=False)\n",
        "enc.fit(cleared_data[['function', 'employment_type', 'required_experience', 'required_education']])"
      ]
    },
    {
      "cell_type": "markdown",
      "metadata": {
        "id": "J3A7b0EuWqba"
      },
      "source": [
        "Получим дополнительные столбцы и выведем несколько строк"
      ]
    },
    {
      "cell_type": "code",
      "execution_count": null,
      "metadata": {
        "colab": {
          "base_uri": "https://localhost:8080/"
        },
        "id": "BvX618LMWSsJ",
        "outputId": "19872a40-f093-4abf-ca2c-79fd478ca860"
      },
      "outputs": [
        {
          "data": {
            "text/html": [
              "\n",
              "  <div id=\"df-8d0b23d2-3e32-4a4f-ab6f-0704fb211b37\">\n",
              "    <div class=\"colab-df-container\">\n",
              "      <div>\n",
              "<style scoped>\n",
              "    .dataframe tbody tr th:only-of-type {\n",
              "        vertical-align: middle;\n",
              "    }\n",
              "\n",
              "    .dataframe tbody tr th {\n",
              "        vertical-align: top;\n",
              "    }\n",
              "\n",
              "    .dataframe thead th {\n",
              "        text-align: right;\n",
              "    }\n",
              "</style>\n",
              "<table border=\"1\" class=\"dataframe\">\n",
              "  <thead>\n",
              "    <tr style=\"text-align: right;\">\n",
              "      <th></th>\n",
              "      <th>function_Accounting/Auditing</th>\n",
              "      <th>function_Administrative</th>\n",
              "      <th>function_Advertising</th>\n",
              "      <th>function_Art/Creative</th>\n",
              "      <th>function_Business Analyst</th>\n",
              "      <th>function_Business Development</th>\n",
              "      <th>function_Consulting</th>\n",
              "      <th>function_Customer Service</th>\n",
              "      <th>function_Data Analyst</th>\n",
              "      <th>function_Design</th>\n",
              "      <th>...</th>\n",
              "      <th>required_education_Doctorate</th>\n",
              "      <th>required_education_High School or equivalent</th>\n",
              "      <th>required_education_Master's Degree</th>\n",
              "      <th>required_education_Professional</th>\n",
              "      <th>required_education_Some College Coursework Completed</th>\n",
              "      <th>required_education_Some High School Coursework</th>\n",
              "      <th>required_education_Unspecified</th>\n",
              "      <th>required_education_Vocational</th>\n",
              "      <th>required_education_Vocational - Degree</th>\n",
              "      <th>required_education_Vocational - HS Diploma</th>\n",
              "    </tr>\n",
              "  </thead>\n",
              "  <tbody>\n",
              "    <tr>\n",
              "      <th>0</th>\n",
              "      <td>0.0</td>\n",
              "      <td>0.0</td>\n",
              "      <td>0.0</td>\n",
              "      <td>0.0</td>\n",
              "      <td>0.0</td>\n",
              "      <td>0.0</td>\n",
              "      <td>0.0</td>\n",
              "      <td>0.0</td>\n",
              "      <td>0.0</td>\n",
              "      <td>0.0</td>\n",
              "      <td>...</td>\n",
              "      <td>0.0</td>\n",
              "      <td>0.0</td>\n",
              "      <td>0.0</td>\n",
              "      <td>0.0</td>\n",
              "      <td>0.0</td>\n",
              "      <td>0.0</td>\n",
              "      <td>1.0</td>\n",
              "      <td>0.0</td>\n",
              "      <td>0.0</td>\n",
              "      <td>0.0</td>\n",
              "    </tr>\n",
              "    <tr>\n",
              "      <th>1</th>\n",
              "      <td>0.0</td>\n",
              "      <td>0.0</td>\n",
              "      <td>0.0</td>\n",
              "      <td>0.0</td>\n",
              "      <td>0.0</td>\n",
              "      <td>0.0</td>\n",
              "      <td>0.0</td>\n",
              "      <td>1.0</td>\n",
              "      <td>0.0</td>\n",
              "      <td>0.0</td>\n",
              "      <td>...</td>\n",
              "      <td>0.0</td>\n",
              "      <td>0.0</td>\n",
              "      <td>0.0</td>\n",
              "      <td>0.0</td>\n",
              "      <td>0.0</td>\n",
              "      <td>0.0</td>\n",
              "      <td>1.0</td>\n",
              "      <td>0.0</td>\n",
              "      <td>0.0</td>\n",
              "      <td>0.0</td>\n",
              "    </tr>\n",
              "    <tr>\n",
              "      <th>2</th>\n",
              "      <td>0.0</td>\n",
              "      <td>0.0</td>\n",
              "      <td>0.0</td>\n",
              "      <td>0.0</td>\n",
              "      <td>0.0</td>\n",
              "      <td>0.0</td>\n",
              "      <td>0.0</td>\n",
              "      <td>0.0</td>\n",
              "      <td>0.0</td>\n",
              "      <td>0.0</td>\n",
              "      <td>...</td>\n",
              "      <td>0.0</td>\n",
              "      <td>0.0</td>\n",
              "      <td>0.0</td>\n",
              "      <td>0.0</td>\n",
              "      <td>0.0</td>\n",
              "      <td>0.0</td>\n",
              "      <td>1.0</td>\n",
              "      <td>0.0</td>\n",
              "      <td>0.0</td>\n",
              "      <td>0.0</td>\n",
              "    </tr>\n",
              "    <tr>\n",
              "      <th>3</th>\n",
              "      <td>0.0</td>\n",
              "      <td>0.0</td>\n",
              "      <td>0.0</td>\n",
              "      <td>0.0</td>\n",
              "      <td>0.0</td>\n",
              "      <td>0.0</td>\n",
              "      <td>0.0</td>\n",
              "      <td>0.0</td>\n",
              "      <td>0.0</td>\n",
              "      <td>0.0</td>\n",
              "      <td>...</td>\n",
              "      <td>0.0</td>\n",
              "      <td>0.0</td>\n",
              "      <td>0.0</td>\n",
              "      <td>0.0</td>\n",
              "      <td>0.0</td>\n",
              "      <td>0.0</td>\n",
              "      <td>0.0</td>\n",
              "      <td>0.0</td>\n",
              "      <td>0.0</td>\n",
              "      <td>0.0</td>\n",
              "    </tr>\n",
              "    <tr>\n",
              "      <th>4</th>\n",
              "      <td>0.0</td>\n",
              "      <td>0.0</td>\n",
              "      <td>0.0</td>\n",
              "      <td>0.0</td>\n",
              "      <td>0.0</td>\n",
              "      <td>0.0</td>\n",
              "      <td>0.0</td>\n",
              "      <td>0.0</td>\n",
              "      <td>0.0</td>\n",
              "      <td>0.0</td>\n",
              "      <td>...</td>\n",
              "      <td>0.0</td>\n",
              "      <td>0.0</td>\n",
              "      <td>0.0</td>\n",
              "      <td>0.0</td>\n",
              "      <td>0.0</td>\n",
              "      <td>0.0</td>\n",
              "      <td>0.0</td>\n",
              "      <td>0.0</td>\n",
              "      <td>0.0</td>\n",
              "      <td>0.0</td>\n",
              "    </tr>\n",
              "  </tbody>\n",
              "</table>\n",
              "<p>5 rows × 62 columns</p>\n",
              "</div>\n",
              "      <button class=\"colab-df-convert\" onclick=\"convertToInteractive('df-8d0b23d2-3e32-4a4f-ab6f-0704fb211b37')\"\n",
              "              title=\"Convert this dataframe to an interactive table.\"\n",
              "              style=\"display:none;\">\n",
              "        \n",
              "  <svg xmlns=\"http://www.w3.org/2000/svg\" height=\"24px\"viewBox=\"0 0 24 24\"\n",
              "       width=\"24px\">\n",
              "    <path d=\"M0 0h24v24H0V0z\" fill=\"none\"/>\n",
              "    <path d=\"M18.56 5.44l.94 2.06.94-2.06 2.06-.94-2.06-.94-.94-2.06-.94 2.06-2.06.94zm-11 1L8.5 8.5l.94-2.06 2.06-.94-2.06-.94L8.5 2.5l-.94 2.06-2.06.94zm10 10l.94 2.06.94-2.06 2.06-.94-2.06-.94-.94-2.06-.94 2.06-2.06.94z\"/><path d=\"M17.41 7.96l-1.37-1.37c-.4-.4-.92-.59-1.43-.59-.52 0-1.04.2-1.43.59L10.3 9.45l-7.72 7.72c-.78.78-.78 2.05 0 2.83L4 21.41c.39.39.9.59 1.41.59.51 0 1.02-.2 1.41-.59l7.78-7.78 2.81-2.81c.8-.78.8-2.07 0-2.86zM5.41 20L4 18.59l7.72-7.72 1.47 1.35L5.41 20z\"/>\n",
              "  </svg>\n",
              "      </button>\n",
              "      \n",
              "  <style>\n",
              "    .colab-df-container {\n",
              "      display:flex;\n",
              "      flex-wrap:wrap;\n",
              "      gap: 12px;\n",
              "    }\n",
              "\n",
              "    .colab-df-convert {\n",
              "      background-color: #E8F0FE;\n",
              "      border: none;\n",
              "      border-radius: 50%;\n",
              "      cursor: pointer;\n",
              "      display: none;\n",
              "      fill: #1967D2;\n",
              "      height: 32px;\n",
              "      padding: 0 0 0 0;\n",
              "      width: 32px;\n",
              "    }\n",
              "\n",
              "    .colab-df-convert:hover {\n",
              "      background-color: #E2EBFA;\n",
              "      box-shadow: 0px 1px 2px rgba(60, 64, 67, 0.3), 0px 1px 3px 1px rgba(60, 64, 67, 0.15);\n",
              "      fill: #174EA6;\n",
              "    }\n",
              "\n",
              "    [theme=dark] .colab-df-convert {\n",
              "      background-color: #3B4455;\n",
              "      fill: #D2E3FC;\n",
              "    }\n",
              "\n",
              "    [theme=dark] .colab-df-convert:hover {\n",
              "      background-color: #434B5C;\n",
              "      box-shadow: 0px 1px 3px 1px rgba(0, 0, 0, 0.15);\n",
              "      filter: drop-shadow(0px 1px 2px rgba(0, 0, 0, 0.3));\n",
              "      fill: #FFFFFF;\n",
              "    }\n",
              "  </style>\n",
              "\n",
              "      <script>\n",
              "        const buttonEl =\n",
              "          document.querySelector('#df-8d0b23d2-3e32-4a4f-ab6f-0704fb211b37 button.colab-df-convert');\n",
              "        buttonEl.style.display =\n",
              "          google.colab.kernel.accessAllowed ? 'block' : 'none';\n",
              "\n",
              "        async function convertToInteractive(key) {\n",
              "          const element = document.querySelector('#df-8d0b23d2-3e32-4a4f-ab6f-0704fb211b37');\n",
              "          const dataTable =\n",
              "            await google.colab.kernel.invokeFunction('convertToInteractive',\n",
              "                                                     [key], {});\n",
              "          if (!dataTable) return;\n",
              "\n",
              "          const docLinkHtml = 'Like what you see? Visit the ' +\n",
              "            '<a target=\"_blank\" href=https://colab.research.google.com/notebooks/data_table.ipynb>data table notebook</a>'\n",
              "            + ' to learn more about interactive tables.';\n",
              "          element.innerHTML = '';\n",
              "          dataTable['output_type'] = 'display_data';\n",
              "          await google.colab.output.renderOutput(dataTable, element);\n",
              "          const docLink = document.createElement('div');\n",
              "          docLink.innerHTML = docLinkHtml;\n",
              "          element.appendChild(docLink);\n",
              "        }\n",
              "      </script>\n",
              "    </div>\n",
              "  </div>\n",
              "  "
            ],
            "text/plain": [
              "   function_Accounting/Auditing  function_Administrative  \\\n",
              "0                           0.0                      0.0   \n",
              "1                           0.0                      0.0   \n",
              "2                           0.0                      0.0   \n",
              "3                           0.0                      0.0   \n",
              "4                           0.0                      0.0   \n",
              "\n",
              "   function_Advertising  function_Art/Creative  function_Business Analyst  \\\n",
              "0                   0.0                    0.0                        0.0   \n",
              "1                   0.0                    0.0                        0.0   \n",
              "2                   0.0                    0.0                        0.0   \n",
              "3                   0.0                    0.0                        0.0   \n",
              "4                   0.0                    0.0                        0.0   \n",
              "\n",
              "   function_Business Development  function_Consulting  \\\n",
              "0                            0.0                  0.0   \n",
              "1                            0.0                  0.0   \n",
              "2                            0.0                  0.0   \n",
              "3                            0.0                  0.0   \n",
              "4                            0.0                  0.0   \n",
              "\n",
              "   function_Customer Service  function_Data Analyst  function_Design  ...  \\\n",
              "0                        0.0                    0.0              0.0  ...   \n",
              "1                        1.0                    0.0              0.0  ...   \n",
              "2                        0.0                    0.0              0.0  ...   \n",
              "3                        0.0                    0.0              0.0  ...   \n",
              "4                        0.0                    0.0              0.0  ...   \n",
              "\n",
              "   required_education_Doctorate  required_education_High School or equivalent  \\\n",
              "0                           0.0                                           0.0   \n",
              "1                           0.0                                           0.0   \n",
              "2                           0.0                                           0.0   \n",
              "3                           0.0                                           0.0   \n",
              "4                           0.0                                           0.0   \n",
              "\n",
              "   required_education_Master's Degree  required_education_Professional  \\\n",
              "0                                 0.0                              0.0   \n",
              "1                                 0.0                              0.0   \n",
              "2                                 0.0                              0.0   \n",
              "3                                 0.0                              0.0   \n",
              "4                                 0.0                              0.0   \n",
              "\n",
              "   required_education_Some College Coursework Completed  \\\n",
              "0                                                0.0      \n",
              "1                                                0.0      \n",
              "2                                                0.0      \n",
              "3                                                0.0      \n",
              "4                                                0.0      \n",
              "\n",
              "   required_education_Some High School Coursework  \\\n",
              "0                                             0.0   \n",
              "1                                             0.0   \n",
              "2                                             0.0   \n",
              "3                                             0.0   \n",
              "4                                             0.0   \n",
              "\n",
              "   required_education_Unspecified  required_education_Vocational  \\\n",
              "0                             1.0                            0.0   \n",
              "1                             1.0                            0.0   \n",
              "2                             1.0                            0.0   \n",
              "3                             0.0                            0.0   \n",
              "4                             0.0                            0.0   \n",
              "\n",
              "   required_education_Vocational - Degree  \\\n",
              "0                                     0.0   \n",
              "1                                     0.0   \n",
              "2                                     0.0   \n",
              "3                                     0.0   \n",
              "4                                     0.0   \n",
              "\n",
              "   required_education_Vocational - HS Diploma  \n",
              "0                                         0.0  \n",
              "1                                         0.0  \n",
              "2                                         0.0  \n",
              "3                                         0.0  \n",
              "4                                         0.0  \n",
              "\n",
              "[5 rows x 62 columns]"
            ]
          },
          "execution_count": 24,
          "metadata": {},
          "output_type": "execute_result"
        }
      ],
      "source": [
        "dummies = pd.DataFrame(enc.transform(cleared_data[['function', 'employment_type', 'required_experience', 'required_education']]), \n",
        "                       columns=enc.get_feature_names_out(), index=cleared_data.index)\n",
        "dummies.head()"
      ]
    },
    {
      "cell_type": "markdown",
      "metadata": {
        "id": "gXzw89KiW500"
      },
      "source": [
        "Добавим эти dummy-столбцы к таблице и удалим столбцы `function`, `employment_type`, `required_experience`, `required_education`\n",
        "\n",
        "Выведем несколько строк получившейся таблицы"
      ]
    },
    {
      "cell_type": "code",
      "execution_count": null,
      "metadata": {
        "colab": {
          "base_uri": "https://localhost:8080/"
        },
        "id": "pR_u6TlaXG9p",
        "outputId": "335a3dd1-0a4e-4508-f8e0-97ccd5441d91"
      },
      "outputs": [
        {
          "data": {
            "text/html": [
              "\n",
              "  <div id=\"df-eb2ecf17-9dea-4073-b311-5a9e6ba6a70b\">\n",
              "    <div class=\"colab-df-container\">\n",
              "      <div>\n",
              "<style scoped>\n",
              "    .dataframe tbody tr th:only-of-type {\n",
              "        vertical-align: middle;\n",
              "    }\n",
              "\n",
              "    .dataframe tbody tr th {\n",
              "        vertical-align: top;\n",
              "    }\n",
              "\n",
              "    .dataframe thead th {\n",
              "        text-align: right;\n",
              "    }\n",
              "</style>\n",
              "<table border=\"1\" class=\"dataframe\">\n",
              "  <thead>\n",
              "    <tr style=\"text-align: right;\">\n",
              "      <th></th>\n",
              "      <th>telecommuting</th>\n",
              "      <th>has_company_logo</th>\n",
              "      <th>has_questions</th>\n",
              "      <th>fraudulent</th>\n",
              "      <th>function_Accounting/Auditing</th>\n",
              "      <th>function_Administrative</th>\n",
              "      <th>function_Advertising</th>\n",
              "      <th>function_Art/Creative</th>\n",
              "      <th>function_Business Analyst</th>\n",
              "      <th>function_Business Development</th>\n",
              "      <th>...</th>\n",
              "      <th>required_education_Doctorate</th>\n",
              "      <th>required_education_High School or equivalent</th>\n",
              "      <th>required_education_Master's Degree</th>\n",
              "      <th>required_education_Professional</th>\n",
              "      <th>required_education_Some College Coursework Completed</th>\n",
              "      <th>required_education_Some High School Coursework</th>\n",
              "      <th>required_education_Unspecified</th>\n",
              "      <th>required_education_Vocational</th>\n",
              "      <th>required_education_Vocational - Degree</th>\n",
              "      <th>required_education_Vocational - HS Diploma</th>\n",
              "    </tr>\n",
              "  </thead>\n",
              "  <tbody>\n",
              "    <tr>\n",
              "      <th>0</th>\n",
              "      <td>0</td>\n",
              "      <td>1</td>\n",
              "      <td>0</td>\n",
              "      <td>0</td>\n",
              "      <td>0.0</td>\n",
              "      <td>0.0</td>\n",
              "      <td>0.0</td>\n",
              "      <td>0.0</td>\n",
              "      <td>0.0</td>\n",
              "      <td>0.0</td>\n",
              "      <td>...</td>\n",
              "      <td>0.0</td>\n",
              "      <td>0.0</td>\n",
              "      <td>0.0</td>\n",
              "      <td>0.0</td>\n",
              "      <td>0.0</td>\n",
              "      <td>0.0</td>\n",
              "      <td>1.0</td>\n",
              "      <td>0.0</td>\n",
              "      <td>0.0</td>\n",
              "      <td>0.0</td>\n",
              "    </tr>\n",
              "    <tr>\n",
              "      <th>1</th>\n",
              "      <td>0</td>\n",
              "      <td>1</td>\n",
              "      <td>0</td>\n",
              "      <td>0</td>\n",
              "      <td>0.0</td>\n",
              "      <td>0.0</td>\n",
              "      <td>0.0</td>\n",
              "      <td>0.0</td>\n",
              "      <td>0.0</td>\n",
              "      <td>0.0</td>\n",
              "      <td>...</td>\n",
              "      <td>0.0</td>\n",
              "      <td>0.0</td>\n",
              "      <td>0.0</td>\n",
              "      <td>0.0</td>\n",
              "      <td>0.0</td>\n",
              "      <td>0.0</td>\n",
              "      <td>1.0</td>\n",
              "      <td>0.0</td>\n",
              "      <td>0.0</td>\n",
              "      <td>0.0</td>\n",
              "    </tr>\n",
              "    <tr>\n",
              "      <th>2</th>\n",
              "      <td>0</td>\n",
              "      <td>1</td>\n",
              "      <td>0</td>\n",
              "      <td>0</td>\n",
              "      <td>0.0</td>\n",
              "      <td>0.0</td>\n",
              "      <td>0.0</td>\n",
              "      <td>0.0</td>\n",
              "      <td>0.0</td>\n",
              "      <td>0.0</td>\n",
              "      <td>...</td>\n",
              "      <td>0.0</td>\n",
              "      <td>0.0</td>\n",
              "      <td>0.0</td>\n",
              "      <td>0.0</td>\n",
              "      <td>0.0</td>\n",
              "      <td>0.0</td>\n",
              "      <td>1.0</td>\n",
              "      <td>0.0</td>\n",
              "      <td>0.0</td>\n",
              "      <td>0.0</td>\n",
              "    </tr>\n",
              "    <tr>\n",
              "      <th>3</th>\n",
              "      <td>0</td>\n",
              "      <td>1</td>\n",
              "      <td>0</td>\n",
              "      <td>0</td>\n",
              "      <td>0.0</td>\n",
              "      <td>0.0</td>\n",
              "      <td>0.0</td>\n",
              "      <td>0.0</td>\n",
              "      <td>0.0</td>\n",
              "      <td>0.0</td>\n",
              "      <td>...</td>\n",
              "      <td>0.0</td>\n",
              "      <td>0.0</td>\n",
              "      <td>0.0</td>\n",
              "      <td>0.0</td>\n",
              "      <td>0.0</td>\n",
              "      <td>0.0</td>\n",
              "      <td>0.0</td>\n",
              "      <td>0.0</td>\n",
              "      <td>0.0</td>\n",
              "      <td>0.0</td>\n",
              "    </tr>\n",
              "    <tr>\n",
              "      <th>4</th>\n",
              "      <td>0</td>\n",
              "      <td>1</td>\n",
              "      <td>1</td>\n",
              "      <td>0</td>\n",
              "      <td>0.0</td>\n",
              "      <td>0.0</td>\n",
              "      <td>0.0</td>\n",
              "      <td>0.0</td>\n",
              "      <td>0.0</td>\n",
              "      <td>0.0</td>\n",
              "      <td>...</td>\n",
              "      <td>0.0</td>\n",
              "      <td>0.0</td>\n",
              "      <td>0.0</td>\n",
              "      <td>0.0</td>\n",
              "      <td>0.0</td>\n",
              "      <td>0.0</td>\n",
              "      <td>0.0</td>\n",
              "      <td>0.0</td>\n",
              "      <td>0.0</td>\n",
              "      <td>0.0</td>\n",
              "    </tr>\n",
              "  </tbody>\n",
              "</table>\n",
              "<p>5 rows × 66 columns</p>\n",
              "</div>\n",
              "      <button class=\"colab-df-convert\" onclick=\"convertToInteractive('df-eb2ecf17-9dea-4073-b311-5a9e6ba6a70b')\"\n",
              "              title=\"Convert this dataframe to an interactive table.\"\n",
              "              style=\"display:none;\">\n",
              "        \n",
              "  <svg xmlns=\"http://www.w3.org/2000/svg\" height=\"24px\"viewBox=\"0 0 24 24\"\n",
              "       width=\"24px\">\n",
              "    <path d=\"M0 0h24v24H0V0z\" fill=\"none\"/>\n",
              "    <path d=\"M18.56 5.44l.94 2.06.94-2.06 2.06-.94-2.06-.94-.94-2.06-.94 2.06-2.06.94zm-11 1L8.5 8.5l.94-2.06 2.06-.94-2.06-.94L8.5 2.5l-.94 2.06-2.06.94zm10 10l.94 2.06.94-2.06 2.06-.94-2.06-.94-.94-2.06-.94 2.06-2.06.94z\"/><path d=\"M17.41 7.96l-1.37-1.37c-.4-.4-.92-.59-1.43-.59-.52 0-1.04.2-1.43.59L10.3 9.45l-7.72 7.72c-.78.78-.78 2.05 0 2.83L4 21.41c.39.39.9.59 1.41.59.51 0 1.02-.2 1.41-.59l7.78-7.78 2.81-2.81c.8-.78.8-2.07 0-2.86zM5.41 20L4 18.59l7.72-7.72 1.47 1.35L5.41 20z\"/>\n",
              "  </svg>\n",
              "      </button>\n",
              "      \n",
              "  <style>\n",
              "    .colab-df-container {\n",
              "      display:flex;\n",
              "      flex-wrap:wrap;\n",
              "      gap: 12px;\n",
              "    }\n",
              "\n",
              "    .colab-df-convert {\n",
              "      background-color: #E8F0FE;\n",
              "      border: none;\n",
              "      border-radius: 50%;\n",
              "      cursor: pointer;\n",
              "      display: none;\n",
              "      fill: #1967D2;\n",
              "      height: 32px;\n",
              "      padding: 0 0 0 0;\n",
              "      width: 32px;\n",
              "    }\n",
              "\n",
              "    .colab-df-convert:hover {\n",
              "      background-color: #E2EBFA;\n",
              "      box-shadow: 0px 1px 2px rgba(60, 64, 67, 0.3), 0px 1px 3px 1px rgba(60, 64, 67, 0.15);\n",
              "      fill: #174EA6;\n",
              "    }\n",
              "\n",
              "    [theme=dark] .colab-df-convert {\n",
              "      background-color: #3B4455;\n",
              "      fill: #D2E3FC;\n",
              "    }\n",
              "\n",
              "    [theme=dark] .colab-df-convert:hover {\n",
              "      background-color: #434B5C;\n",
              "      box-shadow: 0px 1px 3px 1px rgba(0, 0, 0, 0.15);\n",
              "      filter: drop-shadow(0px 1px 2px rgba(0, 0, 0, 0.3));\n",
              "      fill: #FFFFFF;\n",
              "    }\n",
              "  </style>\n",
              "\n",
              "      <script>\n",
              "        const buttonEl =\n",
              "          document.querySelector('#df-eb2ecf17-9dea-4073-b311-5a9e6ba6a70b button.colab-df-convert');\n",
              "        buttonEl.style.display =\n",
              "          google.colab.kernel.accessAllowed ? 'block' : 'none';\n",
              "\n",
              "        async function convertToInteractive(key) {\n",
              "          const element = document.querySelector('#df-eb2ecf17-9dea-4073-b311-5a9e6ba6a70b');\n",
              "          const dataTable =\n",
              "            await google.colab.kernel.invokeFunction('convertToInteractive',\n",
              "                                                     [key], {});\n",
              "          if (!dataTable) return;\n",
              "\n",
              "          const docLinkHtml = 'Like what you see? Visit the ' +\n",
              "            '<a target=\"_blank\" href=https://colab.research.google.com/notebooks/data_table.ipynb>data table notebook</a>'\n",
              "            + ' to learn more about interactive tables.';\n",
              "          element.innerHTML = '';\n",
              "          dataTable['output_type'] = 'display_data';\n",
              "          await google.colab.output.renderOutput(dataTable, element);\n",
              "          const docLink = document.createElement('div');\n",
              "          docLink.innerHTML = docLinkHtml;\n",
              "          element.appendChild(docLink);\n",
              "        }\n",
              "      </script>\n",
              "    </div>\n",
              "  </div>\n",
              "  "
            ],
            "text/plain": [
              "   telecommuting  has_company_logo  has_questions  fraudulent  \\\n",
              "0              0                 1              0           0   \n",
              "1              0                 1              0           0   \n",
              "2              0                 1              0           0   \n",
              "3              0                 1              0           0   \n",
              "4              0                 1              1           0   \n",
              "\n",
              "   function_Accounting/Auditing  function_Administrative  \\\n",
              "0                           0.0                      0.0   \n",
              "1                           0.0                      0.0   \n",
              "2                           0.0                      0.0   \n",
              "3                           0.0                      0.0   \n",
              "4                           0.0                      0.0   \n",
              "\n",
              "   function_Advertising  function_Art/Creative  function_Business Analyst  \\\n",
              "0                   0.0                    0.0                        0.0   \n",
              "1                   0.0                    0.0                        0.0   \n",
              "2                   0.0                    0.0                        0.0   \n",
              "3                   0.0                    0.0                        0.0   \n",
              "4                   0.0                    0.0                        0.0   \n",
              "\n",
              "   function_Business Development  ...  required_education_Doctorate  \\\n",
              "0                            0.0  ...                           0.0   \n",
              "1                            0.0  ...                           0.0   \n",
              "2                            0.0  ...                           0.0   \n",
              "3                            0.0  ...                           0.0   \n",
              "4                            0.0  ...                           0.0   \n",
              "\n",
              "   required_education_High School or equivalent  \\\n",
              "0                                           0.0   \n",
              "1                                           0.0   \n",
              "2                                           0.0   \n",
              "3                                           0.0   \n",
              "4                                           0.0   \n",
              "\n",
              "   required_education_Master's Degree  required_education_Professional  \\\n",
              "0                                 0.0                              0.0   \n",
              "1                                 0.0                              0.0   \n",
              "2                                 0.0                              0.0   \n",
              "3                                 0.0                              0.0   \n",
              "4                                 0.0                              0.0   \n",
              "\n",
              "   required_education_Some College Coursework Completed  \\\n",
              "0                                                0.0      \n",
              "1                                                0.0      \n",
              "2                                                0.0      \n",
              "3                                                0.0      \n",
              "4                                                0.0      \n",
              "\n",
              "   required_education_Some High School Coursework  \\\n",
              "0                                             0.0   \n",
              "1                                             0.0   \n",
              "2                                             0.0   \n",
              "3                                             0.0   \n",
              "4                                             0.0   \n",
              "\n",
              "   required_education_Unspecified  required_education_Vocational  \\\n",
              "0                             1.0                            0.0   \n",
              "1                             1.0                            0.0   \n",
              "2                             1.0                            0.0   \n",
              "3                             0.0                            0.0   \n",
              "4                             0.0                            0.0   \n",
              "\n",
              "   required_education_Vocational - Degree  \\\n",
              "0                                     0.0   \n",
              "1                                     0.0   \n",
              "2                                     0.0   \n",
              "3                                     0.0   \n",
              "4                                     0.0   \n",
              "\n",
              "   required_education_Vocational - HS Diploma  \n",
              "0                                         0.0  \n",
              "1                                         0.0  \n",
              "2                                         0.0  \n",
              "3                                         0.0  \n",
              "4                                         0.0  \n",
              "\n",
              "[5 rows x 66 columns]"
            ]
          },
          "execution_count": 25,
          "metadata": {},
          "output_type": "execute_result"
        }
      ],
      "source": [
        "cleared_data = pd.concat((cleared_data, dummies), axis=1).drop(['function', 'employment_type', 'required_experience', 'required_education'], axis=1)\n",
        "cleared_data.head()"
      ]
    },
    {
      "cell_type": "markdown",
      "metadata": {
        "id": "T3swAQR0Xube"
      },
      "source": [
        "## Нормализация"
      ]
    },
    {
      "cell_type": "markdown",
      "metadata": {
        "id": "V_RkK8XTXxHV"
      },
      "source": [
        "В данном датасете отсутствуют количественные признаки. Бинарные признаки так же можно отнести к дискретным(количественным), но они и так ограничены нулем и единицей\n",
        "\n",
        "Поэтому данный датасет не нуждается в нормализации"
      ]
    },
    {
      "cell_type": "markdown",
      "metadata": {
        "id": "RDKVyLkrYnHE"
      },
      "source": [
        "## Обучающая и тестовая выборки"
      ]
    },
    {
      "cell_type": "markdown",
      "metadata": {
        "id": "n4ly1ZsEYo-F"
      },
      "source": [
        "Разобьем датасет на таблицы, одна из которых содержит классифицируемый признак, а другая все остальные, кроме него"
      ]
    },
    {
      "cell_type": "code",
      "execution_count": null,
      "metadata": {
        "id": "dqi9OtPAXwSw"
      },
      "outputs": [],
      "source": [
        "X = cleared_data.drop(['fraudulent'], axis=1)\n",
        "y = cleared_data['fraudulent']"
      ]
    },
    {
      "cell_type": "markdown",
      "metadata": {
        "id": "9NlhQtVyZ2yA"
      },
      "source": [
        "Разобьем данные на обучающую и тестовую выборки в пропорции 3:1 (75% - обучающая выборка, 25% - тестовая)"
      ]
    },
    {
      "cell_type": "code",
      "execution_count": null,
      "metadata": {
        "colab": {
          "base_uri": "https://localhost:8080/"
        },
        "id": "qqJAPZtJZ4jz",
        "outputId": "36a97907-3fbd-4137-d191-3e8c0666f7d7"
      },
      "outputs": [
        {
          "data": {
            "text/plain": [
              "(13410, 4470)"
            ]
          },
          "execution_count": 27,
          "metadata": {},
          "output_type": "execute_result"
        }
      ],
      "source": [
        "from sklearn.model_selection import train_test_split\n",
        "X_train, X_test, y_train, y_test = train_test_split(X, y, test_size = 0.25, random_state = 42)\n",
        "\n",
        "N_train, _ = X_train.shape \n",
        "N_test,  _ = X_test.shape \n",
        "\n",
        "N_train, N_test"
      ]
    },
    {
      "cell_type": "markdown",
      "metadata": {
        "id": "2cmg2vZJbClC"
      },
      "source": [
        "## Обучение"
      ]
    },
    {
      "cell_type": "markdown",
      "metadata": {
        "id": "r7iikyIhbGNV"
      },
      "source": [
        "Применим Метод  𝑘  ближайших соседей ( 𝑘 NN,  𝑘  nearest neighbours)"
      ]
    },
    {
      "cell_type": "code",
      "execution_count": null,
      "metadata": {
        "colab": {
          "base_uri": "https://localhost:8080/"
        },
        "id": "Pt7GBHWNbF1X",
        "outputId": "94515cb0-9169-48c3-d50d-317bfb3a22f2"
      },
      "outputs": [
        {
          "data": {
            "text/plain": [
              "KNeighborsClassifier(n_neighbors=10)"
            ]
          },
          "execution_count": 28,
          "metadata": {},
          "output_type": "execute_result"
        }
      ],
      "source": [
        "from sklearn.neighbors import KNeighborsClassifier\n",
        "\n",
        "knn = KNeighborsClassifier(n_neighbors = 10)\n",
        "knn.fit(X_train, y_train)"
      ]
    },
    {
      "cell_type": "markdown",
      "metadata": {
        "id": "K-qROlU6c5le"
      },
      "source": [
        "Протестируем нашу модель"
      ]
    },
    {
      "cell_type": "code",
      "execution_count": null,
      "metadata": {
        "id": "61nqwfMFc7yE"
      },
      "outputs": [],
      "source": [
        "y_test_predict = knn.predict(X_test)\n",
        "y_train_predict = knn.predict(X_train)"
      ]
    },
    {
      "cell_type": "markdown",
      "metadata": {
        "id": "Z8zn-pGJdT2N"
      },
      "source": [
        "Рассчитаем ошибки и выведем их в таблицу"
      ]
    },
    {
      "cell_type": "code",
      "execution_count": null,
      "metadata": {
        "colab": {
          "base_uri": "https://localhost:8080/"
        },
        "id": "ZozLPH55dYgq",
        "outputId": "a4753cc3-689c-4a31-8c13-91f03dfe6f00"
      },
      "outputs": [
        {
          "data": {
            "text/html": [
              "\n",
              "  <div id=\"df-1cf975b1-4178-44f2-8e54-4ce1cd802ad4\">\n",
              "    <div class=\"colab-df-container\">\n",
              "      <div>\n",
              "<style scoped>\n",
              "    .dataframe tbody tr th:only-of-type {\n",
              "        vertical-align: middle;\n",
              "    }\n",
              "\n",
              "    .dataframe tbody tr th {\n",
              "        vertical-align: top;\n",
              "    }\n",
              "\n",
              "    .dataframe thead th {\n",
              "        text-align: right;\n",
              "    }\n",
              "</style>\n",
              "<table border=\"1\" class=\"dataframe\">\n",
              "  <thead>\n",
              "    <tr style=\"text-align: right;\">\n",
              "      <th></th>\n",
              "      <th>train</th>\n",
              "      <th>test</th>\n",
              "    </tr>\n",
              "  </thead>\n",
              "  <tbody>\n",
              "    <tr>\n",
              "      <th>kNN, 10 elements</th>\n",
              "      <td>0.038404</td>\n",
              "      <td>0.042729</td>\n",
              "    </tr>\n",
              "  </tbody>\n",
              "</table>\n",
              "</div>\n",
              "      <button class=\"colab-df-convert\" onclick=\"convertToInteractive('df-1cf975b1-4178-44f2-8e54-4ce1cd802ad4')\"\n",
              "              title=\"Convert this dataframe to an interactive table.\"\n",
              "              style=\"display:none;\">\n",
              "        \n",
              "  <svg xmlns=\"http://www.w3.org/2000/svg\" height=\"24px\"viewBox=\"0 0 24 24\"\n",
              "       width=\"24px\">\n",
              "    <path d=\"M0 0h24v24H0V0z\" fill=\"none\"/>\n",
              "    <path d=\"M18.56 5.44l.94 2.06.94-2.06 2.06-.94-2.06-.94-.94-2.06-.94 2.06-2.06.94zm-11 1L8.5 8.5l.94-2.06 2.06-.94-2.06-.94L8.5 2.5l-.94 2.06-2.06.94zm10 10l.94 2.06.94-2.06 2.06-.94-2.06-.94-.94-2.06-.94 2.06-2.06.94z\"/><path d=\"M17.41 7.96l-1.37-1.37c-.4-.4-.92-.59-1.43-.59-.52 0-1.04.2-1.43.59L10.3 9.45l-7.72 7.72c-.78.78-.78 2.05 0 2.83L4 21.41c.39.39.9.59 1.41.59.51 0 1.02-.2 1.41-.59l7.78-7.78 2.81-2.81c.8-.78.8-2.07 0-2.86zM5.41 20L4 18.59l7.72-7.72 1.47 1.35L5.41 20z\"/>\n",
              "  </svg>\n",
              "      </button>\n",
              "      \n",
              "  <style>\n",
              "    .colab-df-container {\n",
              "      display:flex;\n",
              "      flex-wrap:wrap;\n",
              "      gap: 12px;\n",
              "    }\n",
              "\n",
              "    .colab-df-convert {\n",
              "      background-color: #E8F0FE;\n",
              "      border: none;\n",
              "      border-radius: 50%;\n",
              "      cursor: pointer;\n",
              "      display: none;\n",
              "      fill: #1967D2;\n",
              "      height: 32px;\n",
              "      padding: 0 0 0 0;\n",
              "      width: 32px;\n",
              "    }\n",
              "\n",
              "    .colab-df-convert:hover {\n",
              "      background-color: #E2EBFA;\n",
              "      box-shadow: 0px 1px 2px rgba(60, 64, 67, 0.3), 0px 1px 3px 1px rgba(60, 64, 67, 0.15);\n",
              "      fill: #174EA6;\n",
              "    }\n",
              "\n",
              "    [theme=dark] .colab-df-convert {\n",
              "      background-color: #3B4455;\n",
              "      fill: #D2E3FC;\n",
              "    }\n",
              "\n",
              "    [theme=dark] .colab-df-convert:hover {\n",
              "      background-color: #434B5C;\n",
              "      box-shadow: 0px 1px 3px 1px rgba(0, 0, 0, 0.15);\n",
              "      filter: drop-shadow(0px 1px 2px rgba(0, 0, 0, 0.3));\n",
              "      fill: #FFFFFF;\n",
              "    }\n",
              "  </style>\n",
              "\n",
              "      <script>\n",
              "        const buttonEl =\n",
              "          document.querySelector('#df-1cf975b1-4178-44f2-8e54-4ce1cd802ad4 button.colab-df-convert');\n",
              "        buttonEl.style.display =\n",
              "          google.colab.kernel.accessAllowed ? 'block' : 'none';\n",
              "\n",
              "        async function convertToInteractive(key) {\n",
              "          const element = document.querySelector('#df-1cf975b1-4178-44f2-8e54-4ce1cd802ad4');\n",
              "          const dataTable =\n",
              "            await google.colab.kernel.invokeFunction('convertToInteractive',\n",
              "                                                     [key], {});\n",
              "          if (!dataTable) return;\n",
              "\n",
              "          const docLinkHtml = 'Like what you see? Visit the ' +\n",
              "            '<a target=\"_blank\" href=https://colab.research.google.com/notebooks/data_table.ipynb>data table notebook</a>'\n",
              "            + ' to learn more about interactive tables.';\n",
              "          element.innerHTML = '';\n",
              "          dataTable['output_type'] = 'display_data';\n",
              "          await google.colab.output.renderOutput(dataTable, element);\n",
              "          const docLink = document.createElement('div');\n",
              "          docLink.innerHTML = docLinkHtml;\n",
              "          element.appendChild(docLink);\n",
              "        }\n",
              "      </script>\n",
              "    </div>\n",
              "  </div>\n",
              "  "
            ],
            "text/plain": [
              "                     train      test\n",
              "kNN, 10 elements  0.038404  0.042729"
            ]
          },
          "execution_count": 30,
          "metadata": {},
          "output_type": "execute_result"
        }
      ],
      "source": [
        "err_test  = np.mean(y_test != y_test_predict)\n",
        "err_train  = np.mean(y_train != y_train_predict)\n",
        "\n",
        "err_table = pd.DataFrame(columns=('train', 'test'))\n",
        "err_table.loc['kNN, 10 elements', :] = (err_train, err_test)\n",
        "err_table"
      ]
    },
    {
      "cell_type": "markdown",
      "metadata": {
        "id": "s7SZJCX4fRoA"
      },
      "source": [
        "Возьмем значение параметра *n_neighbors* = 7"
      ]
    },
    {
      "cell_type": "code",
      "execution_count": null,
      "metadata": {
        "colab": {
          "base_uri": "https://localhost:8080/"
        },
        "id": "0ynPQtoCfdYV",
        "outputId": "c06f8182-8254-4e39-93af-a2865311472c"
      },
      "outputs": [
        {
          "data": {
            "text/html": [
              "\n",
              "  <div id=\"df-bc3d9f6d-2a20-417c-b79c-09b8abf6ca75\">\n",
              "    <div class=\"colab-df-container\">\n",
              "      <div>\n",
              "<style scoped>\n",
              "    .dataframe tbody tr th:only-of-type {\n",
              "        vertical-align: middle;\n",
              "    }\n",
              "\n",
              "    .dataframe tbody tr th {\n",
              "        vertical-align: top;\n",
              "    }\n",
              "\n",
              "    .dataframe thead th {\n",
              "        text-align: right;\n",
              "    }\n",
              "</style>\n",
              "<table border=\"1\" class=\"dataframe\">\n",
              "  <thead>\n",
              "    <tr style=\"text-align: right;\">\n",
              "      <th></th>\n",
              "      <th>train</th>\n",
              "      <th>test</th>\n",
              "    </tr>\n",
              "  </thead>\n",
              "  <tbody>\n",
              "    <tr>\n",
              "      <th>kNN, 10 elements</th>\n",
              "      <td>0.038404</td>\n",
              "      <td>0.042729</td>\n",
              "    </tr>\n",
              "    <tr>\n",
              "      <th>kNN, 7 elements</th>\n",
              "      <td>0.03736</td>\n",
              "      <td>0.044966</td>\n",
              "    </tr>\n",
              "  </tbody>\n",
              "</table>\n",
              "</div>\n",
              "      <button class=\"colab-df-convert\" onclick=\"convertToInteractive('df-bc3d9f6d-2a20-417c-b79c-09b8abf6ca75')\"\n",
              "              title=\"Convert this dataframe to an interactive table.\"\n",
              "              style=\"display:none;\">\n",
              "        \n",
              "  <svg xmlns=\"http://www.w3.org/2000/svg\" height=\"24px\"viewBox=\"0 0 24 24\"\n",
              "       width=\"24px\">\n",
              "    <path d=\"M0 0h24v24H0V0z\" fill=\"none\"/>\n",
              "    <path d=\"M18.56 5.44l.94 2.06.94-2.06 2.06-.94-2.06-.94-.94-2.06-.94 2.06-2.06.94zm-11 1L8.5 8.5l.94-2.06 2.06-.94-2.06-.94L8.5 2.5l-.94 2.06-2.06.94zm10 10l.94 2.06.94-2.06 2.06-.94-2.06-.94-.94-2.06-.94 2.06-2.06.94z\"/><path d=\"M17.41 7.96l-1.37-1.37c-.4-.4-.92-.59-1.43-.59-.52 0-1.04.2-1.43.59L10.3 9.45l-7.72 7.72c-.78.78-.78 2.05 0 2.83L4 21.41c.39.39.9.59 1.41.59.51 0 1.02-.2 1.41-.59l7.78-7.78 2.81-2.81c.8-.78.8-2.07 0-2.86zM5.41 20L4 18.59l7.72-7.72 1.47 1.35L5.41 20z\"/>\n",
              "  </svg>\n",
              "      </button>\n",
              "      \n",
              "  <style>\n",
              "    .colab-df-container {\n",
              "      display:flex;\n",
              "      flex-wrap:wrap;\n",
              "      gap: 12px;\n",
              "    }\n",
              "\n",
              "    .colab-df-convert {\n",
              "      background-color: #E8F0FE;\n",
              "      border: none;\n",
              "      border-radius: 50%;\n",
              "      cursor: pointer;\n",
              "      display: none;\n",
              "      fill: #1967D2;\n",
              "      height: 32px;\n",
              "      padding: 0 0 0 0;\n",
              "      width: 32px;\n",
              "    }\n",
              "\n",
              "    .colab-df-convert:hover {\n",
              "      background-color: #E2EBFA;\n",
              "      box-shadow: 0px 1px 2px rgba(60, 64, 67, 0.3), 0px 1px 3px 1px rgba(60, 64, 67, 0.15);\n",
              "      fill: #174EA6;\n",
              "    }\n",
              "\n",
              "    [theme=dark] .colab-df-convert {\n",
              "      background-color: #3B4455;\n",
              "      fill: #D2E3FC;\n",
              "    }\n",
              "\n",
              "    [theme=dark] .colab-df-convert:hover {\n",
              "      background-color: #434B5C;\n",
              "      box-shadow: 0px 1px 3px 1px rgba(0, 0, 0, 0.15);\n",
              "      filter: drop-shadow(0px 1px 2px rgba(0, 0, 0, 0.3));\n",
              "      fill: #FFFFFF;\n",
              "    }\n",
              "  </style>\n",
              "\n",
              "      <script>\n",
              "        const buttonEl =\n",
              "          document.querySelector('#df-bc3d9f6d-2a20-417c-b79c-09b8abf6ca75 button.colab-df-convert');\n",
              "        buttonEl.style.display =\n",
              "          google.colab.kernel.accessAllowed ? 'block' : 'none';\n",
              "\n",
              "        async function convertToInteractive(key) {\n",
              "          const element = document.querySelector('#df-bc3d9f6d-2a20-417c-b79c-09b8abf6ca75');\n",
              "          const dataTable =\n",
              "            await google.colab.kernel.invokeFunction('convertToInteractive',\n",
              "                                                     [key], {});\n",
              "          if (!dataTable) return;\n",
              "\n",
              "          const docLinkHtml = 'Like what you see? Visit the ' +\n",
              "            '<a target=\"_blank\" href=https://colab.research.google.com/notebooks/data_table.ipynb>data table notebook</a>'\n",
              "            + ' to learn more about interactive tables.';\n",
              "          element.innerHTML = '';\n",
              "          dataTable['output_type'] = 'display_data';\n",
              "          await google.colab.output.renderOutput(dataTable, element);\n",
              "          const docLink = document.createElement('div');\n",
              "          docLink.innerHTML = docLinkHtml;\n",
              "          element.appendChild(docLink);\n",
              "        }\n",
              "      </script>\n",
              "    </div>\n",
              "  </div>\n",
              "  "
            ],
            "text/plain": [
              "                     train      test\n",
              "kNN, 10 elements  0.038404  0.042729\n",
              "kNN, 7 elements    0.03736  0.044966"
            ]
          },
          "execution_count": 31,
          "metadata": {},
          "output_type": "execute_result"
        }
      ],
      "source": [
        "knn = KNeighborsClassifier(n_neighbors = 7)\n",
        "knn.fit(X_train, y_train)\n",
        "\n",
        "y_test_predict = knn.predict(X_test)\n",
        "y_train_predict = knn.predict(X_train)\n",
        "\n",
        "err_test  = np.mean(y_test != y_test_predict)\n",
        "err_train  = np.mean(y_train != y_train_predict)\n",
        "\n",
        "err_table.loc['kNN, 7 elements', :] = (err_train, err_test)\n",
        "err_table"
      ]
    },
    {
      "cell_type": "markdown",
      "metadata": {
        "id": "d9zsILHIfyVt"
      },
      "source": [
        "Возьмем значение параметра n_neighbors = 15"
      ]
    },
    {
      "cell_type": "code",
      "execution_count": null,
      "metadata": {
        "colab": {
          "base_uri": "https://localhost:8080/"
        },
        "id": "IwikYhoSf3ZL",
        "outputId": "7b08fad9-3777-4e9a-ff26-d4e581cfd155"
      },
      "outputs": [
        {
          "data": {
            "text/html": [
              "\n",
              "  <div id=\"df-59a6fc8a-110d-4b8e-a35d-686def0beedf\">\n",
              "    <div class=\"colab-df-container\">\n",
              "      <div>\n",
              "<style scoped>\n",
              "    .dataframe tbody tr th:only-of-type {\n",
              "        vertical-align: middle;\n",
              "    }\n",
              "\n",
              "    .dataframe tbody tr th {\n",
              "        vertical-align: top;\n",
              "    }\n",
              "\n",
              "    .dataframe thead th {\n",
              "        text-align: right;\n",
              "    }\n",
              "</style>\n",
              "<table border=\"1\" class=\"dataframe\">\n",
              "  <thead>\n",
              "    <tr style=\"text-align: right;\">\n",
              "      <th></th>\n",
              "      <th>train</th>\n",
              "      <th>test</th>\n",
              "    </tr>\n",
              "  </thead>\n",
              "  <tbody>\n",
              "    <tr>\n",
              "      <th>kNN, 10 elements</th>\n",
              "      <td>0.038404</td>\n",
              "      <td>0.042729</td>\n",
              "    </tr>\n",
              "    <tr>\n",
              "      <th>kNN, 7 elements</th>\n",
              "      <td>0.03736</td>\n",
              "      <td>0.044966</td>\n",
              "    </tr>\n",
              "    <tr>\n",
              "      <th>kNN, 15 elements</th>\n",
              "      <td>0.040418</td>\n",
              "      <td>0.045414</td>\n",
              "    </tr>\n",
              "  </tbody>\n",
              "</table>\n",
              "</div>\n",
              "      <button class=\"colab-df-convert\" onclick=\"convertToInteractive('df-59a6fc8a-110d-4b8e-a35d-686def0beedf')\"\n",
              "              title=\"Convert this dataframe to an interactive table.\"\n",
              "              style=\"display:none;\">\n",
              "        \n",
              "  <svg xmlns=\"http://www.w3.org/2000/svg\" height=\"24px\"viewBox=\"0 0 24 24\"\n",
              "       width=\"24px\">\n",
              "    <path d=\"M0 0h24v24H0V0z\" fill=\"none\"/>\n",
              "    <path d=\"M18.56 5.44l.94 2.06.94-2.06 2.06-.94-2.06-.94-.94-2.06-.94 2.06-2.06.94zm-11 1L8.5 8.5l.94-2.06 2.06-.94-2.06-.94L8.5 2.5l-.94 2.06-2.06.94zm10 10l.94 2.06.94-2.06 2.06-.94-2.06-.94-.94-2.06-.94 2.06-2.06.94z\"/><path d=\"M17.41 7.96l-1.37-1.37c-.4-.4-.92-.59-1.43-.59-.52 0-1.04.2-1.43.59L10.3 9.45l-7.72 7.72c-.78.78-.78 2.05 0 2.83L4 21.41c.39.39.9.59 1.41.59.51 0 1.02-.2 1.41-.59l7.78-7.78 2.81-2.81c.8-.78.8-2.07 0-2.86zM5.41 20L4 18.59l7.72-7.72 1.47 1.35L5.41 20z\"/>\n",
              "  </svg>\n",
              "      </button>\n",
              "      \n",
              "  <style>\n",
              "    .colab-df-container {\n",
              "      display:flex;\n",
              "      flex-wrap:wrap;\n",
              "      gap: 12px;\n",
              "    }\n",
              "\n",
              "    .colab-df-convert {\n",
              "      background-color: #E8F0FE;\n",
              "      border: none;\n",
              "      border-radius: 50%;\n",
              "      cursor: pointer;\n",
              "      display: none;\n",
              "      fill: #1967D2;\n",
              "      height: 32px;\n",
              "      padding: 0 0 0 0;\n",
              "      width: 32px;\n",
              "    }\n",
              "\n",
              "    .colab-df-convert:hover {\n",
              "      background-color: #E2EBFA;\n",
              "      box-shadow: 0px 1px 2px rgba(60, 64, 67, 0.3), 0px 1px 3px 1px rgba(60, 64, 67, 0.15);\n",
              "      fill: #174EA6;\n",
              "    }\n",
              "\n",
              "    [theme=dark] .colab-df-convert {\n",
              "      background-color: #3B4455;\n",
              "      fill: #D2E3FC;\n",
              "    }\n",
              "\n",
              "    [theme=dark] .colab-df-convert:hover {\n",
              "      background-color: #434B5C;\n",
              "      box-shadow: 0px 1px 3px 1px rgba(0, 0, 0, 0.15);\n",
              "      filter: drop-shadow(0px 1px 2px rgba(0, 0, 0, 0.3));\n",
              "      fill: #FFFFFF;\n",
              "    }\n",
              "  </style>\n",
              "\n",
              "      <script>\n",
              "        const buttonEl =\n",
              "          document.querySelector('#df-59a6fc8a-110d-4b8e-a35d-686def0beedf button.colab-df-convert');\n",
              "        buttonEl.style.display =\n",
              "          google.colab.kernel.accessAllowed ? 'block' : 'none';\n",
              "\n",
              "        async function convertToInteractive(key) {\n",
              "          const element = document.querySelector('#df-59a6fc8a-110d-4b8e-a35d-686def0beedf');\n",
              "          const dataTable =\n",
              "            await google.colab.kernel.invokeFunction('convertToInteractive',\n",
              "                                                     [key], {});\n",
              "          if (!dataTable) return;\n",
              "\n",
              "          const docLinkHtml = 'Like what you see? Visit the ' +\n",
              "            '<a target=\"_blank\" href=https://colab.research.google.com/notebooks/data_table.ipynb>data table notebook</a>'\n",
              "            + ' to learn more about interactive tables.';\n",
              "          element.innerHTML = '';\n",
              "          dataTable['output_type'] = 'display_data';\n",
              "          await google.colab.output.renderOutput(dataTable, element);\n",
              "          const docLink = document.createElement('div');\n",
              "          docLink.innerHTML = docLinkHtml;\n",
              "          element.appendChild(docLink);\n",
              "        }\n",
              "      </script>\n",
              "    </div>\n",
              "  </div>\n",
              "  "
            ],
            "text/plain": [
              "                     train      test\n",
              "kNN, 10 elements  0.038404  0.042729\n",
              "kNN, 7 elements    0.03736  0.044966\n",
              "kNN, 15 elements  0.040418  0.045414"
            ]
          },
          "execution_count": 32,
          "metadata": {},
          "output_type": "execute_result"
        }
      ],
      "source": [
        "knn = KNeighborsClassifier(n_neighbors = 15)\n",
        "knn.fit(X_train, y_train)\n",
        "\n",
        "y_test_predict = knn.predict(X_test)\n",
        "y_train_predict = knn.predict(X_train)\n",
        "\n",
        "err_test  = np.mean(y_test != y_test_predict)\n",
        "err_train  = np.mean(y_train != y_train_predict)\n",
        "\n",
        "err_table.loc['kNN, 15 elements', :] = (err_train, err_test)\n",
        "err_table"
      ]
    },
    {
      "cell_type": "markdown",
      "metadata": {
        "id": "pCYgUr76gAEZ"
      },
      "source": [
        "Видим, что значение параметра выше 10 намного ухудшают качество обучения модели\n",
        "\n",
        "Возьмем значение равное 3"
      ]
    },
    {
      "cell_type": "code",
      "execution_count": null,
      "metadata": {
        "colab": {
          "base_uri": "https://localhost:8080/"
        },
        "id": "_BZJEPxfgSSw",
        "outputId": "d01047c1-d053-4dbf-df75-a12a3d5fc816"
      },
      "outputs": [
        {
          "data": {
            "text/html": [
              "\n",
              "  <div id=\"df-4479dd04-9c72-434c-9b86-339a9ab3578a\">\n",
              "    <div class=\"colab-df-container\">\n",
              "      <div>\n",
              "<style scoped>\n",
              "    .dataframe tbody tr th:only-of-type {\n",
              "        vertical-align: middle;\n",
              "    }\n",
              "\n",
              "    .dataframe tbody tr th {\n",
              "        vertical-align: top;\n",
              "    }\n",
              "\n",
              "    .dataframe thead th {\n",
              "        text-align: right;\n",
              "    }\n",
              "</style>\n",
              "<table border=\"1\" class=\"dataframe\">\n",
              "  <thead>\n",
              "    <tr style=\"text-align: right;\">\n",
              "      <th></th>\n",
              "      <th>train</th>\n",
              "      <th>test</th>\n",
              "    </tr>\n",
              "  </thead>\n",
              "  <tbody>\n",
              "    <tr>\n",
              "      <th>kNN, 10 elements</th>\n",
              "      <td>0.038404</td>\n",
              "      <td>0.042729</td>\n",
              "    </tr>\n",
              "    <tr>\n",
              "      <th>kNN, 7 elements</th>\n",
              "      <td>0.03736</td>\n",
              "      <td>0.044966</td>\n",
              "    </tr>\n",
              "    <tr>\n",
              "      <th>kNN, 15 elements</th>\n",
              "      <td>0.040418</td>\n",
              "      <td>0.045414</td>\n",
              "    </tr>\n",
              "    <tr>\n",
              "      <th>kNN, 3 elements</th>\n",
              "      <td>0.03818</td>\n",
              "      <td>0.042953</td>\n",
              "    </tr>\n",
              "  </tbody>\n",
              "</table>\n",
              "</div>\n",
              "      <button class=\"colab-df-convert\" onclick=\"convertToInteractive('df-4479dd04-9c72-434c-9b86-339a9ab3578a')\"\n",
              "              title=\"Convert this dataframe to an interactive table.\"\n",
              "              style=\"display:none;\">\n",
              "        \n",
              "  <svg xmlns=\"http://www.w3.org/2000/svg\" height=\"24px\"viewBox=\"0 0 24 24\"\n",
              "       width=\"24px\">\n",
              "    <path d=\"M0 0h24v24H0V0z\" fill=\"none\"/>\n",
              "    <path d=\"M18.56 5.44l.94 2.06.94-2.06 2.06-.94-2.06-.94-.94-2.06-.94 2.06-2.06.94zm-11 1L8.5 8.5l.94-2.06 2.06-.94-2.06-.94L8.5 2.5l-.94 2.06-2.06.94zm10 10l.94 2.06.94-2.06 2.06-.94-2.06-.94-.94-2.06-.94 2.06-2.06.94z\"/><path d=\"M17.41 7.96l-1.37-1.37c-.4-.4-.92-.59-1.43-.59-.52 0-1.04.2-1.43.59L10.3 9.45l-7.72 7.72c-.78.78-.78 2.05 0 2.83L4 21.41c.39.39.9.59 1.41.59.51 0 1.02-.2 1.41-.59l7.78-7.78 2.81-2.81c.8-.78.8-2.07 0-2.86zM5.41 20L4 18.59l7.72-7.72 1.47 1.35L5.41 20z\"/>\n",
              "  </svg>\n",
              "      </button>\n",
              "      \n",
              "  <style>\n",
              "    .colab-df-container {\n",
              "      display:flex;\n",
              "      flex-wrap:wrap;\n",
              "      gap: 12px;\n",
              "    }\n",
              "\n",
              "    .colab-df-convert {\n",
              "      background-color: #E8F0FE;\n",
              "      border: none;\n",
              "      border-radius: 50%;\n",
              "      cursor: pointer;\n",
              "      display: none;\n",
              "      fill: #1967D2;\n",
              "      height: 32px;\n",
              "      padding: 0 0 0 0;\n",
              "      width: 32px;\n",
              "    }\n",
              "\n",
              "    .colab-df-convert:hover {\n",
              "      background-color: #E2EBFA;\n",
              "      box-shadow: 0px 1px 2px rgba(60, 64, 67, 0.3), 0px 1px 3px 1px rgba(60, 64, 67, 0.15);\n",
              "      fill: #174EA6;\n",
              "    }\n",
              "\n",
              "    [theme=dark] .colab-df-convert {\n",
              "      background-color: #3B4455;\n",
              "      fill: #D2E3FC;\n",
              "    }\n",
              "\n",
              "    [theme=dark] .colab-df-convert:hover {\n",
              "      background-color: #434B5C;\n",
              "      box-shadow: 0px 1px 3px 1px rgba(0, 0, 0, 0.15);\n",
              "      filter: drop-shadow(0px 1px 2px rgba(0, 0, 0, 0.3));\n",
              "      fill: #FFFFFF;\n",
              "    }\n",
              "  </style>\n",
              "\n",
              "      <script>\n",
              "        const buttonEl =\n",
              "          document.querySelector('#df-4479dd04-9c72-434c-9b86-339a9ab3578a button.colab-df-convert');\n",
              "        buttonEl.style.display =\n",
              "          google.colab.kernel.accessAllowed ? 'block' : 'none';\n",
              "\n",
              "        async function convertToInteractive(key) {\n",
              "          const element = document.querySelector('#df-4479dd04-9c72-434c-9b86-339a9ab3578a');\n",
              "          const dataTable =\n",
              "            await google.colab.kernel.invokeFunction('convertToInteractive',\n",
              "                                                     [key], {});\n",
              "          if (!dataTable) return;\n",
              "\n",
              "          const docLinkHtml = 'Like what you see? Visit the ' +\n",
              "            '<a target=\"_blank\" href=https://colab.research.google.com/notebooks/data_table.ipynb>data table notebook</a>'\n",
              "            + ' to learn more about interactive tables.';\n",
              "          element.innerHTML = '';\n",
              "          dataTable['output_type'] = 'display_data';\n",
              "          await google.colab.output.renderOutput(dataTable, element);\n",
              "          const docLink = document.createElement('div');\n",
              "          docLink.innerHTML = docLinkHtml;\n",
              "          element.appendChild(docLink);\n",
              "        }\n",
              "      </script>\n",
              "    </div>\n",
              "  </div>\n",
              "  "
            ],
            "text/plain": [
              "                     train      test\n",
              "kNN, 10 elements  0.038404  0.042729\n",
              "kNN, 7 elements    0.03736  0.044966\n",
              "kNN, 15 elements  0.040418  0.045414\n",
              "kNN, 3 elements    0.03818  0.042953"
            ]
          },
          "execution_count": 33,
          "metadata": {},
          "output_type": "execute_result"
        }
      ],
      "source": [
        "knn = KNeighborsClassifier(n_neighbors = 3)\n",
        "knn.fit(X_train, y_train)\n",
        "\n",
        "y_test_predict = knn.predict(X_test)\n",
        "y_train_predict = knn.predict(X_train)\n",
        "\n",
        "err_test  = np.mean(y_test != y_test_predict)\n",
        "err_train  = np.mean(y_train != y_train_predict)\n",
        "\n",
        "err_table.loc['kNN, 3 elements', :] = (err_train, err_test)\n",
        "err_table"
      ]
    },
    {
      "cell_type": "markdown",
      "metadata": {
        "id": "niNZVRNFgekd"
      },
      "source": [
        "Возьмем значение равное 5"
      ]
    },
    {
      "cell_type": "code",
      "execution_count": null,
      "metadata": {
        "colab": {
          "base_uri": "https://localhost:8080/"
        },
        "id": "f2TU-BV7gZ6k",
        "outputId": "2e1fbea8-ef0b-4c8a-940a-4c9d3a44fbae"
      },
      "outputs": [
        {
          "data": {
            "text/html": [
              "\n",
              "  <div id=\"df-1b860960-66d3-49fa-a443-cd0c646f3f69\">\n",
              "    <div class=\"colab-df-container\">\n",
              "      <div>\n",
              "<style scoped>\n",
              "    .dataframe tbody tr th:only-of-type {\n",
              "        vertical-align: middle;\n",
              "    }\n",
              "\n",
              "    .dataframe tbody tr th {\n",
              "        vertical-align: top;\n",
              "    }\n",
              "\n",
              "    .dataframe thead th {\n",
              "        text-align: right;\n",
              "    }\n",
              "</style>\n",
              "<table border=\"1\" class=\"dataframe\">\n",
              "  <thead>\n",
              "    <tr style=\"text-align: right;\">\n",
              "      <th></th>\n",
              "      <th>train</th>\n",
              "      <th>test</th>\n",
              "    </tr>\n",
              "  </thead>\n",
              "  <tbody>\n",
              "    <tr>\n",
              "      <th>kNN, 10 elements</th>\n",
              "      <td>0.038404</td>\n",
              "      <td>0.042729</td>\n",
              "    </tr>\n",
              "    <tr>\n",
              "      <th>kNN, 7 elements</th>\n",
              "      <td>0.03736</td>\n",
              "      <td>0.044966</td>\n",
              "    </tr>\n",
              "    <tr>\n",
              "      <th>kNN, 15 elements</th>\n",
              "      <td>0.040418</td>\n",
              "      <td>0.045414</td>\n",
              "    </tr>\n",
              "    <tr>\n",
              "      <th>kNN, 3 elements</th>\n",
              "      <td>0.03818</td>\n",
              "      <td>0.042953</td>\n",
              "    </tr>\n",
              "    <tr>\n",
              "      <th>kNN, 5 elements</th>\n",
              "      <td>0.03654</td>\n",
              "      <td>0.044519</td>\n",
              "    </tr>\n",
              "  </tbody>\n",
              "</table>\n",
              "</div>\n",
              "      <button class=\"colab-df-convert\" onclick=\"convertToInteractive('df-1b860960-66d3-49fa-a443-cd0c646f3f69')\"\n",
              "              title=\"Convert this dataframe to an interactive table.\"\n",
              "              style=\"display:none;\">\n",
              "        \n",
              "  <svg xmlns=\"http://www.w3.org/2000/svg\" height=\"24px\"viewBox=\"0 0 24 24\"\n",
              "       width=\"24px\">\n",
              "    <path d=\"M0 0h24v24H0V0z\" fill=\"none\"/>\n",
              "    <path d=\"M18.56 5.44l.94 2.06.94-2.06 2.06-.94-2.06-.94-.94-2.06-.94 2.06-2.06.94zm-11 1L8.5 8.5l.94-2.06 2.06-.94-2.06-.94L8.5 2.5l-.94 2.06-2.06.94zm10 10l.94 2.06.94-2.06 2.06-.94-2.06-.94-.94-2.06-.94 2.06-2.06.94z\"/><path d=\"M17.41 7.96l-1.37-1.37c-.4-.4-.92-.59-1.43-.59-.52 0-1.04.2-1.43.59L10.3 9.45l-7.72 7.72c-.78.78-.78 2.05 0 2.83L4 21.41c.39.39.9.59 1.41.59.51 0 1.02-.2 1.41-.59l7.78-7.78 2.81-2.81c.8-.78.8-2.07 0-2.86zM5.41 20L4 18.59l7.72-7.72 1.47 1.35L5.41 20z\"/>\n",
              "  </svg>\n",
              "      </button>\n",
              "      \n",
              "  <style>\n",
              "    .colab-df-container {\n",
              "      display:flex;\n",
              "      flex-wrap:wrap;\n",
              "      gap: 12px;\n",
              "    }\n",
              "\n",
              "    .colab-df-convert {\n",
              "      background-color: #E8F0FE;\n",
              "      border: none;\n",
              "      border-radius: 50%;\n",
              "      cursor: pointer;\n",
              "      display: none;\n",
              "      fill: #1967D2;\n",
              "      height: 32px;\n",
              "      padding: 0 0 0 0;\n",
              "      width: 32px;\n",
              "    }\n",
              "\n",
              "    .colab-df-convert:hover {\n",
              "      background-color: #E2EBFA;\n",
              "      box-shadow: 0px 1px 2px rgba(60, 64, 67, 0.3), 0px 1px 3px 1px rgba(60, 64, 67, 0.15);\n",
              "      fill: #174EA6;\n",
              "    }\n",
              "\n",
              "    [theme=dark] .colab-df-convert {\n",
              "      background-color: #3B4455;\n",
              "      fill: #D2E3FC;\n",
              "    }\n",
              "\n",
              "    [theme=dark] .colab-df-convert:hover {\n",
              "      background-color: #434B5C;\n",
              "      box-shadow: 0px 1px 3px 1px rgba(0, 0, 0, 0.15);\n",
              "      filter: drop-shadow(0px 1px 2px rgba(0, 0, 0, 0.3));\n",
              "      fill: #FFFFFF;\n",
              "    }\n",
              "  </style>\n",
              "\n",
              "      <script>\n",
              "        const buttonEl =\n",
              "          document.querySelector('#df-1b860960-66d3-49fa-a443-cd0c646f3f69 button.colab-df-convert');\n",
              "        buttonEl.style.display =\n",
              "          google.colab.kernel.accessAllowed ? 'block' : 'none';\n",
              "\n",
              "        async function convertToInteractive(key) {\n",
              "          const element = document.querySelector('#df-1b860960-66d3-49fa-a443-cd0c646f3f69');\n",
              "          const dataTable =\n",
              "            await google.colab.kernel.invokeFunction('convertToInteractive',\n",
              "                                                     [key], {});\n",
              "          if (!dataTable) return;\n",
              "\n",
              "          const docLinkHtml = 'Like what you see? Visit the ' +\n",
              "            '<a target=\"_blank\" href=https://colab.research.google.com/notebooks/data_table.ipynb>data table notebook</a>'\n",
              "            + ' to learn more about interactive tables.';\n",
              "          element.innerHTML = '';\n",
              "          dataTable['output_type'] = 'display_data';\n",
              "          await google.colab.output.renderOutput(dataTable, element);\n",
              "          const docLink = document.createElement('div');\n",
              "          docLink.innerHTML = docLinkHtml;\n",
              "          element.appendChild(docLink);\n",
              "        }\n",
              "      </script>\n",
              "    </div>\n",
              "  </div>\n",
              "  "
            ],
            "text/plain": [
              "                     train      test\n",
              "kNN, 10 elements  0.038404  0.042729\n",
              "kNN, 7 elements    0.03736  0.044966\n",
              "kNN, 15 elements  0.040418  0.045414\n",
              "kNN, 3 elements    0.03818  0.042953\n",
              "kNN, 5 elements    0.03654  0.044519"
            ]
          },
          "execution_count": 34,
          "metadata": {},
          "output_type": "execute_result"
        }
      ],
      "source": [
        "knn = KNeighborsClassifier(n_neighbors = 5)\n",
        "knn.fit(X_train, y_train)\n",
        "\n",
        "y_test_predict = knn.predict(X_test)\n",
        "y_train_predict = knn.predict(X_train)\n",
        "\n",
        "err_test  = np.mean(y_test != y_test_predict)\n",
        "err_train  = np.mean(y_train != y_train_predict)\n",
        "\n",
        "err_table.loc['kNN, 5 elements', :] = (err_train, err_test)\n",
        "err_table"
      ]
    },
    {
      "cell_type": "markdown",
      "metadata": {
        "id": "PTq2WiFkgmvW"
      },
      "source": [
        "Возьмем значение равное 1"
      ]
    },
    {
      "cell_type": "code",
      "execution_count": null,
      "metadata": {
        "colab": {
          "base_uri": "https://localhost:8080/"
        },
        "id": "VPcoE5hbgpr5",
        "outputId": "f7f7b2f0-2eb2-4e62-92d3-037a7e5f3fb7"
      },
      "outputs": [
        {
          "data": {
            "text/html": [
              "\n",
              "  <div id=\"df-08925b85-a645-4150-8652-8e712d4dfb75\">\n",
              "    <div class=\"colab-df-container\">\n",
              "      <div>\n",
              "<style scoped>\n",
              "    .dataframe tbody tr th:only-of-type {\n",
              "        vertical-align: middle;\n",
              "    }\n",
              "\n",
              "    .dataframe tbody tr th {\n",
              "        vertical-align: top;\n",
              "    }\n",
              "\n",
              "    .dataframe thead th {\n",
              "        text-align: right;\n",
              "    }\n",
              "</style>\n",
              "<table border=\"1\" class=\"dataframe\">\n",
              "  <thead>\n",
              "    <tr style=\"text-align: right;\">\n",
              "      <th></th>\n",
              "      <th>train</th>\n",
              "      <th>test</th>\n",
              "    </tr>\n",
              "  </thead>\n",
              "  <tbody>\n",
              "    <tr>\n",
              "      <th>kNN, 10 elements</th>\n",
              "      <td>0.038404</td>\n",
              "      <td>0.042729</td>\n",
              "    </tr>\n",
              "    <tr>\n",
              "      <th>kNN, 7 elements</th>\n",
              "      <td>0.03736</td>\n",
              "      <td>0.044966</td>\n",
              "    </tr>\n",
              "    <tr>\n",
              "      <th>kNN, 15 elements</th>\n",
              "      <td>0.040418</td>\n",
              "      <td>0.045414</td>\n",
              "    </tr>\n",
              "    <tr>\n",
              "      <th>kNN, 3 elements</th>\n",
              "      <td>0.03818</td>\n",
              "      <td>0.042953</td>\n",
              "    </tr>\n",
              "    <tr>\n",
              "      <th>kNN, 5 elements</th>\n",
              "      <td>0.03654</td>\n",
              "      <td>0.044519</td>\n",
              "    </tr>\n",
              "    <tr>\n",
              "      <th>kNN, 1 elements</th>\n",
              "      <td>0.041536</td>\n",
              "      <td>0.051454</td>\n",
              "    </tr>\n",
              "  </tbody>\n",
              "</table>\n",
              "</div>\n",
              "      <button class=\"colab-df-convert\" onclick=\"convertToInteractive('df-08925b85-a645-4150-8652-8e712d4dfb75')\"\n",
              "              title=\"Convert this dataframe to an interactive table.\"\n",
              "              style=\"display:none;\">\n",
              "        \n",
              "  <svg xmlns=\"http://www.w3.org/2000/svg\" height=\"24px\"viewBox=\"0 0 24 24\"\n",
              "       width=\"24px\">\n",
              "    <path d=\"M0 0h24v24H0V0z\" fill=\"none\"/>\n",
              "    <path d=\"M18.56 5.44l.94 2.06.94-2.06 2.06-.94-2.06-.94-.94-2.06-.94 2.06-2.06.94zm-11 1L8.5 8.5l.94-2.06 2.06-.94-2.06-.94L8.5 2.5l-.94 2.06-2.06.94zm10 10l.94 2.06.94-2.06 2.06-.94-2.06-.94-.94-2.06-.94 2.06-2.06.94z\"/><path d=\"M17.41 7.96l-1.37-1.37c-.4-.4-.92-.59-1.43-.59-.52 0-1.04.2-1.43.59L10.3 9.45l-7.72 7.72c-.78.78-.78 2.05 0 2.83L4 21.41c.39.39.9.59 1.41.59.51 0 1.02-.2 1.41-.59l7.78-7.78 2.81-2.81c.8-.78.8-2.07 0-2.86zM5.41 20L4 18.59l7.72-7.72 1.47 1.35L5.41 20z\"/>\n",
              "  </svg>\n",
              "      </button>\n",
              "      \n",
              "  <style>\n",
              "    .colab-df-container {\n",
              "      display:flex;\n",
              "      flex-wrap:wrap;\n",
              "      gap: 12px;\n",
              "    }\n",
              "\n",
              "    .colab-df-convert {\n",
              "      background-color: #E8F0FE;\n",
              "      border: none;\n",
              "      border-radius: 50%;\n",
              "      cursor: pointer;\n",
              "      display: none;\n",
              "      fill: #1967D2;\n",
              "      height: 32px;\n",
              "      padding: 0 0 0 0;\n",
              "      width: 32px;\n",
              "    }\n",
              "\n",
              "    .colab-df-convert:hover {\n",
              "      background-color: #E2EBFA;\n",
              "      box-shadow: 0px 1px 2px rgba(60, 64, 67, 0.3), 0px 1px 3px 1px rgba(60, 64, 67, 0.15);\n",
              "      fill: #174EA6;\n",
              "    }\n",
              "\n",
              "    [theme=dark] .colab-df-convert {\n",
              "      background-color: #3B4455;\n",
              "      fill: #D2E3FC;\n",
              "    }\n",
              "\n",
              "    [theme=dark] .colab-df-convert:hover {\n",
              "      background-color: #434B5C;\n",
              "      box-shadow: 0px 1px 3px 1px rgba(0, 0, 0, 0.15);\n",
              "      filter: drop-shadow(0px 1px 2px rgba(0, 0, 0, 0.3));\n",
              "      fill: #FFFFFF;\n",
              "    }\n",
              "  </style>\n",
              "\n",
              "      <script>\n",
              "        const buttonEl =\n",
              "          document.querySelector('#df-08925b85-a645-4150-8652-8e712d4dfb75 button.colab-df-convert');\n",
              "        buttonEl.style.display =\n",
              "          google.colab.kernel.accessAllowed ? 'block' : 'none';\n",
              "\n",
              "        async function convertToInteractive(key) {\n",
              "          const element = document.querySelector('#df-08925b85-a645-4150-8652-8e712d4dfb75');\n",
              "          const dataTable =\n",
              "            await google.colab.kernel.invokeFunction('convertToInteractive',\n",
              "                                                     [key], {});\n",
              "          if (!dataTable) return;\n",
              "\n",
              "          const docLinkHtml = 'Like what you see? Visit the ' +\n",
              "            '<a target=\"_blank\" href=https://colab.research.google.com/notebooks/data_table.ipynb>data table notebook</a>'\n",
              "            + ' to learn more about interactive tables.';\n",
              "          element.innerHTML = '';\n",
              "          dataTable['output_type'] = 'display_data';\n",
              "          await google.colab.output.renderOutput(dataTable, element);\n",
              "          const docLink = document.createElement('div');\n",
              "          docLink.innerHTML = docLinkHtml;\n",
              "          element.appendChild(docLink);\n",
              "        }\n",
              "      </script>\n",
              "    </div>\n",
              "  </div>\n",
              "  "
            ],
            "text/plain": [
              "                     train      test\n",
              "kNN, 10 elements  0.038404  0.042729\n",
              "kNN, 7 elements    0.03736  0.044966\n",
              "kNN, 15 elements  0.040418  0.045414\n",
              "kNN, 3 elements    0.03818  0.042953\n",
              "kNN, 5 elements    0.03654  0.044519\n",
              "kNN, 1 elements   0.041536  0.051454"
            ]
          },
          "execution_count": 35,
          "metadata": {},
          "output_type": "execute_result"
        }
      ],
      "source": [
        "knn = KNeighborsClassifier(n_neighbors = 1)\n",
        "knn.fit(X_train, y_train)\n",
        "\n",
        "y_test_predict = knn.predict(X_test)\n",
        "y_train_predict = knn.predict(X_train)\n",
        "\n",
        "err_test  = np.mean(y_test != y_test_predict)\n",
        "err_train  = np.mean(y_train != y_train_predict)\n",
        "\n",
        "err_table.loc['kNN, 1 elements', :] = (err_train, err_test)\n",
        "err_table"
      ]
    },
    {
      "cell_type": "markdown",
      "metadata": {
        "id": "EeL4eE4Bg0fj"
      },
      "source": [
        "Возьмем значение равное 4"
      ]
    },
    {
      "cell_type": "code",
      "execution_count": null,
      "metadata": {
        "colab": {
          "base_uri": "https://localhost:8080/"
        },
        "id": "kJs6lgBcg1km",
        "outputId": "f1c4cdf9-bd53-487a-a6ac-cf3eea0fbb29"
      },
      "outputs": [
        {
          "data": {
            "text/html": [
              "\n",
              "  <div id=\"df-2363454d-97d9-4a62-aaf9-63db3f7479c1\">\n",
              "    <div class=\"colab-df-container\">\n",
              "      <div>\n",
              "<style scoped>\n",
              "    .dataframe tbody tr th:only-of-type {\n",
              "        vertical-align: middle;\n",
              "    }\n",
              "\n",
              "    .dataframe tbody tr th {\n",
              "        vertical-align: top;\n",
              "    }\n",
              "\n",
              "    .dataframe thead th {\n",
              "        text-align: right;\n",
              "    }\n",
              "</style>\n",
              "<table border=\"1\" class=\"dataframe\">\n",
              "  <thead>\n",
              "    <tr style=\"text-align: right;\">\n",
              "      <th></th>\n",
              "      <th>train</th>\n",
              "      <th>test</th>\n",
              "    </tr>\n",
              "  </thead>\n",
              "  <tbody>\n",
              "    <tr>\n",
              "      <th>kNN, 10 elements</th>\n",
              "      <td>0.038404</td>\n",
              "      <td>0.042729</td>\n",
              "    </tr>\n",
              "    <tr>\n",
              "      <th>kNN, 7 elements</th>\n",
              "      <td>0.03736</td>\n",
              "      <td>0.044966</td>\n",
              "    </tr>\n",
              "    <tr>\n",
              "      <th>kNN, 15 elements</th>\n",
              "      <td>0.040418</td>\n",
              "      <td>0.045414</td>\n",
              "    </tr>\n",
              "    <tr>\n",
              "      <th>kNN, 3 elements</th>\n",
              "      <td>0.03818</td>\n",
              "      <td>0.042953</td>\n",
              "    </tr>\n",
              "    <tr>\n",
              "      <th>kNN, 5 elements</th>\n",
              "      <td>0.03654</td>\n",
              "      <td>0.044519</td>\n",
              "    </tr>\n",
              "    <tr>\n",
              "      <th>kNN, 1 elements</th>\n",
              "      <td>0.041536</td>\n",
              "      <td>0.051454</td>\n",
              "    </tr>\n",
              "    <tr>\n",
              "      <th>kNN, 4 elements</th>\n",
              "      <td>0.036689</td>\n",
              "      <td>0.044966</td>\n",
              "    </tr>\n",
              "  </tbody>\n",
              "</table>\n",
              "</div>\n",
              "      <button class=\"colab-df-convert\" onclick=\"convertToInteractive('df-2363454d-97d9-4a62-aaf9-63db3f7479c1')\"\n",
              "              title=\"Convert this dataframe to an interactive table.\"\n",
              "              style=\"display:none;\">\n",
              "        \n",
              "  <svg xmlns=\"http://www.w3.org/2000/svg\" height=\"24px\"viewBox=\"0 0 24 24\"\n",
              "       width=\"24px\">\n",
              "    <path d=\"M0 0h24v24H0V0z\" fill=\"none\"/>\n",
              "    <path d=\"M18.56 5.44l.94 2.06.94-2.06 2.06-.94-2.06-.94-.94-2.06-.94 2.06-2.06.94zm-11 1L8.5 8.5l.94-2.06 2.06-.94-2.06-.94L8.5 2.5l-.94 2.06-2.06.94zm10 10l.94 2.06.94-2.06 2.06-.94-2.06-.94-.94-2.06-.94 2.06-2.06.94z\"/><path d=\"M17.41 7.96l-1.37-1.37c-.4-.4-.92-.59-1.43-.59-.52 0-1.04.2-1.43.59L10.3 9.45l-7.72 7.72c-.78.78-.78 2.05 0 2.83L4 21.41c.39.39.9.59 1.41.59.51 0 1.02-.2 1.41-.59l7.78-7.78 2.81-2.81c.8-.78.8-2.07 0-2.86zM5.41 20L4 18.59l7.72-7.72 1.47 1.35L5.41 20z\"/>\n",
              "  </svg>\n",
              "      </button>\n",
              "      \n",
              "  <style>\n",
              "    .colab-df-container {\n",
              "      display:flex;\n",
              "      flex-wrap:wrap;\n",
              "      gap: 12px;\n",
              "    }\n",
              "\n",
              "    .colab-df-convert {\n",
              "      background-color: #E8F0FE;\n",
              "      border: none;\n",
              "      border-radius: 50%;\n",
              "      cursor: pointer;\n",
              "      display: none;\n",
              "      fill: #1967D2;\n",
              "      height: 32px;\n",
              "      padding: 0 0 0 0;\n",
              "      width: 32px;\n",
              "    }\n",
              "\n",
              "    .colab-df-convert:hover {\n",
              "      background-color: #E2EBFA;\n",
              "      box-shadow: 0px 1px 2px rgba(60, 64, 67, 0.3), 0px 1px 3px 1px rgba(60, 64, 67, 0.15);\n",
              "      fill: #174EA6;\n",
              "    }\n",
              "\n",
              "    [theme=dark] .colab-df-convert {\n",
              "      background-color: #3B4455;\n",
              "      fill: #D2E3FC;\n",
              "    }\n",
              "\n",
              "    [theme=dark] .colab-df-convert:hover {\n",
              "      background-color: #434B5C;\n",
              "      box-shadow: 0px 1px 3px 1px rgba(0, 0, 0, 0.15);\n",
              "      filter: drop-shadow(0px 1px 2px rgba(0, 0, 0, 0.3));\n",
              "      fill: #FFFFFF;\n",
              "    }\n",
              "  </style>\n",
              "\n",
              "      <script>\n",
              "        const buttonEl =\n",
              "          document.querySelector('#df-2363454d-97d9-4a62-aaf9-63db3f7479c1 button.colab-df-convert');\n",
              "        buttonEl.style.display =\n",
              "          google.colab.kernel.accessAllowed ? 'block' : 'none';\n",
              "\n",
              "        async function convertToInteractive(key) {\n",
              "          const element = document.querySelector('#df-2363454d-97d9-4a62-aaf9-63db3f7479c1');\n",
              "          const dataTable =\n",
              "            await google.colab.kernel.invokeFunction('convertToInteractive',\n",
              "                                                     [key], {});\n",
              "          if (!dataTable) return;\n",
              "\n",
              "          const docLinkHtml = 'Like what you see? Visit the ' +\n",
              "            '<a target=\"_blank\" href=https://colab.research.google.com/notebooks/data_table.ipynb>data table notebook</a>'\n",
              "            + ' to learn more about interactive tables.';\n",
              "          element.innerHTML = '';\n",
              "          dataTable['output_type'] = 'display_data';\n",
              "          await google.colab.output.renderOutput(dataTable, element);\n",
              "          const docLink = document.createElement('div');\n",
              "          docLink.innerHTML = docLinkHtml;\n",
              "          element.appendChild(docLink);\n",
              "        }\n",
              "      </script>\n",
              "    </div>\n",
              "  </div>\n",
              "  "
            ],
            "text/plain": [
              "                     train      test\n",
              "kNN, 10 elements  0.038404  0.042729\n",
              "kNN, 7 elements    0.03736  0.044966\n",
              "kNN, 15 elements  0.040418  0.045414\n",
              "kNN, 3 elements    0.03818  0.042953\n",
              "kNN, 5 elements    0.03654  0.044519\n",
              "kNN, 1 elements   0.041536  0.051454\n",
              "kNN, 4 elements   0.036689  0.044966"
            ]
          },
          "execution_count": 36,
          "metadata": {},
          "output_type": "execute_result"
        }
      ],
      "source": [
        "knn = KNeighborsClassifier(n_neighbors = 4)\n",
        "knn.fit(X_train, y_train)\n",
        "\n",
        "y_test_predict = knn.predict(X_test)\n",
        "y_train_predict = knn.predict(X_train)\n",
        "\n",
        "err_test  = np.mean(y_test != y_test_predict)\n",
        "err_train  = np.mean(y_train != y_train_predict)\n",
        "\n",
        "err_table.loc['kNN, 4 elements', :] = (err_train, err_test)\n",
        "err_table"
      ]
    },
    {
      "cell_type": "markdown",
      "metadata": {
        "id": "_FlXaBo3hzqk"
      },
      "source": [
        "## Вывод"
      ]
    },
    {
      "cell_type": "markdown",
      "metadata": {
        "id": "bDykD6kTh2i6"
      },
      "source": [
        "По результатам обучения модели можно определить лучшие значения параметра. Это значения 10 и 3. Но разница между ними не столько велика, чтобы можно было с точностью определить оптимальный параметр.\n",
        "\n",
        "Значение ошибки на тестовой выборке оказалось больше, чем на тренировочной, поэтому можно сделать вывод, что переобучения модели не произошло.\n",
        "\n",
        "Ошибка достаточно мала, поэтому можно сказать, что подготовка датасета и обучение прошли успешно."
      ]
    },
    {
      "cell_type": "markdown",
      "metadata": {
        "id": "s1mq4tY9eAj2"
      },
      "source": [
        "# Лабораторная работа №5"
      ]
    },
    {
      "cell_type": "markdown",
      "metadata": {
        "id": "mHAZVSKse-Ek"
      },
      "source": [
        "## Импортируем необходимые библиотеки"
      ]
    },
    {
      "cell_type": "code",
      "execution_count": null,
      "metadata": {
        "id": "oaepfsEtfEUP"
      },
      "outputs": [],
      "source": [
        "from sklearn.neural_network import MLPClassifier\n",
        "from sklearn.metrics import accuracy_score\n",
        "from sklearn.metrics import confusion_matrix\n",
        "from sklearn.linear_model import LogisticRegression\n",
        "from sklearn.ensemble import RandomForestClassifier"
      ]
    },
    {
      "cell_type": "markdown",
      "metadata": {
        "id": "zsUZRBYyfPDx"
      },
      "source": [
        "## Обучение логистической регресии"
      ]
    },
    {
      "cell_type": "code",
      "execution_count": null,
      "metadata": {
        "colab": {
          "base_uri": "https://localhost:8080/"
        },
        "id": "PezDwtv3fMUd",
        "outputId": "c91b2519-f486-495b-a216-5e968afa91fc"
      },
      "outputs": [
        {
          "data": {
            "text/plain": [
              "LogisticRegression(max_iter=200)"
            ]
          },
          "execution_count": 38,
          "metadata": {},
          "output_type": "execute_result"
        }
      ],
      "source": [
        "logreg = LogisticRegression(solver='lbfgs', max_iter=200)\n",
        "logreg.fit(X_train, y_train)"
      ]
    },
    {
      "cell_type": "code",
      "execution_count": null,
      "metadata": {
        "colab": {
          "base_uri": "https://localhost:8080/"
        },
        "id": "gz7lsl4jxnKL",
        "outputId": "986f4602-ce42-44d6-a869-47af6bcebe61"
      },
      "outputs": [
        {
          "name": "stdout",
          "output_type": "stream",
          "text": [
            "Точность логистической регрессии на тестовом наборе: 0.95\n"
          ]
        }
      ],
      "source": [
        "y_pred_test = logreg.predict(X_test)\n",
        "print('Точность логистической регрессии на тестовом наборе: {:.2f}'.format(logreg.score(X_test, y_test)))"
      ]
    },
    {
      "cell_type": "code",
      "execution_count": null,
      "metadata": {
        "colab": {
          "base_uri": "https://localhost:8080/"
        },
        "id": "5k_sHWV3798N",
        "outputId": "9ba1672e-0755-496d-f5f3-56bddad63a14"
      },
      "outputs": [
        {
          "name": "stdout",
          "output_type": "stream",
          "text": [
            "Точность логистической регрессии на тренировочном наборе: 0.95\n"
          ]
        }
      ],
      "source": [
        "y_pred_train = logreg.predict(X_train)\n",
        "print('Точность логистической регрессии на тренировочном наборе: {:.2f}'.format(logreg.score(X_train, y_train)))"
      ]
    },
    {
      "cell_type": "markdown",
      "metadata": {
        "id": "OllUcgKf8rxL"
      },
      "source": [
        "Нет недообучения и переобучения"
      ]
    },
    {
      "cell_type": "markdown",
      "metadata": {
        "id": "vrUW4BELylzC"
      },
      "source": [
        "Выведем матрицу ошибок"
      ]
    },
    {
      "cell_type": "code",
      "execution_count": null,
      "metadata": {
        "colab": {
          "base_uri": "https://localhost:8080/"
        },
        "id": "VN_vK-lJxzXa",
        "outputId": "7cde985a-91a8-4b9b-b2f8-c3f446774751"
      },
      "outputs": [
        {
          "name": "stdout",
          "output_type": "stream",
          "text": [
            "[[4242  201]\n",
            " [   5   22]]\n"
          ]
        }
      ],
      "source": [
        "matrix = confusion_matrix(y_pred_test, y_test)\n",
        "print(matrix)"
      ]
    },
    {
      "cell_type": "markdown",
      "metadata": {
        "id": "eYNR9pQcyp2Q"
      },
      "source": [
        "Получилось, что у нас 4242+22 верных прогноза и 201+5 - ошибочных"
      ]
    },
    {
      "cell_type": "markdown",
      "metadata": {
        "id": "Un14Cn6nBltA"
      },
      "source": [
        "## Обучение RandomForestClassifier"
      ]
    },
    {
      "cell_type": "markdown",
      "metadata": {
        "id": "4NuGMXDEBvlU"
      },
      "source": [
        "Будем варировать параметр n_estimators и наблюдать за изменением ошибок"
      ]
    },
    {
      "cell_type": "code",
      "execution_count": null,
      "metadata": {
        "colab": {
          "base_uri": "https://localhost:8080/"
        },
        "id": "IGO6g_2t_kgY",
        "outputId": "e3793979-f719-4905-a55a-d4ec1b79aa74"
      },
      "outputs": [
        {
          "name": "stdout",
          "output_type": "stream",
          "text": [
            "n_estimators =  75\n",
            "err_train: 0.031170768083519762\n",
            "err_test: 0.0407158836689038\n",
            "---------\n",
            "n_estimators =  100\n",
            "err_train: 0.031170768083519762\n",
            "err_test: 0.0407158836689038\n",
            "---------\n",
            "n_estimators =  125\n",
            "err_train: 0.031170768083519762\n",
            "err_test: 0.04049217002237136\n",
            "---------\n",
            "n_estimators =  150\n",
            "err_train: 0.031170768083519762\n",
            "err_test: 0.040268456375838924\n",
            "---------\n",
            "n_estimators =  175\n",
            "err_train: 0.031170768083519762\n",
            "err_test: 0.040044742729306484\n",
            "---------\n",
            "n_estimators =  200\n",
            "err_train: 0.031170768083519762\n",
            "err_test: 0.040044742729306484\n",
            "---------\n",
            "n_estimators =  225\n",
            "err_train: 0.031170768083519762\n",
            "err_test: 0.0407158836689038\n",
            "---------\n",
            "n_estimators =  250\n",
            "err_train: 0.031170768083519762\n",
            "err_test: 0.040044742729306484\n",
            "---------\n",
            "n_estimators =  275\n",
            "err_train: 0.031170768083519762\n",
            "err_test: 0.0407158836689038\n",
            "---------\n",
            "n_estimators =  300\n",
            "err_train: 0.031170768083519762\n",
            "err_test: 0.04049217002237136\n",
            "---------\n"
          ]
        }
      ],
      "source": [
        "train_errors = []\n",
        "test_errors = []\n",
        "\n",
        "est_vals = [x for x in range(75,301,25)]\n",
        "\n",
        "for i in est_vals:\n",
        "    rfc = RandomForestClassifier(n_estimators=i)\n",
        "    rfc.fit(X_train, y_train)\n",
        "\n",
        "    y_pred_test = rfc.predict(X_test)\n",
        "    err_train = np.mean(y_train != rfc.predict(X_train))\n",
        "    err_test  = np.mean(y_test  != y_pred_test)\n",
        "    \n",
        "    train_errors.append(err_train)\n",
        "    test_errors.append(err_test)\n",
        "    print(\"n_estimators = \", i)\n",
        "    print(\"err_train:\", err_train)\n",
        "    print(\"err_test:\", err_test)\n",
        "    print(\"---------\")"
      ]
    },
    {
      "cell_type": "markdown",
      "metadata": {
        "id": "4EUiyp6vCFJs"
      },
      "source": [
        "Визуализируем получившиеся данные"
      ]
    },
    {
      "cell_type": "code",
      "execution_count": null,
      "metadata": {
        "colab": {
          "base_uri": "https://localhost:8080/",
          "height": 301
        },
        "id": "Uni3azIfCEOl",
        "outputId": "765ef6ba-cbfe-495d-c6c9-c197fadaf5e2"
      },
      "outputs": [
        {
          "data": {
            "text/plain": [
              "Text(0, 0.5, 'error')"
            ]
          },
          "execution_count": 43,
          "metadata": {},
          "output_type": "execute_result"
        },
        {
          "data": {
            "image/png": "[encoded data removed]",
            "text/plain": [
              "<Figure size 432x288 with 1 Axes>"
            ]
          },
          "metadata": {
            "needs_background": "light"
          },
          "output_type": "display_data"
        }
      ],
      "source": [
        "plt.semilogx(est_vals, train_errors, 'b-o', label = 'train')\n",
        "plt.semilogx(est_vals, test_errors, 'r-o', label = 'test')\n",
        "plt.xlabel('n_estimators')\n",
        "plt.ylabel('error')"
      ]
    },
    {
      "cell_type": "markdown",
      "metadata": {
        "id": "cDXQlrrcCRnX"
      },
      "source": [
        "Разница в ошибке составляет примерно ~0.9, что можно считать незначительной. Поэтому недообучения или переобучения не произошло. Лучший результат достигается при n_estimators =  125"
      ]
    },
    {
      "cell_type": "markdown",
      "metadata": {
        "id": "BVMuq6J1DlcD"
      },
      "source": [
        "Выведем матрицу ошибок"
      ]
    },
    {
      "cell_type": "code",
      "execution_count": null,
      "metadata": {
        "colab": {
          "base_uri": "https://localhost:8080/"
        },
        "id": "4DedeSpGDmdd",
        "outputId": "f1c5b60b-f766-4b16-dea5-6010eeb63b10"
      },
      "outputs": [
        {
          "name": "stdout",
          "output_type": "stream",
          "text": [
            "[[4228  162]\n",
            " [  19   61]]\n"
          ]
        }
      ],
      "source": [
        "matrix = confusion_matrix(y_pred_test, y_test)\n",
        "print(matrix)"
      ]
    },
    {
      "cell_type": "markdown",
      "metadata": {
        "id": "zyt3Q0y5EGwM"
      },
      "source": [
        "Получилось, что у нас 4229+61 верных прогноза и 162+18 - ошибочных"
      ]
    },
    {
      "cell_type": "markdown",
      "metadata": {
        "id": "L39hYu-UH_g1"
      },
      "source": [
        "## Полносвязная нейронная сеть"
      ]
    },
    {
      "cell_type": "markdown",
      "metadata": {
        "id": "WbA7g5OzJ1_n"
      },
      "source": [
        "Обучим полносвязную нейронную сеть с одним скрытым слоем"
      ]
    },
    {
      "cell_type": "code",
      "execution_count": null,
      "metadata": {
        "colab": {
          "base_uri": "https://localhost:8080/"
        },
        "id": "bW80xsA9KOFG",
        "outputId": "23896f8c-508b-410e-ebec-7f1c77fdd423"
      },
      "outputs": [
        {
          "data": {
            "text/plain": [
              "array([0, 0, 0, ..., 0, 0, 0])"
            ]
          },
          "execution_count": 45,
          "metadata": {},
          "output_type": "execute_result"
        }
      ],
      "source": [
        "nn_model = MLPClassifier(hidden_layer_sizes = (100,),\n",
        "                          solver = 'lbfgs',\n",
        "                          activation = 'logistic', \n",
        "                         max_iter = 300)\n",
        "nn_model.fit(X_train, y_train)\n",
        "nn_model.predict(X_test)"
      ]
    },
    {
      "cell_type": "code",
      "execution_count": null,
      "metadata": {
        "colab": {
          "base_uri": "https://localhost:8080/"
        },
        "id": "EiV8HjVyKZtO",
        "outputId": "f51e130e-605e-43b2-9858-d71f7a093b44"
      },
      "outputs": [
        {
          "name": "stdout",
          "output_type": "stream",
          "text": [
            "Точность нейронной сети на тестовом наборе: 0.96\n"
          ]
        }
      ],
      "source": [
        "y_pred_test = nn_model.predict(X_test)\n",
        "print('Точность нейронной сети на тестовом наборе: {:.2f}'.format(nn_model.score(X_test, y_test)))"
      ]
    },
    {
      "cell_type": "code",
      "execution_count": null,
      "metadata": {
        "colab": {
          "base_uri": "https://localhost:8080/"
        },
        "id": "aJSqxrL5K-tf",
        "outputId": "42d4127a-a92e-4582-d16e-55ab71f20ff1"
      },
      "outputs": [
        {
          "name": "stdout",
          "output_type": "stream",
          "text": [
            "Точность нейронной на тренировочном наборе: 0.97\n"
          ]
        }
      ],
      "source": [
        "y_pred_train = nn_model.predict(X_train)\n",
        "print('Точность нейронной на тренировочном наборе: {:.2f}'.format(nn_model.score(X_train, y_train)))"
      ]
    },
    {
      "cell_type": "markdown",
      "metadata": {
        "id": "E2vItgp2Luer"
      },
      "source": [
        "Ошибка достаточно мала, поэтому можно сказать, что подготовка датасета и обучение прошли успешно."
      ]
    },
    {
      "cell_type": "code",
      "execution_count": null,
      "metadata": {
        "colab": {
          "base_uri": "https://localhost:8080/"
        },
        "id": "pmig5NFUSsLS",
        "outputId": "cd77bb42-7102-4bcd-c26b-c4a68abb30d7"
      },
      "outputs": [
        {
          "name": "stdout",
          "output_type": "stream",
          "text": [
            "[[4224  160]\n",
            " [  23   63]]\n"
          ]
        }
      ],
      "source": [
        "matrix = confusion_matrix(y_pred_test, y_test)\n",
        "print(matrix)"
      ]
    },
    {
      "cell_type": "markdown",
      "metadata": {
        "id": "ju2zb2EYSw1l"
      },
      "source": [
        "Получилось, что у нас 4218+71 верных прогноза и 29+152 - ошибочных"
      ]
    },
    {
      "cell_type": "markdown",
      "metadata": {
        "id": "sgMPiMK3L5Ub"
      },
      "source": [
        "Будем варьировать альфа и отслеживать лучший результат"
      ]
    },
    {
      "cell_type": "code",
      "execution_count": null,
      "metadata": {
        "colab": {
          "base_uri": "https://localhost:8080/"
        },
        "id": "o14Hg7nmTT-a",
        "outputId": "0e851770-5093-4ab9-d431-8ef60304c72c"
      },
      "outputs": [
        {
          "name": "stdout",
          "output_type": "stream",
          "text": [
            "alpha =  0\n",
            "err_train: 0.031170768083519762\n",
            "err_test: 0.04093959731543624\n",
            "---------\n",
            "alpha =  2\n",
            "err_train: 0.03974645786726324\n",
            "err_test: 0.042953020134228186\n",
            "---------\n",
            "alpha =  4\n",
            "err_train: 0.04258016405667412\n",
            "err_test: 0.0436241610738255\n",
            "---------\n",
            "alpha =  6\n",
            "err_train: 0.043027591349739\n",
            "err_test: 0.0436241610738255\n",
            "---------\n",
            "alpha =  8\n",
            "err_train: 0.04541387024608501\n",
            "err_test: 0.046085011185682326\n",
            "---------\n",
            "alpha =  10\n",
            "err_train: 0.045786726323639074\n",
            "err_test: 0.046085011185682326\n",
            "---------\n",
            "alpha =  12\n",
            "err_train: 0.04675615212527964\n",
            "err_test: 0.0476510067114094\n",
            "---------\n",
            "alpha =  14\n",
            "err_train: 0.04675615212527964\n",
            "err_test: 0.0476510067114094\n",
            "---------\n",
            "alpha =  16\n",
            "err_train: 0.04690529455630127\n",
            "err_test: 0.04787472035794183\n",
            "---------\n",
            "alpha =  18\n",
            "err_train: 0.04697986577181208\n",
            "err_test: 0.04787472035794183\n",
            "---------\n",
            "alpha =  20\n",
            "err_train: 0.047949291573452645\n",
            "err_test: 0.04988814317673378\n",
            "---------\n",
            "alpha =  22\n",
            "err_train: 0.047949291573452645\n",
            "err_test: 0.04988814317673378\n",
            "---------\n",
            "alpha =  24\n",
            "err_train: 0.047949291573452645\n",
            "err_test: 0.04988814317673378\n",
            "---------\n",
            "alpha =  26\n",
            "err_train: 0.047949291573452645\n",
            "err_test: 0.04988814317673378\n",
            "---------\n",
            "alpha =  28\n",
            "err_train: 0.047949291573452645\n",
            "err_test: 0.04988814317673378\n",
            "---------\n"
          ]
        }
      ],
      "source": [
        "train_errors = []\n",
        "test_errors = []\n",
        "\n",
        "alpha_vals = [x for x in range(0,30,2)]\n",
        "\n",
        "for i in alpha_vals:\n",
        "    nn_model = MLPClassifier(alpha = i,\n",
        "                             hidden_layer_sizes = (100,),\n",
        "                          solver = 'lbfgs',\n",
        "                          activation = 'logistic', \n",
        "                         max_iter = 350)\n",
        "    nn_model.fit(X_train, y_train)\n",
        "\n",
        "    y_pred_test = nn_model.predict(X_test)\n",
        "    err_train = np.mean(y_train != nn_model.predict(X_train))\n",
        "    err_test  = np.mean(y_test  != y_pred_test)\n",
        "    \n",
        "    train_errors.append(err_train)\n",
        "    test_errors.append(err_test)\n",
        "    print(\"alpha = \", i)\n",
        "    print(\"err_train:\", err_train)\n",
        "    print(\"err_test:\", err_test)\n",
        "    print(\"---------\")"
      ]
    },
    {
      "cell_type": "markdown",
      "metadata": {
        "id": "kmtw-U3mUln6"
      },
      "source": [
        "Визуализируем получившиеся данные"
      ]
    },
    {
      "cell_type": "code",
      "execution_count": null,
      "metadata": {
        "colab": {
          "base_uri": "https://localhost:8080/",
          "height": 300
        },
        "id": "xBHyjgRvUpQK",
        "outputId": "b9c9079a-3930-454f-c9ea-81ccd9b97d14"
      },
      "outputs": [
        {
          "data": {
            "text/plain": [
              "Text(0, 0.5, 'error')"
            ]
          },
          "execution_count": 55,
          "metadata": {},
          "output_type": "execute_result"
        },
        {
          "data": {
            "image/png": "[encoded data removed]",
            "text/plain": [
              "<Figure size 432x288 with 1 Axes>"
            ]
          },
          "metadata": {
            "needs_background": "light"
          },
          "output_type": "display_data"
        }
      ],
      "source": [
        "plt.semilogx(alpha_vals, train_errors, 'b-o', label = 'train')\n",
        "plt.semilogx(alpha_vals, test_errors, 'r-o', label = 'test')\n",
        "plt.xlabel('alpha')\n",
        "plt.ylabel('error')"
      ]
    },
    {
      "cell_type": "code",
      "execution_count": null,
      "metadata": {
        "colab": {
          "base_uri": "https://localhost:8080/"
        },
        "id": "-IfNm08zuozM",
        "outputId": "de3044ea-d718-4a10-c966-4b1cf23bdc22"
      },
      "outputs": [
        {
          "name": "stdout",
          "output_type": "stream",
          "text": [
            "Точность нейронной сети на тестовом наборе: 0.95\n"
          ]
        }
      ],
      "source": [
        "y_pred_test = nn_model.predict(X_test)\n",
        "print('Точность нейронной сети на тестовом наборе: {:.2f}'.format(nn_model.score(X_test, y_test)))"
      ]
    },
    {
      "cell_type": "code",
      "execution_count": null,
      "metadata": {
        "colab": {
          "base_uri": "https://localhost:8080/"
        },
        "id": "3RyhqwRLuu75",
        "outputId": "4c6c36e9-f019-4f38-ad87-2a7e4a8d001e"
      },
      "outputs": [
        {
          "name": "stdout",
          "output_type": "stream",
          "text": [
            "Точность нейронной на тренировочном наборе: 0.95\n"
          ]
        }
      ],
      "source": [
        "y_pred_train = nn_model.predict(X_train)\n",
        "print('Точность нейронной на тренировочном наборе: {:.2f}'.format(nn_model.score(X_train, y_train)))"
      ]
    },
    {
      "cell_type": "markdown",
      "metadata": {
        "id": "RZkpEJ8FuO2o"
      },
      "source": [
        "Выведем матрицу ошибок"
      ]
    },
    {
      "cell_type": "code",
      "execution_count": null,
      "metadata": {
        "colab": {
          "base_uri": "https://localhost:8080/"
        },
        "id": "EHw1rUx9uUYS",
        "outputId": "43b67b50-97be-4d7c-c339-a77ba78b8871"
      },
      "outputs": [
        {
          "name": "stdout",
          "output_type": "stream",
          "text": [
            "[[4247  223]\n",
            " [   0    0]]\n"
          ]
        }
      ],
      "source": [
        "matrix = confusion_matrix(y_pred_test, y_test)\n",
        "print(matrix)"
      ]
    },
    {
      "cell_type": "markdown",
      "metadata": {
        "id": "8phG8AzAu55l"
      },
      "source": [
        "Наилучшее значение альфа равно нулю\n",
        "\n",
        "\n",
        "Будем варьировать количество нейронов при фиксированном значении альфа."
      ]
    },
    {
      "cell_type": "code",
      "execution_count": null,
      "metadata": {
        "colab": {
          "base_uri": "https://localhost:8080/"
        },
        "id": "ILqg5WOUvozL",
        "outputId": "367cd724-059d-4ad6-d1ba-177ced7b1d10"
      },
      "outputs": [
        {
          "name": "stdout",
          "output_type": "stream",
          "text": [
            "alpha =  10\n",
            "err_train: 0.03184190902311708\n",
            "err_test: 0.042729306487695747\n",
            "---------\n",
            "alpha =  60\n",
            "err_train: 0.031170768083519762\n",
            "err_test: 0.04161073825503356\n",
            "---------\n",
            "alpha =  110\n",
            "err_train: 0.031170768083519762\n",
            "err_test: 0.041834451901566\n",
            "---------\n",
            "alpha =  160\n",
            "err_train: 0.031170768083519762\n",
            "err_test: 0.040268456375838924\n",
            "---------\n",
            "alpha =  210\n",
            "err_train: 0.031170768083519762\n",
            "err_test: 0.042729306487695747\n",
            "---------\n",
            "alpha =  260\n",
            "err_train: 0.031170768083519762\n",
            "err_test: 0.041834451901566\n",
            "---------\n",
            "alpha =  310\n",
            "err_train: 0.031170768083519762\n",
            "err_test: 0.042281879194630875\n",
            "---------\n"
          ]
        }
      ],
      "source": [
        "train_errors = []\n",
        "test_errors = []\n",
        "element_vals = [x for x in range(10,311,50)]\n",
        "\n",
        "for i in element_vals:\n",
        "    nn_model = MLPClassifier(alpha = 0,\n",
        "                             hidden_layer_sizes = (i,),\n",
        "                          solver = 'lbfgs',\n",
        "                          activation = 'logistic', \n",
        "                         max_iter = 700)\n",
        "    nn_model.fit(X_train, y_train)\n",
        "\n",
        "    y_pred_test = nn_model.predict(X_test)\n",
        "    err_train = np.mean(y_train != nn_model.predict(X_train))\n",
        "    err_test  = np.mean(y_test  != y_pred_test)\n",
        "    \n",
        "    train_errors.append(err_train)\n",
        "    test_errors.append(err_test)\n",
        "    print(\"elements = \", i)\n",
        "    print(\"err_train:\", err_train)\n",
        "    print(\"err_test:\", err_test)\n",
        "    print(\"---------\")"
      ]
    },
    {
      "cell_type": "markdown",
      "metadata": {
        "id": "ljUvsrFE0Tad"
      },
      "source": [
        "Визуализируем получившиеся данные"
      ]
    },
    {
      "cell_type": "code",
      "execution_count": null,
      "metadata": {
        "colab": {
          "base_uri": "https://localhost:8080/",
          "height": 300
        },
        "id": "A34g7hQM0M7s",
        "outputId": "7a4bf885-8995-488b-a67c-94a6042a7330"
      },
      "outputs": [
        {
          "data": {
            "text/plain": [
              "Text(0, 0.5, 'error')"
            ]
          },
          "execution_count": 63,
          "metadata": {},
          "output_type": "execute_result"
        },
        {
          "data": {
            "image/png": "[encoded data removed]",
            "text/plain": [
              "<Figure size 432x288 with 1 Axes>"
            ]
          },
          "metadata": {
            "needs_background": "light"
          },
          "output_type": "display_data"
        }
      ],
      "source": [
        "plt.semilogx(element_vals, train_errors, 'b-o', label = 'train')\n",
        "plt.semilogx(element_vals, test_errors, 'r-o', label = 'test')\n",
        "plt.xlabel('elements')\n",
        "plt.ylabel('error')"
      ]
    },
    {
      "cell_type": "markdown",
      "metadata": {
        "id": "UdK_FYoR6BAW"
      },
      "source": [
        "Лучший результат достигается при размере 260"
      ]
    },
    {
      "cell_type": "code",
      "execution_count": null,
      "metadata": {
        "colab": {
          "base_uri": "https://localhost:8080/"
        },
        "id": "BrOeVJsj0byq",
        "outputId": "5eb95ce3-1b2b-4c5e-c0f7-635c0c1e0cce"
      },
      "outputs": [
        {
          "name": "stdout",
          "output_type": "stream",
          "text": [
            "Точность нейронной сети на тестовом наборе: 0.96\n"
          ]
        }
      ],
      "source": [
        "y_pred_test = nn_model.predict(X_test)\n",
        "print('Точность нейронной сети на тестовом наборе: {:.2f}'.format(nn_model.score(X_test, y_test)))"
      ]
    },
    {
      "cell_type": "code",
      "execution_count": null,
      "metadata": {
        "colab": {
          "base_uri": "https://localhost:8080/"
        },
        "id": "HMzhcYD90d51",
        "outputId": "14f83c44-766e-4565-ade4-004970deeb1c"
      },
      "outputs": [
        {
          "name": "stdout",
          "output_type": "stream",
          "text": [
            "Точность нейронной на тренировочном наборе: 0.97\n"
          ]
        }
      ],
      "source": [
        "y_pred_train = nn_model.predict(X_train)\n",
        "print('Точность нейронной на тренировочном наборе: {:.2f}'.format(nn_model.score(X_train, y_train)))"
      ]
    },
    {
      "cell_type": "markdown",
      "metadata": {
        "id": "02FXMfqX0j2w"
      },
      "source": [
        "Выведем матрицу ошибок"
      ]
    },
    {
      "cell_type": "code",
      "execution_count": null,
      "metadata": {
        "colab": {
          "base_uri": "https://localhost:8080/"
        },
        "id": "TrTw2YLf0ivp",
        "outputId": "1c72f204-57d7-4c8f-911a-153694f651a6"
      },
      "outputs": [
        {
          "name": "stdout",
          "output_type": "stream",
          "text": [
            "[[4215  157]\n",
            " [  32   66]]\n"
          ]
        }
      ],
      "source": [
        "matrix = confusion_matrix(y_pred_test, y_test)\n",
        "print(matrix)"
      ]
    },
    {
      "cell_type": "markdown",
      "metadata": {
        "id": "rJRc3Fte457U"
      },
      "source": [
        "Получилось, что у нас 4215+66 верных прогноза и 32+157 - ошибочных"
      ]
    },
    {
      "cell_type": "markdown",
      "metadata": {
        "id": "gY0BTm4O6Pbs"
      },
      "source": [
        "## Вывод"
      ]
    },
    {
      "cell_type": "markdown",
      "metadata": {
        "id": "qebFQDti6RfJ"
      },
      "source": [
        "Все методы обладают почти одинаковой точностью. Лучший метод выбрать сложно, но при изменениях параметров метода можно достить бОльшей точности."
      ]
    }
  ],
  "metadata": {
    "colab": {
      "provenance": []
    },
    "kernelspec": {
      "display_name": "Python 3",
      "name": "python3"
    },
    "language_info": {
      "name": "python"
    }
  },
  "nbformat": 4,
  "nbformat_minor": 0
}
